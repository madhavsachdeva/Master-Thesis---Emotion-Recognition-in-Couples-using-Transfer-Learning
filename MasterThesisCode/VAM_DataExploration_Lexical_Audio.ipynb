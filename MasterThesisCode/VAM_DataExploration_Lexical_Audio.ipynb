{
 "cells": [
  {
   "cell_type": "code",
   "execution_count": 1,
   "metadata": {},
   "outputs": [],
   "source": [
    "import numpy as np\n",
    "import pandas as pd\n",
    "import matplotlib.pyplot as plt\n",
    "import os"
   ]
  },
  {
   "cell_type": "code",
   "execution_count": 3,
   "metadata": {},
   "outputs": [
    {
     "name": "stderr",
     "output_type": "stream",
     "text": [
      "C:\\Users\\madha\\anaconda3\\lib\\site-packages\\ipykernel_launcher.py:19: SettingWithCopyWarning: \n",
      "A value is trying to be set on a copy of a slice from a DataFrame\n",
      "\n",
      "See the caveats in the documentation: https://pandas.pydata.org/pandas-docs/stable/user_guide/indexing.html#returning-a-view-versus-a-copy\n"
     ]
    },
    {
     "data": {
      "text/html": [
       "<div>\n",
       "<style scoped>\n",
       "    .dataframe tbody tr th:only-of-type {\n",
       "        vertical-align: middle;\n",
       "    }\n",
       "\n",
       "    .dataframe tbody tr th {\n",
       "        vertical-align: top;\n",
       "    }\n",
       "\n",
       "    .dataframe thead th {\n",
       "        text-align: right;\n",
       "    }\n",
       "</style>\n",
       "<table border=\"1\" class=\"dataframe\">\n",
       "  <thead>\n",
       "    <tr style=\"text-align: right;\">\n",
       "      <th></th>\n",
       "      <th>File name</th>\n",
       "      <th>SpeakerID</th>\n",
       "      <th>Transcription</th>\n",
       "      <th>Valence</th>\n",
       "      <th>Activation</th>\n",
       "      <th>Dominance</th>\n",
       "      <th>Name</th>\n",
       "      <th>Age</th>\n",
       "      <th>Gender</th>\n",
       "    </tr>\n",
       "  </thead>\n",
       "  <tbody>\n",
       "    <tr>\n",
       "      <th>0</th>\n",
       "      <td>Satz01000</td>\n",
       "      <td>1</td>\n",
       "      <td>Deine Verlobte!</td>\n",
       "      <td>-0.4777</td>\n",
       "      <td>-0.0258</td>\n",
       "      <td>-0.0982</td>\n",
       "      <td>Nancy</td>\n",
       "      <td>23</td>\n",
       "      <td>female</td>\n",
       "    </tr>\n",
       "    <tr>\n",
       "      <th>1</th>\n",
       "      <td>Satz01001</td>\n",
       "      <td>1</td>\n",
       "      <td>Du bist der Vater von Alexander !</td>\n",
       "      <td>-0.6190</td>\n",
       "      <td>0.7362</td>\n",
       "      <td>0.6136</td>\n",
       "      <td>Nancy</td>\n",
       "      <td>23</td>\n",
       "      <td>female</td>\n",
       "    </tr>\n",
       "    <tr>\n",
       "      <th>2</th>\n",
       "      <td>Satz01002</td>\n",
       "      <td>1</td>\n",
       "      <td>Ich wohne in Hörding.</td>\n",
       "      <td>-0.0623</td>\n",
       "      <td>0.1747</td>\n",
       "      <td>0.0800</td>\n",
       "      <td>Nancy</td>\n",
       "      <td>23</td>\n",
       "      <td>female</td>\n",
       "    </tr>\n",
       "    <tr>\n",
       "      <th>3</th>\n",
       "      <td>Satz01003</td>\n",
       "      <td>1</td>\n",
       "      <td>Du hast ständig vom Jugendamt Briefe gekriegt,...</td>\n",
       "      <td>-0.5860</td>\n",
       "      <td>0.4095</td>\n",
       "      <td>0.3763</td>\n",
       "      <td>Nancy</td>\n",
       "      <td>23</td>\n",
       "      <td>female</td>\n",
       "    </tr>\n",
       "    <tr>\n",
       "      <th>4</th>\n",
       "      <td>Satz01004</td>\n",
       "      <td>1</td>\n",
       "      <td>Ich habe die hier mit.</td>\n",
       "      <td>-0.2002</td>\n",
       "      <td>-0.4418</td>\n",
       "      <td>-0.2721</td>\n",
       "      <td>Nancy</td>\n",
       "      <td>23</td>\n",
       "      <td>female</td>\n",
       "    </tr>\n",
       "    <tr>\n",
       "      <th>...</th>\n",
       "      <td>...</td>\n",
       "      <td>...</td>\n",
       "      <td>...</td>\n",
       "      <td>...</td>\n",
       "      <td>...</td>\n",
       "      <td>...</td>\n",
       "      <td>...</td>\n",
       "      <td>...</td>\n",
       "      <td>...</td>\n",
       "    </tr>\n",
       "    <tr>\n",
       "      <th>942</th>\n",
       "      <td>Satz47001</td>\n",
       "      <td>47</td>\n",
       "      <td>Das stimmt nicht; ich dürfte zu meinem Vater w...</td>\n",
       "      <td>-0.3588</td>\n",
       "      <td>-0.3437</td>\n",
       "      <td>-0.1053</td>\n",
       "      <td>Saskia</td>\n",
       "      <td>NaN</td>\n",
       "      <td>female</td>\n",
       "    </tr>\n",
       "    <tr>\n",
       "      <th>943</th>\n",
       "      <td>Satz47002</td>\n",
       "      <td>47</td>\n",
       "      <td>Papa, lüge nicht, mach nicht so ein Gesicht.</td>\n",
       "      <td>-0.4421</td>\n",
       "      <td>-0.1637</td>\n",
       "      <td>-0.0321</td>\n",
       "      <td>Saskia</td>\n",
       "      <td>NaN</td>\n",
       "      <td>female</td>\n",
       "    </tr>\n",
       "    <tr>\n",
       "      <th>944</th>\n",
       "      <td>Satz47003</td>\n",
       "      <td>47</td>\n",
       "      <td>Hör auf, hier zu lügen, Papa.</td>\n",
       "      <td>-0.4292</td>\n",
       "      <td>-0.4023</td>\n",
       "      <td>-0.1379</td>\n",
       "      <td>Saskia</td>\n",
       "      <td>NaN</td>\n",
       "      <td>female</td>\n",
       "    </tr>\n",
       "    <tr>\n",
       "      <th>945</th>\n",
       "      <td>Satz47004</td>\n",
       "      <td>47</td>\n",
       "      <td>Und er war mit ihr zusammen, er hat auch meine...</td>\n",
       "      <td>-0.4457</td>\n",
       "      <td>-0.0803</td>\n",
       "      <td>-0.3093</td>\n",
       "      <td>Saskia</td>\n",
       "      <td>NaN</td>\n",
       "      <td>female</td>\n",
       "    </tr>\n",
       "    <tr>\n",
       "      <th>946</th>\n",
       "      <td>Satz47005</td>\n",
       "      <td>47</td>\n",
       "      <td>Nein äh, es ist eine schöne Überraschung, Papa...</td>\n",
       "      <td>-0.4483</td>\n",
       "      <td>-0.2389</td>\n",
       "      <td>0.0000</td>\n",
       "      <td>Saskia</td>\n",
       "      <td>NaN</td>\n",
       "      <td>female</td>\n",
       "    </tr>\n",
       "  </tbody>\n",
       "</table>\n",
       "<p>947 rows × 9 columns</p>\n",
       "</div>"
      ],
      "text/plain": [
       "     File name  SpeakerID                                      Transcription  \\\n",
       "0    Satz01000          1                                    Deine Verlobte!   \n",
       "1    Satz01001          1                  Du bist der Vater von Alexander !   \n",
       "2    Satz01002          1                              Ich wohne in Hörding.   \n",
       "3    Satz01003          1  Du hast ständig vom Jugendamt Briefe gekriegt,...   \n",
       "4    Satz01004          1                             Ich habe die hier mit.   \n",
       "..         ...        ...                                                ...   \n",
       "942  Satz47001         47  Das stimmt nicht; ich dürfte zu meinem Vater w...   \n",
       "943  Satz47002         47       Papa, lüge nicht, mach nicht so ein Gesicht.   \n",
       "944  Satz47003         47                      Hör auf, hier zu lügen, Papa.   \n",
       "945  Satz47004         47  Und er war mit ihr zusammen, er hat auch meine...   \n",
       "946  Satz47005         47  Nein äh, es ist eine schöne Überraschung, Papa...   \n",
       "\n",
       "     Valence  Activation  Dominance    Name  Age  Gender  \n",
       "0    -0.4777     -0.0258    -0.0982   Nancy   23  female  \n",
       "1    -0.6190      0.7362     0.6136   Nancy   23  female  \n",
       "2    -0.0623      0.1747     0.0800   Nancy   23  female  \n",
       "3    -0.5860      0.4095     0.3763   Nancy   23  female  \n",
       "4    -0.2002     -0.4418    -0.2721   Nancy   23  female  \n",
       "..       ...         ...        ...     ...  ...     ...  \n",
       "942  -0.3588     -0.3437    -0.1053  Saskia  NaN  female  \n",
       "943  -0.4421     -0.1637    -0.0321  Saskia  NaN  female  \n",
       "944  -0.4292     -0.4023    -0.1379  Saskia  NaN  female  \n",
       "945  -0.4457     -0.0803    -0.3093  Saskia  NaN  female  \n",
       "946  -0.4483     -0.2389     0.0000  Saskia  NaN  female  \n",
       "\n",
       "[947 rows x 9 columns]"
      ]
     },
     "execution_count": 3,
     "metadata": {},
     "output_type": "execute_result"
    }
   ],
   "source": [
    "# Get transcription data\n",
    "transcription_path = './data/VAM_Audio/docu/transcription.xls'\n",
    "transcription = pd.read_excel(transcription_path,usecols=\"A,C:F\",skiprows=1,dtype={'File name': 'string', 'Transcription': 'string'})\n",
    "\n",
    "#Create new column based on string in file name\n",
    "transcription['File name']\n",
    "\n",
    "#Split string and add column\n",
    "speakerid = transcription['File name'].str[4:6]\n",
    "transcription.insert(1,'SpeakerID', speakerid)\n",
    "transcription = transcription.astype({'SpeakerID':'int'})\n",
    "\n",
    "#Read age and gender from another file\n",
    "\n",
    "age_gender_path = './data/VAM_Audio/docu/speakers.xls'\n",
    "age_gender_speakers = pd.read_excel(age_gender_path,usecols=\"A,B,D,E\",skiprows=1,dtype={'Name': 'string','Gender': 'string'})\n",
    "\n",
    "#ID 47 has invalid age, change to na?\n",
    "age_gender_speakers['Age'][46] = float(\"nan\")\n",
    "\n",
    "#Rename speakerID to be same in both dataframes\n",
    "age_gender_speakers = age_gender_speakers.rename(columns={'ID in VAM-Audio':'SpeakerID'})\n",
    "\n",
    "#Join columns\n",
    "\n",
    "speakers_df = pd.merge(transcription,age_gender_speakers, how='left', on='SpeakerID')\n",
    "\n",
    "speakers_df\n"
   ]
  },
  {
   "cell_type": "code",
   "execution_count": 4,
   "metadata": {},
   "outputs": [
    {
     "data": {
      "image/png": "[encoded data removed]",
      "text/plain": [
       "<Figure size 432x288 with 1 Axes>"
      ]
     },
     "metadata": {
      "needs_background": "light"
     },
     "output_type": "display_data"
    },
    {
     "data": {
      "text/plain": [
       "female    36\n",
       "male      11\n",
       "Name: Gender, dtype: Int64"
      ]
     },
     "execution_count": 4,
     "metadata": {},
     "output_type": "execute_result"
    }
   ],
   "source": [
    "# Data exploration\n",
    "\n",
    "#Check distribution of male and female\n",
    "\n",
    "plt.hist(age_gender_speakers['Gender'],fill=True,color=['skyblue'])\n",
    "plt.title(\"Gender distribution of speakers\")\n",
    "plt.ylabel(\"Speakers\")\n",
    "plt.show()\n",
    "age_gender_speakers[\"Gender\"].value_counts()"
   ]
  },
  {
   "cell_type": "code",
   "execution_count": 21,
   "metadata": {},
   "outputs": [
    {
     "data": {
      "text/plain": [
       "0.027951319957761265"
      ]
     },
     "execution_count": 21,
     "metadata": {},
     "output_type": "execute_result"
    }
   ],
   "source": [
    "# Mean age\n",
    "\n",
    "age_gender_speakers['Age'].mean() #30.7\n",
    "\n",
    "age_gender_speakers['Age'].std() #11.4\n",
    "\n",
    "# Mean emotion labels\n",
    "\n",
    "speakers_df['Valence'].mean() # -0.22\n",
    "speakers_df['Activation'].mean() #0.02"
   ]
  },
  {
   "cell_type": "code",
   "execution_count": 4,
   "metadata": {},
   "outputs": [
    {
     "name": "stderr",
     "output_type": "stream",
     "text": [
      "C:\\Users\\madha\\anaconda3\\lib\\site-packages\\numpy\\lib\\histograms.py:839: RuntimeWarning: invalid value encountered in greater_equal\n",
      "  keep = (tmp_a >= first_edge)\n",
      "C:\\Users\\madha\\anaconda3\\lib\\site-packages\\numpy\\lib\\histograms.py:840: RuntimeWarning: invalid value encountered in less_equal\n",
      "  keep &= (tmp_a <= last_edge)\n"
     ]
    },
    {
     "data": {
      "image/png": "[encoded data removed]",
      "text/plain": [
       "<Figure size 432x288 with 1 Axes>"
      ]
     },
     "metadata": {
      "needs_background": "light"
     },
     "output_type": "display_data"
    }
   ],
   "source": [
    "#Check distribution of age\n",
    "plt.hist(age_gender_speakers['Age'],fill=True,color=['skyblue'],edgecolor='white')\n",
    "plt.title(\"Age distribution of speakers\")\n",
    "plt.ylabel(\"Speakers\")\n",
    "plt.show()"
   ]
  },
  {
   "cell_type": "code",
   "execution_count": 137,
   "metadata": {},
   "outputs": [],
   "source": [
    "# female = age_gender_speakers['Age'].loc[age_gender_speakers['Gender'] == 'female']\n",
    "# male = age_gender_speakers['Age'].loc[age_gender_speakers['Gender'] == 'male']\n",
    "# bins = np.linspace(20,60,10)\n",
    "# plt.hist(female,bins=bins, alpha=0.5,color=['skyblue'],edgecolor='white')\n",
    "# plt.hist(male,bins=bins,alpha=0.5,color=['blue'],edgecolor='white')\n",
    "# plt.xticks(range(20,70,10))\n",
    "# plt.show()"
   ]
  },
  {
   "cell_type": "code",
   "execution_count": 5,
   "metadata": {},
   "outputs": [
    {
     "name": "stderr",
     "output_type": "stream",
     "text": [
      "C:\\Users\\madha\\anaconda3\\lib\\site-packages\\numpy\\lib\\histograms.py:837: RuntimeWarning: invalid value encountered in greater_equal\n",
      "  keep = (tmp_a >= first_edge)\n",
      "C:\\Users\\madha\\anaconda3\\lib\\site-packages\\numpy\\lib\\histograms.py:838: RuntimeWarning: invalid value encountered in less_equal\n",
      "  keep &= (tmp_a <= last_edge)\n"
     ]
    },
    {
     "data": {
      "image/png": "[encoded data removed]",
      "text/plain": [
       "<Figure size 432x288 with 1 Axes>"
      ]
     },
     "metadata": {
      "needs_background": "light"
     },
     "output_type": "display_data"
    },
    {
     "data": {
      "image/png": "[encoded data removed]",
      "text/plain": [
       "<Figure size 432x288 with 1 Axes>"
      ]
     },
     "metadata": {
      "needs_background": "light"
     },
     "output_type": "display_data"
    }
   ],
   "source": [
    "#Age distribution per gender\n",
    "female = age_gender_speakers['Age'].loc[age_gender_speakers['Gender'] == 'female']\n",
    "plt.hist(female,fill=True,color=['skyblue'],edgecolor='white')\n",
    "plt.title(\"Age distribution of female speakers\")\n",
    "plt.ylabel(\"Speakers\")\n",
    "plt.show()\n",
    "\n",
    "#Age distribution per gender\n",
    "male = age_gender_speakers['Age'].loc[age_gender_speakers['Gender'] == 'male']\n",
    "plt.hist(male,fill=True,color=['skyblue'],edgecolor='white')\n",
    "plt.title(\"Age distribution of male speakers\")\n",
    "plt.ylabel(\"Speakers\")\n",
    "plt.show()"
   ]
  },
  {
   "cell_type": "code",
   "execution_count": 6,
   "metadata": {},
   "outputs": [
    {
     "data": {
      "image/png": "[encoded data removed]",
      "text/plain": [
       "<Figure size 432x288 with 1 Axes>"
      ]
     },
     "metadata": {
      "needs_background": "light"
     },
     "output_type": "display_data"
    }
   ],
   "source": [
    "# Sentences per speaker ID\n",
    "\n",
    "sentences_per_id = plt.hist(speakers_df['SpeakerID'],fill=True,color=['skyblue'],bins=47,edgecolor='white')\n",
    "plt.xticks(np.arange(0,47,2))\n",
    "plt.title(\"Sentence counts per ID\")\n",
    "plt.xlabel(\"Participant ID\")\n",
    "plt.ylabel(\"Sentence count\")\n",
    "plt.show()\n",
    "\n"
   ]
  },
  {
   "cell_type": "code",
   "execution_count": 26,
   "metadata": {},
   "outputs": [
    {
     "name": "stdout",
     "output_type": "stream",
     "text": [
      "20.148936170212767\n",
      "17.0\n"
     ]
    }
   ],
   "source": [
    "sentences_per_id_speakers = speakers_df.groupby('SpeakerID')['Transcription'].count().reset_index()\n",
    "print(sentences_per_id_speakers['Transcription'].mean())\n",
    "print(sentences_per_id_speakers['Transcription'].median())"
   ]
  },
  {
   "cell_type": "code",
   "execution_count": 27,
   "metadata": {},
   "outputs": [
    {
     "data": {
      "image/png": "[encoded data removed]",
      "text/plain": [
       "<Figure size 432x288 with 1 Axes>"
      ]
     },
     "metadata": {
      "needs_background": "light"
     },
     "output_type": "display_data"
    }
   ],
   "source": [
    "# Mean and median sentences per speaker\n",
    "\n",
    "sentences_per_id = plt.hist(speakers_df['SpeakerID'],fill=True,color=['skyblue'],bins=47,edgecolor='white')\n",
    "plt.xticks(np.arange(0,47,2))\n",
    "plt.title(\"Sentence counts per ID\")\n",
    "plt.xlabel(\"Participant ID\")\n",
    "plt.ylabel(\"Sentence count\")\n",
    "plt.show()"
   ]
  },
  {
   "cell_type": "code",
   "execution_count": 39,
   "metadata": {},
   "outputs": [
    {
     "data": {
      "text/plain": [
       "11.315733896515312"
      ]
     },
     "execution_count": 39,
     "metadata": {},
     "output_type": "execute_result"
    }
   ],
   "source": [
    "# Average sentence length in characters (including whitespace)\n",
    "\n",
    "speakers_df['Transcription'].apply(len).mean()\n",
    "\n",
    "#Average sentence length per speaker\n",
    "#speakers_df['Transcription'].loc[speakers_df['SpeakerID'] == 42].apply(len).mean()\n",
    "\n",
    "#Find number of words in sentences\n",
    "\n",
    "sentence_length = []\n",
    "\n",
    "for i in range(len(speakers_df)):\n",
    "    words = str.split(speakers_df['Transcription'][i])\n",
    "    sentence_length.append(len(words))\n",
    "    \n",
    "np.mean(sentence_length)"
   ]
  },
  {
   "cell_type": "code",
   "execution_count": 94,
   "metadata": {},
   "outputs": [
    {
     "data": {
      "text/plain": [
       "(array([ 7.,  7.,  4., 17.,  7.]),\n",
       " array([-0.6774 , -0.55636, -0.43532, -0.31428, -0.19324, -0.0722 ]),\n",
       " <a list of 5 Patch objects>)"
      ]
     },
     "execution_count": 94,
     "metadata": {},
     "output_type": "execute_result"
    },
    {
     "data": {
      "image/png": "[encoded data removed]",
      "text/plain": [
       "<Figure size 432x288 with 1 Axes>"
      ]
     },
     "metadata": {
      "needs_background": "light"
     },
     "output_type": "display_data"
    }
   ],
   "source": [
    "# Valence, Activation per speakerID\n",
    "\n",
    "plt.hist(speakers_df['Valence'].loc[speakers_df['SpeakerID'] == 2],bins=5,edgecolor='white')\n"
   ]
  },
  {
   "cell_type": "code",
   "execution_count": 89,
   "metadata": {},
   "outputs": [
    {
     "data": {
      "image/png": "[encoded data removed]",
      "text/plain": [
       "<Figure size 432x288 with 1 Axes>"
      ]
     },
     "metadata": {
      "needs_background": "light"
     },
     "output_type": "display_data"
    }
   ],
   "source": [
    "#Find overall arousal, valence in dataset\n",
    "\n",
    "plt.hist(speakers_df['Valence'],edgecolor='white')\n",
    "plt.title(\"Overall valence in dataset\")\n",
    "plt.xlabel(\"Valence\")\n",
    "plt.ylabel(\"Frequency\")\n",
    "plt.show()"
   ]
  },
  {
   "cell_type": "code",
   "execution_count": 88,
   "metadata": {},
   "outputs": [
    {
     "data": {
      "image/png": "[encoded data removed]",
      "text/plain": [
       "<Figure size 432x288 with 1 Axes>"
      ]
     },
     "metadata": {
      "needs_background": "light"
     },
     "output_type": "display_data"
    }
   ],
   "source": [
    "plt.hist(speakers_df['Activation'],edgecolor='white')\n",
    "plt.title(\"Overall activation in dataset\")\n",
    "plt.xlabel(\"Activation\")\n",
    "plt.ylabel(\"Frequency\")\n",
    "plt.show()"
   ]
  },
  {
   "cell_type": "code",
   "execution_count": 4,
   "metadata": {},
   "outputs": [],
   "source": [
    "# Get all the sound files\n",
    "\n",
    "#Run the following code if speech folder does not exist\n",
    "#!bash combine_audio.sh \n",
    "\n",
    "import librosa\n",
    "\n",
    "speech_path = './data/VAM_Audio/data/speech/'\n"
   ]
  },
  {
   "cell_type": "code",
   "execution_count": 24,
   "metadata": {},
   "outputs": [
    {
     "name": "stdout",
     "output_type": "stream",
     "text": [
      "Total duration of speech data in minutes: 47.80733333333329\n"
     ]
    }
   ],
   "source": [
    "#Add length of each wav file to get total duration\n",
    "\n",
    "speech = 0\n",
    "\n",
    "for speech_files in os.listdir(speech_path):\n",
    "    duration = librosa.get_duration(filename=speech_path+speech_files)\n",
    "    speech = speech + duration\n",
    "    \n",
    "print(\"Total duration of speech data in minutes:\", speech/60)\n"
   ]
  },
  {
   "cell_type": "code",
   "execution_count": 25,
   "metadata": {},
   "outputs": [],
   "source": [
    "#Create dataframe (Filename and duration of speech)\n",
    "\n",
    "speech_duration_df = pd.DataFrame(columns=[\"File name\", \"SpeechDuration(s)\"])\n",
    "\n",
    "\n",
    "for speech_files in os.listdir(speech_path):\n",
    "    duration = librosa.get_duration(filename=speech_path+speech_files)\n",
    "    filename = speech_files.replace(\".wav\",\"\")\n",
    "    speech_duration_df = speech_duration_df.append({'File name': filename, 'SpeechDuration(s)': duration},ignore_index=True)\n",
    "    \n",
    "speech_duration_df\n",
    "        \n",
    "#Align transcript and speech duration\n",
    "\n",
    "speakers_speech_data_df = pd.merge(speakers_df,speech_duration_df, how='left', on='File name')\n",
    "\n",
    "#Find total duration per speaker\n",
    "\n",
    "speaker_total_duration = speakers_speech_data_df.groupby('SpeakerID')['SpeechDuration(s)'].sum()"
   ]
  },
  {
   "cell_type": "code",
   "execution_count": 26,
   "metadata": {},
   "outputs": [],
   "source": [
    "speaker_total_duration_np = speaker_total_duration.to_numpy(copy=True)"
   ]
  },
  {
   "cell_type": "code",
   "execution_count": 27,
   "metadata": {},
   "outputs": [
    {
     "data": {
      "image/png": "[encoded data removed]",
      "text/plain": [
       "<Figure size 432x288 with 1 Axes>"
      ]
     },
     "metadata": {
      "needs_background": "light"
     },
     "output_type": "display_data"
    }
   ],
   "source": [
    "speaker_total_duration_np\n",
    "x_bar = np.arange(1,48,1)\n",
    "\n",
    "plt.bar(x_bar,speaker_total_duration_np/60)\n",
    "plt.xlabel(\"SpeakerID\")\n",
    "plt.ylabel(\"Duration (mins)\")\n",
    "plt.title(\"Total duration of speech per Speaker in Dataset\")\n",
    "plt.show()"
   ]
  },
  {
   "cell_type": "code",
   "execution_count": 30,
   "metadata": {},
   "outputs": [
    {
     "data": {
      "text/plain": [
       "1.0171773049645387"
      ]
     },
     "execution_count": 30,
     "metadata": {},
     "output_type": "execute_result"
    }
   ],
   "source": [
    "#Mean speaker duration\n",
    "\n",
    "speaker_total_duration_np.mean()/60"
   ]
  },
  {
   "cell_type": "code",
   "execution_count": 32,
   "metadata": {},
   "outputs": [
    {
     "ename": "NameError",
     "evalue": "name 'sentence_corpus_words' is not defined",
     "output_type": "error",
     "traceback": [
      "\u001b[1;31m---------------------------------------------------------------------------\u001b[0m",
      "\u001b[1;31mNameError\u001b[0m                                 Traceback (most recent call last)",
      "\u001b[1;32m<ipython-input-32-0c76f640aaaa>\u001b[0m in \u001b[0;36m<module>\u001b[1;34m\u001b[0m\n\u001b[0;32m      3\u001b[0m \u001b[1;32mimport\u001b[0m \u001b[0mnltk\u001b[0m\u001b[1;33m\u001b[0m\u001b[1;33m\u001b[0m\u001b[0m\n\u001b[0;32m      4\u001b[0m \u001b[1;33m\u001b[0m\u001b[0m\n\u001b[1;32m----> 5\u001b[1;33m \u001b[0mcorpus\u001b[0m \u001b[1;33m=\u001b[0m \u001b[0mnltk\u001b[0m\u001b[1;33m.\u001b[0m\u001b[0mword_tokenize\u001b[0m\u001b[1;33m(\u001b[0m\u001b[0msentence_corpus_words\u001b[0m\u001b[1;33m)\u001b[0m\u001b[1;33m\u001b[0m\u001b[1;33m\u001b[0m\u001b[0m\n\u001b[0m",
      "\u001b[1;31mNameError\u001b[0m: name 'sentence_corpus_words' is not defined"
     ]
    }
   ],
   "source": [
    "# Build corpus with nltk\n",
    "\n",
    "import nltk\n",
    "\n",
    "corpus = nltk.word_tokenize(sentence_corpus_words)\n"
   ]
  },
  {
   "cell_type": "code",
   "execution_count": 50,
   "metadata": {},
   "outputs": [],
   "source": [
    "# Top words\n",
    "\n",
    "#Build a corpus from transcription\n",
    "corpus = []\n",
    "sentence_corpus = speakers_df['Transcription'].str.split()\n",
    "sentence_corpus_words = sentence_corpus.values.tolist()\n",
    "\n",
    "for words in sentence_corpus_words:\n",
    "    for word in words:\n",
    "        corpus.append(word)\n",
    "        \n",
    "#speakers_df['Transcription'].value_counts()"
   ]
  },
  {
   "cell_type": "code",
   "execution_count": 65,
   "metadata": {},
   "outputs": [
    {
     "data": {
      "text/plain": [
       "7"
      ]
     },
     "execution_count": 65,
     "metadata": {},
     "output_type": "execute_result"
    }
   ],
   "source": [
    "# Average words including punctuation in sentence\n",
    "\n",
    "length_of_sentence = []\n",
    "\n",
    "for i in range(len(sentence_corpus)):\n",
    "    length_of_sentence.append(len(sentence_corpus[i]))\n",
    "    \n",
    "len(sentence_corpus[1])"
   ]
  },
  {
   "cell_type": "code",
   "execution_count": 34,
   "metadata": {},
   "outputs": [],
   "source": [
    "# Change corpus to have all lowercase\n",
    "\n",
    "corpus = list(map(str.lower,corpus))"
   ]
  },
  {
   "cell_type": "code",
   "execution_count": 35,
   "metadata": {},
   "outputs": [],
   "source": [
    "# Remove punctuation from corpus\n",
    "\n",
    "import string\n",
    "from collections import Counter\n",
    "\n",
    "table = str.maketrans('', '', string.punctuation)\n",
    "\n",
    "corpus = [word.translate(table) for word in corpus]\n"
   ]
  },
  {
   "cell_type": "code",
   "execution_count": 45,
   "metadata": {},
   "outputs": [
    {
     "name": "stdout",
     "output_type": "stream",
     "text": [
      "Length of corpus before: 10716\n",
      "Length of corpus after: 10694\n"
     ]
    }
   ],
   "source": [
    "# Remove \"\" from corpus\n",
    "\n",
    "print(\"Length of corpus before:\",len(corpus))\n",
    "for i in corpus:\n",
    "        if(i == \"\"):\n",
    "            corpus.remove(i)\n",
    "            \n",
    "print(\"Length of corpus after:\",len(corpus))"
   ]
  },
  {
   "cell_type": "code",
   "execution_count": 46,
   "metadata": {},
   "outputs": [
    {
     "data": {
      "text/plain": [
       "10694"
      ]
     },
     "execution_count": 46,
     "metadata": {},
     "output_type": "execute_result"
    }
   ],
   "source": [
    "# Vocabulary size\n",
    "\n",
    "len(corpus)"
   ]
  },
  {
   "cell_type": "code",
   "execution_count": 48,
   "metadata": {},
   "outputs": [
    {
     "data": {
      "text/plain": [
       "1644"
      ]
     },
     "execution_count": 48,
     "metadata": {},
     "output_type": "execute_result"
    }
   ],
   "source": [
    "#Unique words\n",
    "\n",
    "len(Counter(corpus).values())"
   ]
  },
  {
   "cell_type": "code",
   "execution_count": 38,
   "metadata": {},
   "outputs": [
    {
     "data": {
      "image/png": "[encoded data removed]",
      "text/plain": [
       "<Figure size 432x288 with 1 Axes>"
      ]
     },
     "metadata": {
      "needs_background": "light"
     },
     "output_type": "display_data"
    }
   ],
   "source": [
    "\n",
    "\n",
    "counts_per_word = Counter(corpus)\n",
    "most_common_words = counts_per_word.most_common()\n",
    "top_20_most_common_words = most_common_words[:20]\n",
    "\n",
    "plot_words = []\n",
    "plot_counts = []\n",
    "\n",
    "for word, freq in top_20_most_common_words:\n",
    "    plot_words.append(word)\n",
    "    plot_counts.append(freq)\n",
    "\n",
    "plt.barh(plot_words,plot_counts)\n",
    "plt.title(\"Top 20 frequent words in corpus\")\n",
    "plt.xlabel(\"Frequency\")\n",
    "plt.ylabel(\"Word\")\n",
    "plt.show()\n"
   ]
  },
  {
   "cell_type": "code",
   "execution_count": 142,
   "metadata": {},
   "outputs": [
    {
     "data": {
      "image/png": "[encoded data removed]",
      "text/plain": [
       "<Figure size 432x288 with 1 Axes>"
      ]
     },
     "metadata": {
      "needs_background": "light"
     },
     "output_type": "display_data"
    }
   ],
   "source": [
    "# Removing stopwords from corpus\n",
    "\n",
    "import nltk\n",
    "from nltk.corpus import stopwords\n",
    "#nltk.download('stopwords')\n",
    "stopwords = stopwords.words(\"german\")\n",
    "stopwords\n",
    "\n",
    "#Plot top words without stop words\n",
    "\n",
    "top_20_most_common_words = most_common_words[:50]\n",
    "\n",
    "plot_words_without_stopwords = []\n",
    "plot_counts_without_stopwords = []\n",
    "\n",
    "for word, freq in top_20_most_common_words:\n",
    "    if word not in stopwords:\n",
    "        plot_words_without_stopwords.append(word)\n",
    "        plot_counts_without_stopwords.append(freq)\n",
    "\n",
    "plt.barh(plot_words_without_stopwords,plot_counts_without_stopwords)\n",
    "plt.title(\"Top frequent words in corpus - without stopwords\")\n",
    "plt.xlabel(\"Frequency\")\n",
    "plt.ylabel(\"Word\")\n",
    "plt.show()"
   ]
  },
  {
   "cell_type": "code",
   "execution_count": 29,
   "metadata": {},
   "outputs": [],
   "source": [
    "speakers_df['Gender_binary'] = pd.Categorical(speakers_df.Gender).codes"
   ]
  },
  {
   "cell_type": "code",
   "execution_count": 38,
   "metadata": {},
   "outputs": [
    {
     "data": {
      "image/png": "[encoded data removed]",
      "text/plain": [
       "<Figure size 288x288 with 2 Axes>"
      ]
     },
     "metadata": {
      "needs_background": "light"
     },
     "output_type": "display_data"
    }
   ],
   "source": [
    "# Correlation matrix\n",
    "\n",
    "plt.matshow(speakers_df.corr(),cmap='coolwarm')\n",
    "plt.colorbar()\n",
    "plt.show()"
   ]
  },
  {
   "cell_type": "code",
   "execution_count": 39,
   "metadata": {},
   "outputs": [
    {
     "data": {
      "text/html": [
       "<style  type=\"text/css\" >\n",
       "    #T_a2d12f58_789c_11ec_8c19_bab363a1c12arow0_col0 {\n",
       "            background-color:  #b40426;\n",
       "            color:  #f1f1f1;\n",
       "        }    #T_a2d12f58_789c_11ec_8c19_bab363a1c12arow0_col1 {\n",
       "            background-color:  #c6d6f1;\n",
       "            color:  #000000;\n",
       "        }    #T_a2d12f58_789c_11ec_8c19_bab363a1c12arow0_col2 {\n",
       "            background-color:  #84a7fc;\n",
       "            color:  #000000;\n",
       "        }    #T_a2d12f58_789c_11ec_8c19_bab363a1c12arow0_col3 {\n",
       "            background-color:  #5673e0;\n",
       "            color:  #000000;\n",
       "        }    #T_a2d12f58_789c_11ec_8c19_bab363a1c12arow0_col4 {\n",
       "            background-color:  #5b7ae5;\n",
       "            color:  #000000;\n",
       "        }    #T_a2d12f58_789c_11ec_8c19_bab363a1c12arow1_col0 {\n",
       "            background-color:  #a7c5fe;\n",
       "            color:  #000000;\n",
       "        }    #T_a2d12f58_789c_11ec_8c19_bab363a1c12arow1_col1 {\n",
       "            background-color:  #b40426;\n",
       "            color:  #f1f1f1;\n",
       "        }    #T_a2d12f58_789c_11ec_8c19_bab363a1c12arow1_col2 {\n",
       "            background-color:  #3b4cc0;\n",
       "            color:  #f1f1f1;\n",
       "        }    #T_a2d12f58_789c_11ec_8c19_bab363a1c12arow1_col3 {\n",
       "            background-color:  #3b4cc0;\n",
       "            color:  #f1f1f1;\n",
       "        }    #T_a2d12f58_789c_11ec_8c19_bab363a1c12arow1_col4 {\n",
       "            background-color:  #4b64d5;\n",
       "            color:  #f1f1f1;\n",
       "        }    #T_a2d12f58_789c_11ec_8c19_bab363a1c12arow2_col0 {\n",
       "            background-color:  #5977e3;\n",
       "            color:  #000000;\n",
       "        }    #T_a2d12f58_789c_11ec_8c19_bab363a1c12arow2_col1 {\n",
       "            background-color:  #3b4cc0;\n",
       "            color:  #f1f1f1;\n",
       "        }    #T_a2d12f58_789c_11ec_8c19_bab363a1c12arow2_col2 {\n",
       "            background-color:  #b40426;\n",
       "            color:  #f1f1f1;\n",
       "        }    #T_a2d12f58_789c_11ec_8c19_bab363a1c12arow2_col3 {\n",
       "            background-color:  #cf453c;\n",
       "            color:  #f1f1f1;\n",
       "        }    #T_a2d12f58_789c_11ec_8c19_bab363a1c12arow2_col4 {\n",
       "            background-color:  #4358cb;\n",
       "            color:  #f1f1f1;\n",
       "        }    #T_a2d12f58_789c_11ec_8c19_bab363a1c12arow3_col0 {\n",
       "            background-color:  #3b4cc0;\n",
       "            color:  #f1f1f1;\n",
       "        }    #T_a2d12f58_789c_11ec_8c19_bab363a1c12arow3_col1 {\n",
       "            background-color:  #4a63d3;\n",
       "            color:  #f1f1f1;\n",
       "        }    #T_a2d12f58_789c_11ec_8c19_bab363a1c12arow3_col2 {\n",
       "            background-color:  #cd423b;\n",
       "            color:  #f1f1f1;\n",
       "        }    #T_a2d12f58_789c_11ec_8c19_bab363a1c12arow3_col3 {\n",
       "            background-color:  #b40426;\n",
       "            color:  #f1f1f1;\n",
       "        }    #T_a2d12f58_789c_11ec_8c19_bab363a1c12arow3_col4 {\n",
       "            background-color:  #3b4cc0;\n",
       "            color:  #f1f1f1;\n",
       "        }    #T_a2d12f58_789c_11ec_8c19_bab363a1c12arow4_col0 {\n",
       "            background-color:  #86a9fc;\n",
       "            color:  #000000;\n",
       "        }    #T_a2d12f58_789c_11ec_8c19_bab363a1c12arow4_col1 {\n",
       "            background-color:  #9fbfff;\n",
       "            color:  #000000;\n",
       "        }    #T_a2d12f58_789c_11ec_8c19_bab363a1c12arow4_col2 {\n",
       "            background-color:  #98b9ff;\n",
       "            color:  #000000;\n",
       "        }    #T_a2d12f58_789c_11ec_8c19_bab363a1c12arow4_col3 {\n",
       "            background-color:  #82a6fb;\n",
       "            color:  #000000;\n",
       "        }    #T_a2d12f58_789c_11ec_8c19_bab363a1c12arow4_col4 {\n",
       "            background-color:  #b40426;\n",
       "            color:  #f1f1f1;\n",
       "        }</style><table id=\"T_a2d12f58_789c_11ec_8c19_bab363a1c12a\" ><thead>    <tr>        <th class=\"blank level0\" ></th>        <th class=\"col_heading level0 col0\" >SpeakerID</th>        <th class=\"col_heading level0 col1\" >Valence</th>        <th class=\"col_heading level0 col2\" >Activation</th>        <th class=\"col_heading level0 col3\" >Dominance</th>        <th class=\"col_heading level0 col4\" >Gender_binary</th>    </tr></thead><tbody>\n",
       "                <tr>\n",
       "                        <th id=\"T_a2d12f58_789c_11ec_8c19_bab363a1c12alevel0_row0\" class=\"row_heading level0 row0\" >SpeakerID</th>\n",
       "                        <td id=\"T_a2d12f58_789c_11ec_8c19_bab363a1c12arow0_col0\" class=\"data row0 col0\" >1.000000</td>\n",
       "                        <td id=\"T_a2d12f58_789c_11ec_8c19_bab363a1c12arow0_col1\" class=\"data row0 col1\" >0.219162</td>\n",
       "                        <td id=\"T_a2d12f58_789c_11ec_8c19_bab363a1c12arow0_col2\" class=\"data row0 col2\" >-0.040412</td>\n",
       "                        <td id=\"T_a2d12f58_789c_11ec_8c19_bab363a1c12arow0_col3\" class=\"data row0 col3\" >-0.157751</td>\n",
       "                        <td id=\"T_a2d12f58_789c_11ec_8c19_bab363a1c12arow0_col4\" class=\"data row0 col4\" >0.113559</td>\n",
       "            </tr>\n",
       "            <tr>\n",
       "                        <th id=\"T_a2d12f58_789c_11ec_8c19_bab363a1c12alevel0_row1\" class=\"row_heading level0 row1\" >Valence</th>\n",
       "                        <td id=\"T_a2d12f58_789c_11ec_8c19_bab363a1c12arow1_col0\" class=\"data row1 col0\" >0.219162</td>\n",
       "                        <td id=\"T_a2d12f58_789c_11ec_8c19_bab363a1c12arow1_col1\" class=\"data row1 col1\" >1.000000</td>\n",
       "                        <td id=\"T_a2d12f58_789c_11ec_8c19_bab363a1c12arow1_col2\" class=\"data row1 col2\" >-0.342566</td>\n",
       "                        <td id=\"T_a2d12f58_789c_11ec_8c19_bab363a1c12arow1_col3\" class=\"data row1 col3\" >-0.273498</td>\n",
       "                        <td id=\"T_a2d12f58_789c_11ec_8c19_bab363a1c12arow1_col4\" class=\"data row1 col4\" >0.064076</td>\n",
       "            </tr>\n",
       "            <tr>\n",
       "                        <th id=\"T_a2d12f58_789c_11ec_8c19_bab363a1c12alevel0_row2\" class=\"row_heading level0 row2\" >Activation</th>\n",
       "                        <td id=\"T_a2d12f58_789c_11ec_8c19_bab363a1c12arow2_col0\" class=\"data row2 col0\" >-0.040412</td>\n",
       "                        <td id=\"T_a2d12f58_789c_11ec_8c19_bab363a1c12arow2_col1\" class=\"data row2 col1\" >-0.342566</td>\n",
       "                        <td id=\"T_a2d12f58_789c_11ec_8c19_bab363a1c12arow2_col2\" class=\"data row2 col2\" >1.000000</td>\n",
       "                        <td id=\"T_a2d12f58_789c_11ec_8c19_bab363a1c12arow2_col3\" class=\"data row2 col3\" >0.903700</td>\n",
       "                        <td id=\"T_a2d12f58_789c_11ec_8c19_bab363a1c12arow2_col4\" class=\"data row2 col4\" >0.037585</td>\n",
       "            </tr>\n",
       "            <tr>\n",
       "                        <th id=\"T_a2d12f58_789c_11ec_8c19_bab363a1c12alevel0_row3\" class=\"row_heading level0 row3\" >Dominance</th>\n",
       "                        <td id=\"T_a2d12f58_789c_11ec_8c19_bab363a1c12arow3_col0\" class=\"data row3 col0\" >-0.157751</td>\n",
       "                        <td id=\"T_a2d12f58_789c_11ec_8c19_bab363a1c12arow3_col1\" class=\"data row3 col1\" >-0.273498</td>\n",
       "                        <td id=\"T_a2d12f58_789c_11ec_8c19_bab363a1c12arow3_col2\" class=\"data row3 col2\" >0.903700</td>\n",
       "                        <td id=\"T_a2d12f58_789c_11ec_8c19_bab363a1c12arow3_col3\" class=\"data row3 col3\" >1.000000</td>\n",
       "                        <td id=\"T_a2d12f58_789c_11ec_8c19_bab363a1c12arow3_col4\" class=\"data row3 col4\" >0.006725</td>\n",
       "            </tr>\n",
       "            <tr>\n",
       "                        <th id=\"T_a2d12f58_789c_11ec_8c19_bab363a1c12alevel0_row4\" class=\"row_heading level0 row4\" >Gender_binary</th>\n",
       "                        <td id=\"T_a2d12f58_789c_11ec_8c19_bab363a1c12arow4_col0\" class=\"data row4 col0\" >0.113559</td>\n",
       "                        <td id=\"T_a2d12f58_789c_11ec_8c19_bab363a1c12arow4_col1\" class=\"data row4 col1\" >0.064076</td>\n",
       "                        <td id=\"T_a2d12f58_789c_11ec_8c19_bab363a1c12arow4_col2\" class=\"data row4 col2\" >0.037585</td>\n",
       "                        <td id=\"T_a2d12f58_789c_11ec_8c19_bab363a1c12arow4_col3\" class=\"data row4 col3\" >0.006725</td>\n",
       "                        <td id=\"T_a2d12f58_789c_11ec_8c19_bab363a1c12arow4_col4\" class=\"data row4 col4\" >1.000000</td>\n",
       "            </tr>\n",
       "    </tbody></table>"
      ],
      "text/plain": [
       "<pandas.io.formats.style.Styler at 0x1a3ef615048>"
      ]
     },
     "execution_count": 39,
     "metadata": {},
     "output_type": "execute_result"
    }
   ],
   "source": [
    "# Correlation matrix for numerical variables\n",
    "\n",
    "corr = speakers_df.corr()\n",
    "corr.style.background_gradient(cmap='coolwarm')"
   ]
  },
  {
   "cell_type": "markdown",
   "metadata": {},
   "source": [
    "Gender does not seem to have a strong correlation - unexpected <br/>\n",
    "Activation and dominance have a strong correlation <br/>\n",
    "Activation and valence have a weak negative correlation <br/>"
   ]
  },
  {
   "cell_type": "code",
   "execution_count": null,
   "metadata": {},
   "outputs": [],
   "source": []
  },
  {
   "cell_type": "code",
   "execution_count": 7,
   "metadata": {},
   "outputs": [
    {
     "data": {
      "text/plain": [
       "22050"
      ]
     },
     "execution_count": 7,
     "metadata": {},
     "output_type": "execute_result"
    }
   ],
   "source": [
    "# Summary statistics of acoustic features\n",
    "\n",
    "speech_path = './data/VAM_Audio/data/speech/'\n",
    "filename = 'Satz01000.wav'\n",
    "audio_np, sample_rate = librosa.load(speech_path+filename)\n",
    "\n",
    "sample_rate\n"
   ]
  },
  {
   "cell_type": "code",
   "execution_count": 9,
   "metadata": {},
   "outputs": [
    {
     "data": {
      "text/plain": [
       "<matplotlib.colorbar.Colorbar at 0x26e7c5dc408>"
      ]
     },
     "execution_count": 9,
     "metadata": {},
     "output_type": "execute_result"
    },
    {
     "data": {
      "image/png": "[encoded data removed]",
      "text/plain": [
       "<Figure size 432x288 with 2 Axes>"
      ]
     },
     "metadata": {
      "needs_background": "light"
     },
     "output_type": "display_data"
    }
   ],
   "source": [
    "import librosa.display\n",
    "\n",
    "STFT = librosa.stft(audio_np)\n",
    "audio_db = librosa.amplitude_to_db(np.abs(STFT), ref=np.max)\n",
    "librosa.display.specshow(audio_db,cmap='viridis')\n",
    "plt.ylabel(\"Hz\")\n",
    "plt.colorbar(format=\"%+2.f dB\")"
   ]
  },
  {
   "cell_type": "code",
   "execution_count": 13,
   "metadata": {},
   "outputs": [
    {
     "data": {
      "text/plain": [
       "Text(0.5, 1, 'Waveform for PID 1, Speech 1')"
      ]
     },
     "execution_count": 13,
     "metadata": {},
     "output_type": "execute_result"
    },
    {
     "data": {
      "image/png": "[encoded data removed]",
      "text/plain": [
       "<Figure size 432x288 with 1 Axes>"
      ]
     },
     "metadata": {
      "needs_background": "light"
     },
     "output_type": "display_data"
    }
   ],
   "source": [
    "librosa.display.waveshow(audio_np, sr=sample_rate)\n",
    "plt.title(\"Waveform for PID 1, Speech 1\")"
   ]
  },
  {
   "cell_type": "code",
   "execution_count": 111,
   "metadata": {},
   "outputs": [
    {
     "data": {
      "text/plain": [
       "(20, 50)"
      ]
     },
     "execution_count": 111,
     "metadata": {},
     "output_type": "execute_result"
    },
    {
     "data": {
      "image/png": "[encoded data removed]",
      "text/plain": [
       "<Figure size 432x288 with 2 Axes>"
      ]
     },
     "metadata": {
      "needs_background": "light"
     },
     "output_type": "display_data"
    }
   ],
   "source": [
    "# Mel-frequency cepstral coefficients\n",
    "\n",
    "mfcc = librosa.feature.mfcc(audio_np,sample_rate,n_mfcc=20)\n",
    "librosa.display.specshow(mfcc,cmap='viridis')\n",
    "plt.colorbar()"
   ]
  },
  {
   "cell_type": "code",
   "execution_count": 103,
   "metadata": {},
   "outputs": [
    {
     "data": {
      "image/png": "[encoded data removed]",
      "text/plain": [
       "<Figure size 432x288 with 2 Axes>"
      ]
     },
     "metadata": {
      "needs_background": "light"
     },
     "output_type": "display_data"
    }
   ],
   "source": [
    "from scipy import signal\n",
    "from scipy.io import wavfile\n",
    "\n",
    "sample_rate, samples = wavfile.read(speech_path+filename)\n",
    "\n",
    "# Convert wav from stereo to mono\n",
    "samples = samples.astype(float)\n",
    "samples = samples.sum(axis=1)/2\n",
    "\n",
    "frequencies, times, spectrogram = signal.spectrogram(samples, sample_rate)\n",
    "\n",
    "plt.pcolormesh(np.log(spectrogram))\n",
    "plt.ylabel('Frequency (Hz)')\n",
    "plt.xlabel('Time (s)')\n",
    "plt.colorbar()\n",
    "plt.show()"
   ]
  },
  {
   "cell_type": "code",
   "execution_count": null,
   "metadata": {},
   "outputs": [],
   "source": [
    "# Average length of sentence / duration per speaker"
   ]
  },
  {
   "cell_type": "code",
   "execution_count": 57,
   "metadata": {},
   "outputs": [],
   "source": [
    "# Get list of all file names with ewe\n",
    "\n",
    "# helper function to get ewe_df for each speaker\n",
    "\n",
    "def get_ewe_dataframe(data_path):\n",
    "    \n",
    "    ewe_list = []\n",
    "    \n",
    "    for ewe_files in os.listdir(data_path):\n",
    "        if(ewe_files.endswith(\".ewe\")):\n",
    "            ewe = pd.read_csv(data_path+ewe_files,delim_whitespace=True,header=None,names=[\"Valence\",\"Activation\",\"Dominance\"])\n",
    "            ewe.astype('float64')\n",
    "            ewe_list.append(ewe)\n",
    "    ewe_df = pd.concat(ewe_list,ignore_index=True)\n",
    "    return ewe_df\n",
    "\n",
    "ewe_df = get_ewe_dataframe(data_path)"
   ]
  },
  {
   "cell_type": "code",
   "execution_count": 42,
   "metadata": {},
   "outputs": [],
   "source": [
    "# Paths\n",
    "\n",
    "data_path = \"./VAM_Audio/data/Sprecher01/\"\n",
    "\n"
   ]
  },
  {
   "cell_type": "code",
   "execution_count": null,
   "metadata": {},
   "outputs": [],
   "source": [
    "# Read all data from all speakers\n",
    "# Read data from speaker 1\n",
    "\n",
    "ewe = pd.read_csv(data_path+\"Sprecher01/Satz01000.ewe\",delim_whitespace=True,header=None,names=[\"Valence\",\"Activation\",\"Dominance\"])\n",
    "ewe.astype('float64')\n"
   ]
  },
  {
   "cell_type": "code",
   "execution_count": 11,
   "metadata": {},
   "outputs": [
    {
     "name": "stdout",
     "output_type": "stream",
     "text": [
      " -5.0000000e-001  0.0000000e+000  5.0000000e-001\n",
      " -5.0000000e-001  0.0000000e+000 -5.0000000e-001\n",
      " -5.0000000e-001  0.0000000e+000  0.0000000e+000\n",
      " -5.0000000e-001  0.0000000e+000  0.0000000e+000\n",
      " -1.0000000e+000 -5.0000000e-001 -5.0000000e-001\n",
      " -5.0000000e-001 -5.0000000e-001  0.0000000e+000\n",
      " -5.0000000e-001  0.0000000e+000 -5.0000000e-001\n",
      "  0.0000000e+000 -5.0000000e-001  0.0000000e+000\n",
      " -5.0000000e-001  0.0000000e+000 -5.0000000e-001\n",
      " -5.0000000e-001  0.0000000e+000  0.0000000e+000\n",
      " -5.0000000e-001  5.0000000e-001  0.0000000e+000\n",
      " -5.0000000e-001 -5.0000000e-001  0.0000000e+000\n",
      " -5.0000000e-001  5.0000000e-001  5.0000000e-001\n",
      "  0.0000000e+000  0.0000000e+000  0.0000000e+000\n",
      " -5.0000000e-001  0.0000000e+000 -5.0000000e-001\n",
      " -5.0000000e-001  5.0000000e-001  0.0000000e+000\n",
      " -5.0000000e-001  0.0000000e+000 -5.0000000e-001\n",
      "\n"
     ]
    }
   ],
   "source": [
    "f = open(data_path + \"Sprecher01/Satz01000.eva\", \"r\")\n",
    "print(f.read())"
   ]
  },
  {
   "cell_type": "code",
   "execution_count": 32,
   "metadata": {},
   "outputs": [
    {
     "data": {
      "text/html": [
       "<div>\n",
       "<style scoped>\n",
       "    .dataframe tbody tr th:only-of-type {\n",
       "        vertical-align: middle;\n",
       "    }\n",
       "\n",
       "    .dataframe tbody tr th {\n",
       "        vertical-align: top;\n",
       "    }\n",
       "\n",
       "    .dataframe thead th {\n",
       "        text-align: right;\n",
       "    }\n",
       "</style>\n",
       "<table border=\"1\" class=\"dataframe\">\n",
       "  <thead>\n",
       "    <tr style=\"text-align: right;\">\n",
       "      <th></th>\n",
       "      <th>Valence</th>\n",
       "      <th>Activation</th>\n",
       "      <th>Dominance</th>\n",
       "    </tr>\n",
       "  </thead>\n",
       "  <tbody>\n",
       "    <tr>\n",
       "      <th>0</th>\n",
       "      <td>-0.5</td>\n",
       "      <td>0.0</td>\n",
       "      <td>0.5</td>\n",
       "    </tr>\n",
       "    <tr>\n",
       "      <th>1</th>\n",
       "      <td>-0.5</td>\n",
       "      <td>0.0</td>\n",
       "      <td>-0.5</td>\n",
       "    </tr>\n",
       "    <tr>\n",
       "      <th>2</th>\n",
       "      <td>-0.5</td>\n",
       "      <td>0.0</td>\n",
       "      <td>0.0</td>\n",
       "    </tr>\n",
       "    <tr>\n",
       "      <th>3</th>\n",
       "      <td>-0.5</td>\n",
       "      <td>0.0</td>\n",
       "      <td>0.0</td>\n",
       "    </tr>\n",
       "    <tr>\n",
       "      <th>4</th>\n",
       "      <td>-1.0</td>\n",
       "      <td>-0.5</td>\n",
       "      <td>-0.5</td>\n",
       "    </tr>\n",
       "    <tr>\n",
       "      <th>5</th>\n",
       "      <td>-0.5</td>\n",
       "      <td>-0.5</td>\n",
       "      <td>0.0</td>\n",
       "    </tr>\n",
       "    <tr>\n",
       "      <th>6</th>\n",
       "      <td>-0.5</td>\n",
       "      <td>0.0</td>\n",
       "      <td>-0.5</td>\n",
       "    </tr>\n",
       "    <tr>\n",
       "      <th>7</th>\n",
       "      <td>0.0</td>\n",
       "      <td>-0.5</td>\n",
       "      <td>0.0</td>\n",
       "    </tr>\n",
       "    <tr>\n",
       "      <th>8</th>\n",
       "      <td>-0.5</td>\n",
       "      <td>0.0</td>\n",
       "      <td>-0.5</td>\n",
       "    </tr>\n",
       "    <tr>\n",
       "      <th>9</th>\n",
       "      <td>-0.5</td>\n",
       "      <td>0.0</td>\n",
       "      <td>0.0</td>\n",
       "    </tr>\n",
       "    <tr>\n",
       "      <th>10</th>\n",
       "      <td>-0.5</td>\n",
       "      <td>0.5</td>\n",
       "      <td>0.0</td>\n",
       "    </tr>\n",
       "    <tr>\n",
       "      <th>11</th>\n",
       "      <td>-0.5</td>\n",
       "      <td>-0.5</td>\n",
       "      <td>0.0</td>\n",
       "    </tr>\n",
       "    <tr>\n",
       "      <th>12</th>\n",
       "      <td>-0.5</td>\n",
       "      <td>0.5</td>\n",
       "      <td>0.5</td>\n",
       "    </tr>\n",
       "    <tr>\n",
       "      <th>13</th>\n",
       "      <td>0.0</td>\n",
       "      <td>0.0</td>\n",
       "      <td>0.0</td>\n",
       "    </tr>\n",
       "    <tr>\n",
       "      <th>14</th>\n",
       "      <td>-0.5</td>\n",
       "      <td>0.0</td>\n",
       "      <td>-0.5</td>\n",
       "    </tr>\n",
       "    <tr>\n",
       "      <th>15</th>\n",
       "      <td>-0.5</td>\n",
       "      <td>0.5</td>\n",
       "      <td>0.0</td>\n",
       "    </tr>\n",
       "    <tr>\n",
       "      <th>16</th>\n",
       "      <td>-0.5</td>\n",
       "      <td>0.0</td>\n",
       "      <td>-0.5</td>\n",
       "    </tr>\n",
       "  </tbody>\n",
       "</table>\n",
       "</div>"
      ],
      "text/plain": [
       "    Valence  Activation  Dominance\n",
       "0      -0.5         0.0        0.5\n",
       "1      -0.5         0.0       -0.5\n",
       "2      -0.5         0.0        0.0\n",
       "3      -0.5         0.0        0.0\n",
       "4      -1.0        -0.5       -0.5\n",
       "5      -0.5        -0.5        0.0\n",
       "6      -0.5         0.0       -0.5\n",
       "7       0.0        -0.5        0.0\n",
       "8      -0.5         0.0       -0.5\n",
       "9      -0.5         0.0        0.0\n",
       "10     -0.5         0.5        0.0\n",
       "11     -0.5        -0.5        0.0\n",
       "12     -0.5         0.5        0.5\n",
       "13      0.0         0.0        0.0\n",
       "14     -0.5         0.0       -0.5\n",
       "15     -0.5         0.5        0.0\n",
       "16     -0.5         0.0       -0.5"
      ]
     },
     "execution_count": 32,
     "metadata": {},
     "output_type": "execute_result"
    }
   ],
   "source": [
    "ewa = pd.read_csv(data_path+\"Sprecher01/Satz01000.eva\",delim_whitespace=True,header=None,names=[\"Valence\",\"Activation\",\"Dominance\"])\n",
    "ewa.astype('float64')"
   ]
  },
  {
   "cell_type": "code",
   "execution_count": 34,
   "metadata": {},
   "outputs": [
    {
     "data": {
      "text/html": [
       "<div>\n",
       "<style scoped>\n",
       "    .dataframe tbody tr th:only-of-type {\n",
       "        vertical-align: middle;\n",
       "    }\n",
       "\n",
       "    .dataframe tbody tr th {\n",
       "        vertical-align: top;\n",
       "    }\n",
       "\n",
       "    .dataframe thead th {\n",
       "        text-align: right;\n",
       "    }\n",
       "</style>\n",
       "<table border=\"1\" class=\"dataframe\">\n",
       "  <thead>\n",
       "    <tr style=\"text-align: right;\">\n",
       "      <th></th>\n",
       "      <th>Valence</th>\n",
       "      <th>Activation</th>\n",
       "      <th>Dominance</th>\n",
       "    </tr>\n",
       "  </thead>\n",
       "  <tbody>\n",
       "    <tr>\n",
       "      <th>0</th>\n",
       "      <td>-0.477663</td>\n",
       "      <td>-0.025782</td>\n",
       "      <td>-0.0982</td>\n",
       "    </tr>\n",
       "  </tbody>\n",
       "</table>\n",
       "</div>"
      ],
      "text/plain": [
       "    Valence  Activation  Dominance\n",
       "0 -0.477663   -0.025782    -0.0982"
      ]
     },
     "execution_count": 34,
     "metadata": {},
     "output_type": "execute_result"
    }
   ],
   "source": [
    "ewe = pd.read_csv(data_path+\"Sprecher01/Satz01000.ewe\",delim_whitespace=True,header=None,names=[\"Valence\",\"Activation\",\"Dominance\"])\n",
    "ewe.astype('float64')"
   ]
  }
 ],
 "metadata": {
  "kernelspec": {
   "display_name": "Python 3",
   "language": "python",
   "name": "python3"
  },
  "language_info": {
   "codemirror_mode": {
    "name": "ipython",
    "version": 3
   },
   "file_extension": ".py",
   "mimetype": "text/x-python",
   "name": "python",
   "nbconvert_exporter": "python",
   "pygments_lexer": "ipython3",
   "version": "3.7.6"
  }
 },
 "nbformat": 4,
 "nbformat_minor": 4
}
