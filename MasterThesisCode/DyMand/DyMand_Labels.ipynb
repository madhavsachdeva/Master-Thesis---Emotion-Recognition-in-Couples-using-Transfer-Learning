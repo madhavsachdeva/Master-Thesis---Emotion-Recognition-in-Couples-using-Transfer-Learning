{
 "cells": [
  {
   "cell_type": "code",
   "execution_count": 6,
   "metadata": {},
   "outputs": [],
   "source": [
    "# Import libraries\n",
    "import pandas as pd\n",
    "import numpy  as np\n",
    "import os\n",
    "from scipy import stats"
   ]
  },
  {
   "cell_type": "code",
   "execution_count": 8,
   "metadata": {},
   "outputs": [],
   "source": [
    "meta = pd.read_csv(\"align_overview_sum - align_overview_sum.csv\")\n",
    "# old 432 samples\n",
    "# data = meta.loc[(meta['Arousal_binary'] != -1) & (meta['Valence_binary'] != -1) & (meta['check date'] != 0)].reset_index(drop=True)\n",
    "# data['ID'] = data['audio'].str[:5]\n",
    "# fspeak = [\"P_001\",\"P_002\",\"P_003\",\"P_004\",\"P_005\",\"P_006\",\"P_007\",\"P_008\",\"P_009\",\"P_010\",\"P_011\",\"Z_012\",\"P_013\"]\n",
    "# mspeak = [\"Z_001\",\"Z_002\",\"Z_003\",\"Z_004\",\"Z_005\",\"Z_006\",\"Z_007\",\"Z_008\",\"Z_009\",\"Z_010\",\"Z_011\",\"P_012\",\"Z_013\"]\n",
    "# data = data.loc[(data['ID'].isin(fspeak)) & (data[\"female speak\"] == \"yes\") | (data['ID'].isin(mspeak)) & (data[\"male speak\"] == \"yes\")].reset_index(drop=True)\n",
    "\n",
    "data = meta.loc[(meta['Arousal_binary'] != -1) & (meta['Valence_binary'] != -1) & (meta['check date'] != 0)].reset_index(drop=True)\n",
    "data['ID'] = data['audio'].str[:5]\n",
    "fspeak = [\"P_001\",\"P_002\",\"P_003\",\"P_004\",\"P_005\",\"P_006\",\"P_007\",\"P_008\",\"P_009\",\"P_010\",\"P_011\",\"Z_012\",\"P_013\"]\n",
    "mspeak = [\"Z_001\",\"Z_002\",\"Z_003\",\"Z_004\",\"Z_005\",\"Z_006\",\"Z_007\",\"Z_008\",\"Z_009\",\"Z_010\",\"Z_011\",\"P_012\",\"Z_013\"]\n",
    "data = data.loc[(data[\"female speak\"] == \"yes\") & (data[\"male speak\"] == \"yes\")].reset_index(drop=True)"
   ]
  },
  {
   "cell_type": "code",
   "execution_count": 9,
   "metadata": {},
   "outputs": [],
   "source": [
    "data['Name'] = data['audio'].str.split(\"\\\\\").str[:3].str.join(\"_\")"
   ]
  },
  {
   "cell_type": "code",
   "execution_count": 10,
   "metadata": {},
   "outputs": [],
   "source": [
    "labels = data[['Name','Arousal_binary','Valence_binary']]"
   ]
  },
  {
   "cell_type": "code",
   "execution_count": 11,
   "metadata": {},
   "outputs": [
    {
     "data": {
      "text/plain": [
       "(380, 3)"
      ]
     },
     "execution_count": 11,
     "metadata": {},
     "output_type": "execute_result"
    }
   ],
   "source": [
    "labels.shape"
   ]
  },
  {
   "cell_type": "code",
   "execution_count": 12,
   "metadata": {},
   "outputs": [],
   "source": [
    "labels.to_csv(\"features_labels/labels_merged.csv\", index=False)"
   ]
  }
 ],
 "metadata": {
  "kernelspec": {
   "display_name": "Python 3",
   "language": "python",
   "name": "python3"
  },
  "language_info": {
   "codemirror_mode": {
    "name": "ipython",
    "version": 3
   },
   "file_extension": ".py",
   "mimetype": "text/x-python",
   "name": "python",
   "nbconvert_exporter": "python",
   "pygments_lexer": "ipython3",
   "version": "3.7.6"
  }
 },
 "nbformat": 4,
 "nbformat_minor": 4
}
