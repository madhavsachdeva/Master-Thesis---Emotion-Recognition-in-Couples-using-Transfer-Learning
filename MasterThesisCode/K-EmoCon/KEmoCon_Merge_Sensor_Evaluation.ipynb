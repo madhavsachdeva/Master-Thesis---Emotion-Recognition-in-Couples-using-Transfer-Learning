{
 "cells": [
  {
   "cell_type": "code",
   "execution_count": 2,
   "metadata": {},
   "outputs": [],
   "source": [
    "# Import libraries\n",
    "import pandas as pd\n",
    "import numpy  as np\n",
    "import os\n",
    "import matplotlib.pyplot as plt\n",
    "from scipy import stats\n",
    "\n",
    "from sklearn import decomposition\n",
    "from sklearn.metrics import confusion_matrix\n",
    "from sklearn.ensemble import RandomForestClassifier\n",
    "from sklearn.metrics import balanced_accuracy_score\n",
    "from sklearn.metrics import accuracy_score\n",
    "from sklearn.model_selection import StratifiedGroupKFold\n",
    "from sklearn.model_selection import train_test_split\n",
    "from sklearn.svm import SVC\n",
    "from sklearn.model_selection import GridSearchCV\n",
    "from sklearn.pipeline import make_pipeline\n",
    "from sklearn.preprocessing import StandardScaler\n",
    "from sklearn.decomposition import PCA\n",
    "\n",
    "import time\n",
    "from tensorflow import keras\n",
    "import tensorflow as tf\n",
    "from keras.metrics import SparseCategoricalAccuracy\n",
    "from keras.metrics import Recall\n",
    "from sklearn.metrics import confusion_matrix\n",
    "from keras import backend as K\n",
    "import seaborn as sns\n",
    "from keras.models import Sequential\n",
    "from keras.layers import Dense\n",
    "from keras.layers import Dropout\n",
    "from keras.models import load_model\n",
    "import keras_tuner as kt\n",
    "\n",
    "# from numpy.random import seed\n",
    "# seed(1)\n",
    "# tf.random.set_seed(2)"
   ]
  },
  {
   "cell_type": "markdown",
   "metadata": {},
   "source": [
    "## Pre-processing data"
   ]
  },
  {
   "cell_type": "code",
   "execution_count": 3,
   "metadata": {},
   "outputs": [],
   "source": [
    "# Read sensor data with labels\n",
    "\n",
    "hr_original = pd.read_csv(\"../feature_extraction/heart_rate_features_all_pid.csv\")\n",
    "acc_original = pd.read_csv(\"../feature_extraction/accelerometer_features_all_pid.csv\")\n",
    "\n",
    "sensor_merge = hr_original.merge(acc_original, on=[\"timestamp\", \"pid\"], suffixes=(\"_hr\",\"_acc\"))\n",
    "\n",
    "# Create dataframe with arousal and valence\n",
    "sensor_merge_arousal = sensor_merge.drop(columns=([\"valence_bin_hr\",\"arousal_hr\",\"valence_hr\", \"arousal_bin_acc\", \"count_hr\", \"valence_bin_acc\",\"arousal_acc\",\"valence_acc\", \"count_acc\"]))\n",
    "sensor_merge_valence = sensor_merge.drop(columns=([\"arousal_bin_hr\",\"arousal_hr\",\"valence_hr\", \"valence_bin_acc\", \"count_hr\", \"arousal_bin_acc\",\"arousal_acc\",\"valence_acc\", \"count_acc\"]))\n",
    "\n",
    "# Rename arousal\n",
    "sensor_merge_arousal.rename(columns = {'arousal_bin_hr':'Arousal_binary'}, inplace = True)\n",
    "sensor_merge_valence.rename(columns = {'valence_bin_hr':'Valence_binary'}, inplace = True)\n"
   ]
  },
  {
   "cell_type": "code",
   "execution_count": 4,
   "metadata": {},
   "outputs": [
    {
     "data": {
      "image/png": "[encoded data removed]",
      "text/plain": [
       "<Figure size 1080x360 with 1 Axes>"
      ]
     },
     "metadata": {
      "needs_background": "light"
     },
     "output_type": "display_data"
    },
    {
     "data": {
      "text/plain": [
       "<Figure size 432x288 with 0 Axes>"
      ]
     },
     "metadata": {},
     "output_type": "display_data"
    }
   ],
   "source": [
    "# Removing participants with 100% imbalance\n",
    "\n",
    "arousal_df = sensor_merge_arousal.groupby(\"pid\")['Arousal_binary'].value_counts().unstack()\n",
    "valence_df = sensor_merge_valence.groupby(\"pid\")['Valence_binary'].value_counts().unstack()\n",
    "\n",
    "merged_counts = arousal_df.merge(valence_df, on='pid',suffixes=('_Arousal', '_Valence')).fillna(0)\n",
    "\n",
    "merged_counts.plot.bar(figsize=(15,5))\n",
    "plt.suptitle(\"Arousal and Valence per Participant (K-EmoCon - Sensor data)\")\n",
    "plt.ylabel(\"Frequency\")\n",
    "plt.show()\n",
    "plt.savefig(\"KEmoCon_AV_per_participant.png\")"
   ]
  },
  {
   "cell_type": "code",
   "execution_count": 5,
   "metadata": {},
   "outputs": [],
   "source": [
    "# Removing participants with 100% imbalance in arousal\n",
    "\n",
    "list_of_remove_participants_arousal = [8,27,29,32]\n",
    "for pid in list_of_remove_participants_arousal:\n",
    "    sensor_merge_arousal = sensor_merge_arousal[sensor_merge_arousal.pid != pid]\n",
    "    \n",
    "# Define groups\n",
    "sensor_merge_arousal_groups = sensor_merge_arousal['pid']"
   ]
  },
  {
   "cell_type": "code",
   "execution_count": 6,
   "metadata": {},
   "outputs": [],
   "source": [
    "# Removing participants with 100% imbalance in valence\n",
    "\n",
    "list_of_remove_participants_valence = [11,16,19,21,24,25,29]\n",
    "for pid in list_of_remove_participants_valence:\n",
    "    sensor_merge_valence = sensor_merge_valence[sensor_merge_valence.pid != pid]\n",
    "    \n",
    "# Define groups\n",
    "sensor_merge_valence_groups = sensor_merge_valence['pid']"
   ]
  },
  {
   "cell_type": "code",
   "execution_count": 7,
   "metadata": {},
   "outputs": [
    {
     "name": "stdout",
     "output_type": "stream",
     "text": [
      "(3450, 17)\n",
      "(3451, 17)\n",
      "(3450, 32)\n",
      "\n",
      "(2959, 23)\n",
      "(2601, 23)\n"
     ]
    }
   ],
   "source": [
    "# Shapes to check if merge done properly and samples left after removing participants in each emotion dimension\n",
    "\n",
    "print(hr_original.shape)\n",
    "print(acc_original.shape)\n",
    "print(sensor_merge.shape)\n",
    "print()\n",
    "print(sensor_merge_arousal.shape)\n",
    "print(sensor_merge_valence.shape)"
   ]
  },
  {
   "cell_type": "markdown",
   "metadata": {},
   "source": [
    "## Applying ML and DNN"
   ]
  },
  {
   "cell_type": "code",
   "execution_count": 8,
   "metadata": {},
   "outputs": [
    {
     "name": "stdout",
     "output_type": "stream",
     "text": [
      "(2592, 20)\n",
      "(367, 20)\n",
      "Train test groups:  [ 1  4  5  9 10 11 13 14 15 16 17 19 20 21 22 24 25 26 28 30 31]\n",
      "Validation groups:  [12 18 23]\n"
     ]
    }
   ],
   "source": [
    "# Splitting in X and y and validation\n",
    "\n",
    "smA_x_all = sensor_merge_arousal.drop(columns=([\"timestamp\",\"Arousal_binary\",\"pid\"]))\n",
    "smA_y_all = sensor_merge_arousal[\"Arousal_binary\"]\n",
    "\n",
    "# Get stratified split to make validation set\n",
    "cv = StratifiedGroupKFold(n_splits=8, random_state=4, shuffle=True)\n",
    "for folds, (train_idxs, test_idxs) in enumerate(cv.split(smA_x_all, smA_y_all, sensor_merge_arousal_groups)):\n",
    "    if folds == 1: \n",
    "        smA_x = smA_x_all.iloc[train_idxs]\n",
    "        smA_y = smA_y_all.iloc[train_idxs]\n",
    "        smA_x_val = smA_x_all.iloc[test_idxs]\n",
    "        smA_y_val = smA_y_all.iloc[test_idxs]\n",
    "\n",
    "        train_test_groups_arousal = sensor_merge_arousal_groups.iloc[train_idxs]\n",
    "        val_groups_arousal = sensor_merge_arousal_groups.iloc[test_idxs]\n",
    "\n",
    "        train_test_groups_arousal_unique = np.unique(sensor_merge_arousal_groups.iloc[train_idxs])\n",
    "        val_groups_arousal_unique = np.unique(sensor_merge_arousal_groups.iloc[test_idxs])\n",
    "        \n",
    "print(smA_x.shape)\n",
    "print(smA_x_val.shape)\n",
    "print(\"Train test groups: \", train_test_groups_arousal_unique)\n",
    "print(\"Validation groups: \", val_groups_arousal_unique)"
   ]
  },
  {
   "cell_type": "code",
   "execution_count": 149,
   "metadata": {},
   "outputs": [
    {
     "name": "stdout",
     "output_type": "stream",
     "text": [
      "Fitting 6 folds for each of 192 candidates, totalling 1152 fits\n",
      "Best Score: 0.5231898954251143\n",
      "Best Hyperparameters: {'C': 1, 'class_weight': None, 'degree': 2, 'kernel': 'sigmoid'}\n"
     ]
    }
   ],
   "source": [
    "# Hyperparameter tuning SVM\n",
    "\n",
    "# StratifiedKGroupFold\n",
    "sgkf = StratifiedGroupKFold(n_splits=6, random_state=10, shuffle=True)\n",
    "svm = SVC()\n",
    "\n",
    "# Grid search\n",
    "space = dict()\n",
    "space['degree'] = [2,3,4]\n",
    "space['kernel'] = ['linear', 'poly', 'rbf', 'sigmoid']\n",
    "space['C'] = [1e-6, 1e-5, 1e-4, 1e-3, 1e-2, 1e-1, 1, 10]\n",
    "space['class_weight'] = ['balanced',None]\n",
    "search = GridSearchCV(svm, space, scoring='balanced_accuracy', verbose=4, n_jobs=-1, cv=sgkf)\n",
    "result = search.fit(smA_x, smA_y, groups=train_test_groups_arousal)\n",
    "\n",
    "# summarize result\n",
    "print('Best Score: %s' % result.best_score_)\n",
    "print('Best Hyperparameters: %s' % result.best_params_)\n"
   ]
  },
  {
   "cell_type": "code",
   "execution_count": 9,
   "metadata": {},
   "outputs": [
    {
     "data": {
      "image/png": "[encoded data removed]",
      "text/plain": [
       "<Figure size 720x360 with 4 Axes>"
      ]
     },
     "metadata": {
      "needs_background": "light"
     },
     "output_type": "display_data"
    },
    {
     "name": "stdout",
     "output_type": "stream",
     "text": [
      "SVM validation Arousal score with best hyperparameters: 0.5973092998955067\n"
     ]
    }
   ],
   "source": [
    "# Using the hyperparameters on validation set\n",
    "# Change X_train variable names to avoid confusion later\n",
    "\n",
    "X_train = smA_x\n",
    "y_train = smA_y\n",
    "X_test = smA_x_val\n",
    "y_test = smA_y_val\n",
    "\n",
    "# StandardScaler\n",
    "scaler = StandardScaler()\n",
    "X_train_scaled = scaler.fit_transform(X_train)\n",
    "X_test_scaled = scaler.transform(X_test)\n",
    "\n",
    "# Fitting SVM training\n",
    "svm = SVC(C=1,class_weight=None, degree=2, kernel=\"sigmoid\")\n",
    "svm.fit(X_train_scaled, y_train),\n",
    "y_pred = svm.predict(X_test_scaled)\n",
    "\n",
    "uar = balanced_accuracy_score(y_test,y_pred)\n",
    "\n",
    "# Plotting the confusion matrix\n",
    "cm = confusion_matrix(y_test,y_pred)\n",
    "cm_normalized = confusion_matrix(y_test,y_pred, normalize=\"true\")\n",
    "fig, axs = plt.subplots(1, 2, figsize=(10,5))\n",
    "fig.suptitle('SVC K-EmoCon Early fusion (Accelerometer and Heart Rate) - Arousal')\n",
    "sns.heatmap(cm, annot=True, annot_kws={\"size\": 12},cmap=\"Blues\",fmt='g', ax=axs[0]) \n",
    "sns.heatmap(cm_normalized, annot=True, annot_kws={\"size\": 12},cmap=\"Blues\",fmt='g', ax=axs[1]) \n",
    "axs[0].set_title('Arousal classification')\n",
    "axs[1].set_title('Arousal classification normalized')\n",
    "for ax in axs.flat:\n",
    "    ax.set(xlabel='Predicted labels', ylabel='True labels')\n",
    "fig.tight_layout(rect=[0, 0.03, 1, 0.95])\n",
    "plt.show()\n",
    "\n",
    "print(\"SVM validation Arousal score with best hyperparameters:\", uar)"
   ]
  },
  {
   "cell_type": "code",
   "execution_count": 10,
   "metadata": {},
   "outputs": [
    {
     "name": "stdout",
     "output_type": "stream",
     "text": [
      "Training groups:  [ 4  5  9 10 11 13 14 15 16 17 19 20 21 22 24 25 26 31]\n",
      "Testing groups:  [ 1 28 30]\n"
     ]
    }
   ],
   "source": [
    "# Creating a train and test set for hyperparameter tuning\n",
    "\n",
    "cv = StratifiedGroupKFold(n_splits=8, random_state=9, shuffle=True)\n",
    "for folds, (train_idxs, test_idxs) in enumerate(cv.split(smA_x, smA_y, train_test_groups_arousal)):\n",
    "    if folds == 1: \n",
    "        smA_x_train = smA_x_all.iloc[train_idxs]\n",
    "        smA_y_train = smA_y_all.iloc[train_idxs]\n",
    "        smA_x_test = smA_x_all.iloc[test_idxs]\n",
    "        smA_y_test = smA_y_all.iloc[test_idxs]\n",
    "        \n",
    "        smA_x_train_groups = np.unique(train_test_groups_arousal.iloc[train_idxs])\n",
    "        smA_x_test_groups = np.unique(train_test_groups_arousal.iloc[test_idxs])\n",
    "        \n",
    "print(\"Training groups: \", smA_x_train_groups)\n",
    "print(\"Testing groups: \", smA_x_test_groups)\n",
    "\n",
    "# StandardScaler\n",
    "scaler = StandardScaler()\n",
    "smA_x_train = scaler.fit_transform(smA_x_train)\n",
    "smA_x_test = scaler.transform(smA_x_test)"
   ]
  },
  {
   "cell_type": "code",
   "execution_count": 11,
   "metadata": {},
   "outputs": [],
   "source": [
    "def UAR_metric(y_true, y_pred):\n",
    "    tp = K.sum(K.round(K.clip(y_true * y_pred, 0, 1)))\n",
    "    tn = K.sum(K.round(K.clip((1 - y_true) * (1 - y_pred), 0, 1)))\n",
    "    fp = K.sum(K.round(K.clip((1 - y_true) * y_pred, 0, 1)))\n",
    "    fn = K.sum(K.round(K.clip(y_true * (1 - y_pred), 0, 1)))\n",
    "    uar = ((tp / (tp+fn+K.epsilon())) + (tn /(tn+fp+K.epsilon()))) /2\n",
    "    return uar"
   ]
  },
  {
   "cell_type": "code",
   "execution_count": 165,
   "metadata": {},
   "outputs": [
    {
     "name": "stdout",
     "output_type": "stream",
     "text": [
      "INFO:tensorflow:Reloading Oracle from existing project KEmoCon_SensorMerge\\Trial8Arousal\\oracle.json\n",
      "INFO:tensorflow:Reloading Tuner from KEmoCon_SensorMerge\\Trial8Arousal\\tuner0.json\n",
      "INFO:tensorflow:Oracle triggered exit\n",
      "\n",
      "The hyperparameter search is complete. \n",
      " First layer: 32 \n",
      " Second layer: 448 \n",
      " Third layer: 256 \n",
      " \n",
      " Dropout 1: 0.4 \n",
      " Dropout 2: 0.4 \n",
      " Dropout 3: 0.3 \n",
      " and the optimal learning rate for the optimizer\n",
      "is 1e-05.\n",
      "\n"
     ]
    }
   ],
   "source": [
    "# Hyperparameter tuning\n",
    "\n",
    "def model_builder(hp):\n",
    "    model = keras.Sequential()\n",
    "    hp_units = hp.Int('units', min_value=16, max_value=512, step=16)\n",
    "    model.add(Dense(hp_units, input_dim=20, activation=\"relu\"))\n",
    "    # Tune the number of units in the first Dense layer\n",
    "    # Choose an optimal value between 32-512\n",
    "    \n",
    "    dp1 = hp.Choice('dp1', values=[0.0, 0.1, 0.2, 0.3, 0.4, 0.5])\n",
    "    model.add(Dropout(dp1))\n",
    "    \n",
    "    hp_units1 = hp.Int('units1', min_value=16, max_value=512, step=16)\n",
    "    model.add(Dense(units=hp_units, activation='relu'))\n",
    "    # Tune the number of units in the first Dense layer\n",
    "    \n",
    "    dp2 = hp.Choice('dp2', values=[0.0, 0.1, 0.2, 0.3, 0.4, 0.5])\n",
    "    model.add(Dropout(dp2))\n",
    "    \n",
    "    hp_units2 = hp.Int('units2', min_value=16, max_value=512, step=16)\n",
    "    model.add(Dense(units=hp_units2, activation='relu'))\n",
    "    \n",
    "    dp3 = hp.Choice('dp3', values=[0.0, 0.1, 0.2, 0.3, 0.4, 0.5])\n",
    "    model.add(Dropout(dp3))\n",
    "    \n",
    "    # Tune the learning rate for the optimizer\n",
    "    hp_learning_rate = hp.Choice('learning_rate', values=[1e-2, 1e-3, 1e-4, 1e-5])\n",
    "    model.add(Dense(1, activation=\"sigmoid\"))\n",
    "    model.compile(optimizer=keras.optimizers.Adam(learning_rate=hp_learning_rate),\n",
    "                loss=\"binary_crossentropy\",\n",
    "                metrics=[UAR_metric])\n",
    "    return model\n",
    "\n",
    "# Initialize the hyperparameter tuner\n",
    "\n",
    "tuner = kt.Hyperband(model_builder,objective=kt.Objective('val_UAR_metric', direction='max'),\n",
    "                     max_epochs=100,\n",
    "                     factor=10,\n",
    "                     directory='KEmoCon_SensorMerge',\n",
    "                     project_name='Trial8Arousal')\n",
    "\n",
    "# Stop early if validation doesn't change for 10 epochs\n",
    "stop_early = keras.callbacks.EarlyStopping(monitor='val_UAR_metric', patience=10)\n",
    "tuner.search(smA_x_train, smA_y_train, epochs=100, validation_data=(smA_x_test, smA_y_test), callbacks=[stop_early])\n",
    "\n",
    "# Get the optimal hyperparameters\n",
    "best_hps=tuner.get_best_hyperparameters(num_trials=1)[0]\n",
    "\n",
    "print(f\"\"\"\n",
    "The hyperparameter search is complete. \\n First layer: {best_hps.get('units')} \\n Second layer: {best_hps.get('units1')} \\n Third layer: {best_hps.get('units2')} \\n \\n Dropout 1: {best_hps.get('dp1')} \\n Dropout 2: {best_hps.get('dp2')} \\n Dropout 3: {best_hps.get('dp3')} \\n and the optimal learning rate for the optimizer\n",
    "is {best_hps.get('learning_rate')}.\n",
    "\"\"\")"
   ]
  },
  {
   "cell_type": "code",
   "execution_count": 61,
   "metadata": {},
   "outputs": [
    {
     "data": {
      "image/png": "[encoded data removed]",
      "text/plain": [
       "<Figure size 720x360 with 4 Axes>"
      ]
     },
     "metadata": {
      "needs_background": "light"
     },
     "output_type": "display_data"
    },
    {
     "name": "stdout",
     "output_type": "stream",
     "text": [
      "K-EmoCon DNN Early Fusion with best hyperparameters -- Arousal 0.5404584639498433\n"
     ]
    }
   ],
   "source": [
    "# Using the hyperparameters on validation set\n",
    "# Change X_train variable names to avoid confusion later\n",
    "\n",
    "X_train = smA_x\n",
    "y_train = smA_y\n",
    "X_test = smA_x_val\n",
    "y_test = smA_y_val\n",
    "\n",
    "# StandardScaler\n",
    "scaler = StandardScaler()\n",
    "X_train_scaled = scaler.fit_transform(X_train)\n",
    "X_test_scaled = scaler.transform(X_test)\n",
    "\n",
    "# Fitting DNN\n",
    "sensor_merge_model_arousal = Sequential()\n",
    "sensor_merge_model_arousal.add(Dense(32, input_dim=20, activation=\"relu\"))\n",
    "sensor_merge_model_arousal.add(Dropout(0.4))\n",
    "sensor_merge_model_arousal.add(Dense(448, activation=\"relu\"))\n",
    "sensor_merge_model_arousal.add(Dropout(0.4))\n",
    "sensor_merge_model_arousal.add(Dense(256, activation=\"relu\"))\n",
    "sensor_merge_model_arousal.add(Dropout(0.3))\n",
    "sensor_merge_model_arousal.add(Dense(1, activation=\"sigmoid\"))\n",
    "opt = keras.optimizers.Adam(learning_rate=1e-05)\n",
    "sensor_merge_model_arousal.compile(loss='binary_crossentropy', optimizer=opt, metrics=[UAR_metric])\n",
    "sensor_merge_model_arousal.fit(X_train_scaled, y_train, epochs = 100, verbose=0)\n",
    "\n",
    "# Prediction\n",
    "y_pred = sensor_merge_model_arousal.predict(X_test_scaled, verbose=0)\n",
    "y_pred = np.rint(y_pred)\n",
    "uar = balanced_accuracy_score(y_test, y_pred)\n",
    "\n",
    "# Plotting the confusion matrix\n",
    "cm = confusion_matrix(y_test,y_pred)\n",
    "cm_normalized = confusion_matrix(y_test,y_pred, normalize=\"true\")\n",
    "fig, axs = plt.subplots(1, 2, figsize=(10,5))\n",
    "fig.suptitle('DNN K-EmoCon Early fusion (Accelerometer and Heart Rate) - Arousal')\n",
    "sns.heatmap(cm, annot=True, annot_kws={\"size\": 12},cmap=\"Blues\",fmt='g', ax=axs[0]) \n",
    "sns.heatmap(cm_normalized, annot=True, annot_kws={\"size\": 12},cmap=\"Blues\",fmt='g', ax=axs[1]) \n",
    "axs[0].set_title('Arousal classification')\n",
    "axs[1].set_title('Arousal classification normalized')\n",
    "for ax in axs.flat:\n",
    "    ax.set(xlabel='Predicted labels', ylabel='True labels')\n",
    "fig.tight_layout(rect=[0, 0.03, 1, 0.95])\n",
    "plt.show()\n",
    "print(\"K-EmoCon DNN Early Fusion with best hyperparameters -- Arousal\", uar)"
   ]
  },
  {
   "cell_type": "code",
   "execution_count": 122,
   "metadata": {},
   "outputs": [],
   "source": [
    "## Saving model for transfer learning\n",
    "\n",
    "sensor_merge_model_arousal.save('KEmoCon_sensor_earlyfusion_arousal.h5')"
   ]
  },
  {
   "cell_type": "markdown",
   "metadata": {},
   "source": [
    "## Early fusion: Valence"
   ]
  },
  {
   "cell_type": "code",
   "execution_count": 22,
   "metadata": {},
   "outputs": [
    {
     "name": "stdout",
     "output_type": "stream",
     "text": [
      "(2214, 20)\n",
      "(387, 20)\n",
      "Train test groups:  [ 4  5  8  9 10 12 13 14 15 18 20 22 26 27 28 30 31 32]\n",
      "Validation groups:  [ 1 17 23]\n"
     ]
    }
   ],
   "source": [
    "# Splitting in X and y and validation\n",
    "\n",
    "smV_x_all = sensor_merge_valence.drop(columns=([\"timestamp\",\"Valence_binary\",\"pid\"]))\n",
    "smV_y_all = sensor_merge_valence[\"Valence_binary\"]\n",
    "\n",
    "# Get stratified split to make validation set\n",
    "cv = StratifiedGroupKFold(n_splits=8, random_state=4, shuffle=True)\n",
    "for folds, (train_idxs, test_idxs) in enumerate(cv.split(smV_x_all, smV_y_all, sensor_merge_valence_groups)):\n",
    "    if folds == 1: \n",
    "        smV_x = smV_x_all.iloc[train_idxs]\n",
    "        smV_y = smV_y_all.iloc[train_idxs]\n",
    "        smV_x_val = smV_x_all.iloc[test_idxs]\n",
    "        smV_y_val = smV_y_all.iloc[test_idxs]\n",
    "\n",
    "        train_test_groups_valence = sensor_merge_valence_groups.iloc[train_idxs]\n",
    "        val_groups_valence = sensor_merge_valence_groups.iloc[test_idxs]\n",
    "\n",
    "        train_test_groups_valence_unique = np.unique(sensor_merge_valence_groups.iloc[train_idxs])\n",
    "        val_groups_valence_unique = np.unique(sensor_merge_valence_groups.iloc[test_idxs])\n",
    "        \n",
    "print(smV_x.shape)\n",
    "print(smV_x_val.shape)\n",
    "print(\"Train test groups: \", train_test_groups_valence_unique)\n",
    "print(\"Validation groups: \", val_groups_valence_unique)"
   ]
  },
  {
   "cell_type": "code",
   "execution_count": 61,
   "metadata": {},
   "outputs": [
    {
     "name": "stdout",
     "output_type": "stream",
     "text": [
      "Fitting 10 folds for each of 192 candidates, totalling 1920 fits\n",
      "Best Score: 0.5447655319269054\n",
      "Best Hyperparameters: {'C': 0.1, 'class_weight': 'balanced', 'degree': 2, 'kernel': 'rbf'}\n",
      "Time taken:  731.335875749588\n"
     ]
    }
   ],
   "source": [
    "# Hyperparameter tuning\n",
    "\n",
    "start_time = time.time()\n",
    "# StratifiedKGroupFold\n",
    "sgkf = StratifiedGroupKFold(n_splits=10, random_state=10, shuffle=True)\n",
    "svm = SVC()\n",
    "\n",
    "# Grid search\n",
    "space = dict()\n",
    "space['degree'] = [2,3,4]\n",
    "space['kernel'] = ['linear', 'poly', 'rbf', 'sigmoid']\n",
    "space['C'] = [1e-6, 1e-5, 1e-4, 1e-3, 1e-2, 1e-1, 1, 10]\n",
    "space['class_weight'] = ['balanced',None]\n",
    "search = GridSearchCV(svm, space, scoring='balanced_accuracy', verbose=4, n_jobs=-1, cv=sgkf)\n",
    "result = search.fit(smV_x, smV_y, groups=train_test_groups_valence)\n",
    "\n",
    "# summarize result\n",
    "print('Best Score: %s' % result.best_score_)\n",
    "print('Best Hyperparameters: %s' % result.best_params_)\n",
    "\n",
    "end_time = time.time()\n",
    "print(\"Time taken: \", end_time - start_time)"
   ]
  },
  {
   "cell_type": "code",
   "execution_count": 23,
   "metadata": {},
   "outputs": [
    {
     "data": {
      "image/png": "[encoded data removed]",
      "text/plain": [
       "<Figure size 720x360 with 4 Axes>"
      ]
     },
     "metadata": {
      "needs_background": "light"
     },
     "output_type": "display_data"
    },
    {
     "name": "stdout",
     "output_type": "stream",
     "text": [
      "SVM validation score valence with best hyperparameters: 0.43212641788591155\n"
     ]
    }
   ],
   "source": [
    "# Using the hyperparameters on validation set\n",
    "# Change X_train variable names to avoid confusion later\n",
    "\n",
    "X_train = smV_x\n",
    "y_train = smV_y\n",
    "X_test = smV_x_val\n",
    "y_test = smV_y_val\n",
    "\n",
    "# StandardScaler\n",
    "scaler = StandardScaler()\n",
    "X_train_scaled = scaler.fit_transform(X_train)\n",
    "X_test_scaled = scaler.transform(X_test)\n",
    "\n",
    "# Fitting SVM training\n",
    "svm = SVC(C=0.1,class_weight=\"balanced\", degree=2, kernel=\"rbf\")\n",
    "svm.fit(X_train_scaled, y_train),\n",
    "y_pred = svm.predict(X_test_scaled)\n",
    "\n",
    "uar = balanced_accuracy_score(y_test,y_pred)\n",
    "\n",
    "# Plotting the confusion matrix\n",
    "cm = confusion_matrix(y_test,y_pred)\n",
    "cm_normalized = confusion_matrix(y_test,y_pred, normalize=\"true\")\n",
    "fig, axs = plt.subplots(1, 2, figsize=(10,5))\n",
    "fig.suptitle('SVC K-EmoCon Early fusion (Accelerometer and Heart Rate) - Valence')\n",
    "sns.heatmap(cm, annot=True, annot_kws={\"size\": 12},cmap=\"Blues\",fmt='g', ax=axs[0]) \n",
    "sns.heatmap(cm_normalized, annot=True, annot_kws={\"size\": 12},cmap=\"Blues\",fmt='g', ax=axs[1]) \n",
    "axs[0].set_title('Valence classification')\n",
    "axs[1].set_title('Valence classification normalized')\n",
    "for ax in axs.flat:\n",
    "    ax.set(xlabel='Predicted labels', ylabel='True labels')\n",
    "fig.tight_layout(rect=[0, 0.03, 1, 0.95])\n",
    "plt.show()\n",
    "\n",
    "print(\"SVM validation score valence with best hyperparameters:\", uar)"
   ]
  },
  {
   "cell_type": "code",
   "execution_count": 126,
   "metadata": {},
   "outputs": [
    {
     "name": "stdout",
     "output_type": "stream",
     "text": [
      "Training groups:  [ 4  5  8 12 13 14 15 18 20 22 27 28 30 32]\n",
      "Testing groups:  [ 9 10 26 31]\n"
     ]
    }
   ],
   "source": [
    "# Creating a train and test set for hyperparameter tuning\n",
    "\n",
    "cv = StratifiedGroupKFold(n_splits=5, random_state=12, shuffle=True)\n",
    "for folds, (train_idxs, test_idxs) in enumerate(cv.split(smV_x, smV_y, train_test_groups_valence)):\n",
    "    if folds == 1: \n",
    "        smV_x_train = smV_x_all.iloc[train_idxs]\n",
    "        smV_y_train = smV_y_all.iloc[train_idxs]\n",
    "        smV_x_test = smV_x_all.iloc[test_idxs]\n",
    "        smV_y_test = smV_y_all.iloc[test_idxs]\n",
    "        \n",
    "        smV_x_train_groups = np.unique(train_test_groups_valence.iloc[train_idxs])\n",
    "        smV_x_test_groups = np.unique(train_test_groups_valence.iloc[test_idxs])\n",
    "        \n",
    "print(\"Training groups: \", smV_x_train_groups)\n",
    "print(\"Testing groups: \", smV_x_test_groups)"
   ]
  },
  {
   "cell_type": "code",
   "execution_count": 58,
   "metadata": {},
   "outputs": [
    {
     "name": "stdout",
     "output_type": "stream",
     "text": [
      "Trial 131 Complete [00h 00m 04s]\n",
      "val_UAR_metric: 0.5\n",
      "\n",
      "Best val_UAR_metric So Far: 0.5194011926651001\n",
      "Total elapsed time: 00h 03m 54s\n",
      "INFO:tensorflow:Oracle triggered exit\n",
      "\n",
      "The hyperparameter search is complete. \n",
      " First layer: 128 \n",
      " Second layer: 96 \n",
      " Third layer: 64 \n",
      " \n",
      " Dropout 1: 0.2 \n",
      " Dropout 2: 0.4 \n",
      " Dropout 3: 0.0 \n",
      " and the optimal learning rate for the optimizer\n",
      "is 0.001.\n",
      "\n"
     ]
    }
   ],
   "source": [
    "# Hyperparameter tuning\n",
    "\n",
    "def model_builder(hp):\n",
    "    model = keras.Sequential()\n",
    "    hp_units = hp.Int('units', min_value=16, max_value=512, step=16)\n",
    "    model.add(Dense(hp_units, input_dim=20, activation=\"relu\"))\n",
    "    # Tune the number of units in the first Dense layer\n",
    "    # Choose an optimal value between 32-512\n",
    "    \n",
    "    dp1 = hp.Choice('dp1', values=[0.0, 0.1, 0.2, 0.3, 0.4, 0.5])\n",
    "    model.add(Dropout(dp1))\n",
    "    \n",
    "    hp_units1 = hp.Int('units1', min_value=16, max_value=512, step=16)\n",
    "    model.add(Dense(units=hp_units, activation='relu'))\n",
    "    # Tune the number of units in the first Dense layer\n",
    "    \n",
    "    dp2 = hp.Choice('dp2', values=[0.0, 0.1, 0.2, 0.3, 0.4, 0.5])\n",
    "    model.add(Dropout(dp2))\n",
    "    \n",
    "    hp_units2 = hp.Int('units2', min_value=16, max_value=512, step=16)\n",
    "    model.add(Dense(units=hp_units2, activation='relu'))\n",
    "    \n",
    "    dp3 = hp.Choice('dp3', values=[0.0, 0.1, 0.2, 0.3, 0.4, 0.5])\n",
    "    model.add(Dropout(dp3))\n",
    "    \n",
    "    # Tune the learning rate for the optimizer\n",
    "    hp_learning_rate = hp.Choice('learning_rate', values=[1e-2, 1e-3, 1e-4, 1e-5])\n",
    "    model.add(Dense(1, activation=\"sigmoid\"))\n",
    "    model.compile(optimizer=keras.optimizers.Adam(learning_rate=hp_learning_rate),\n",
    "                loss=\"binary_crossentropy\",\n",
    "                metrics=[UAR_metric])\n",
    "    return model\n",
    "\n",
    "# Initialize the hyperparameter tuner\n",
    "\n",
    "tuner = kt.Hyperband(model_builder,objective=kt.Objective('val_UAR_metric', direction='max'),\n",
    "                     max_epochs=100,\n",
    "                     factor=10,\n",
    "                     directory='KEmoCon_SensorMerge',\n",
    "                     project_name='Trial4Valence')\n",
    "\n",
    "# Stop early if validation doesn't change for 10 epochs\n",
    "stop_early = keras.callbacks.EarlyStopping(monitor='val_UAR_metric', patience=10)\n",
    "tuner.search(smV_x_train, smV_y_train, epochs=100, validation_data=(smV_x_test, smV_y_test), callbacks=[stop_early])\n",
    "\n",
    "# Get the optimal hyperparameters\n",
    "best_hps=tuner.get_best_hyperparameters(num_trials=1)[0]\n",
    "\n",
    "print(f\"\"\"\n",
    "The hyperparameter search is complete. \\n First layer: {best_hps.get('units')} \\n Second layer: {best_hps.get('units1')} \\n Third layer: {best_hps.get('units2')} \\n \\n Dropout 1: {best_hps.get('dp1')} \\n Dropout 2: {best_hps.get('dp2')} \\n Dropout 3: {best_hps.get('dp3')} \\n and the optimal learning rate for the optimizer\n",
    "is {best_hps.get('learning_rate')}.\n",
    "\"\"\")"
   ]
  },
  {
   "cell_type": "code",
   "execution_count": 18,
   "metadata": {},
   "outputs": [
    {
     "data": {
      "image/png": "[encoded data removed]",
      "text/plain": [
       "<Figure size 720x360 with 4 Axes>"
      ]
     },
     "metadata": {
      "needs_background": "light"
     },
     "output_type": "display_data"
    },
    {
     "name": "stdout",
     "output_type": "stream",
     "text": [
      "DNN validation score with best hyperparameters for valence: 0.5\n"
     ]
    }
   ],
   "source": [
    "# Using the hyperparameters on validation set\n",
    "# Change X_train variable names to avoid confusion later\n",
    "\n",
    "X_train = smV_x\n",
    "y_train = smV_y\n",
    "X_test = smV_x_val\n",
    "y_test = smV_y_val\n",
    "\n",
    "# StandardScaler\n",
    "scaler = StandardScaler()\n",
    "X_train_scaled = scaler.fit_transform(X_train)\n",
    "X_test_scaled = scaler.transform(X_test)\n",
    "\n",
    "# Fitting DNN\n",
    "sensor_merge_model_valence = Sequential()\n",
    "sensor_merge_model_valence.add(Dense(160, input_dim=20, activation=\"relu\"))\n",
    "sensor_merge_model_valence.add(Dropout(0.1))\n",
    "sensor_merge_model_valence.add(Dense(192, activation=\"relu\"))\n",
    "sensor_merge_model_valence.add(Dropout(0.4))\n",
    "sensor_merge_model_valence.add(Dense(144, activation=\"relu\"))\n",
    "sensor_merge_model_valence.add(Dropout(0.0))\n",
    "sensor_merge_model_valence.add(Dense(1, activation=\"sigmoid\"))\n",
    "opt = keras.optimizers.Adam(learning_rate=1e-05)\n",
    "sensor_merge_model_valence.compile(loss='binary_crossentropy', optimizer=opt, metrics=[UAR_metric])\n",
    "# stop_early = keras.callbacks.EarlyStopping(monitor='UAR_metric', patience=10)\n",
    "sensor_merge_model_valence.fit(X_train_scaled, y_train, epochs = 100, verbose=0)\n",
    "\n",
    "# Prediction\n",
    "y_pred = sensor_merge_model_valence.predict(X_test_scaled, verbose=0)\n",
    "y_pred = np.rint(y_pred)\n",
    "uar = balanced_accuracy_score(y_test, y_pred)\n",
    "\n",
    "# Plotting the confusion matrix\n",
    "cm = confusion_matrix(y_test,y_pred)\n",
    "cm_normalized = confusion_matrix(y_test,y_pred, normalize=\"true\")\n",
    "fig, axs = plt.subplots(1, 2, figsize=(10,5))\n",
    "fig.suptitle('DNN K-EmoCon Early fusion (Accelerometer and Heart Rate) - Valence')\n",
    "sns.heatmap(cm, annot=True, annot_kws={\"size\": 12},cmap=\"Blues\",fmt='g', ax=axs[0]) \n",
    "sns.heatmap(cm_normalized, annot=True, annot_kws={\"size\": 12},cmap=\"Blues\",fmt='g', ax=axs[1]) \n",
    "axs[0].set_title('Valence classification')\n",
    "axs[1].set_title('Valence classification normalized')\n",
    "for ax in axs.flat:\n",
    "    ax.set(xlabel='Predicted labels', ylabel='True labels')\n",
    "fig.tight_layout(rect=[0, 0.03, 1, 0.95])\n",
    "plt.show()\n",
    "\n",
    "print(\"DNN validation score with best hyperparameters for valence:\", uar)"
   ]
  },
  {
   "cell_type": "code",
   "execution_count": 128,
   "metadata": {},
   "outputs": [],
   "source": [
    "## Saving model for transfer learning\n",
    "\n",
    "sensor_merge_model_valence.save('KEmoCon_sensor_earlyfusion_valence.h5')"
   ]
  },
  {
   "cell_type": "markdown",
   "metadata": {},
   "source": [
    "## Late fusion pre-processing"
   ]
  },
  {
   "cell_type": "code",
   "execution_count": 24,
   "metadata": {},
   "outputs": [],
   "source": [
    "# Defining unimodal and groups -- arousal\n",
    "\n",
    "hr_unimodal_labels_merge_arousal = sensor_merge_arousal[['timestamp', 'mean_hr', 'std_hr', 'min_hr', '25%_hr', '50%_hr','75%_hr', 'max_hr', 'data_range_hr', 'skewness_hr', 'kurtosis_hr','pid', 'Arousal_binary']]\n",
    "hr_arousal_groups = sensor_merge_arousal_groups\n",
    "\n",
    "acc_unimodal_labels_merge_arousal = sensor_merge_arousal[['timestamp', 'pid', 'Arousal_binary', 'mean_acc', 'std_acc', 'min_acc', '25%_acc', '50%_acc', '75%_acc', 'max_acc', 'data_range_acc', 'skewness_acc', 'kurtosis_acc']]\n",
    "acc_arousal_groups = sensor_merge_arousal_groups\n",
    "\n",
    "# Defining unimdodal and groups -- valence\n",
    "\n",
    "hr_unimodal_labels_merge_valence = sensor_merge_valence[['timestamp', 'mean_hr', 'std_hr', 'min_hr', '25%_hr', '50%_hr','75%_hr', 'max_hr', 'data_range_hr', 'skewness_hr', 'kurtosis_hr','pid', 'Valence_binary']]\n",
    "hr_valence_groups = sensor_merge_valence_groups\n",
    "\n",
    "acc_unimodal_labels_merge_valence = sensor_merge_valence[['timestamp', 'pid', 'Valence_binary', 'mean_acc', 'std_acc', 'min_acc', '25%_acc', '50%_acc', '75%_acc', 'max_acc', 'data_range_acc', 'skewness_acc', 'kurtosis_acc']]\n",
    "acc_valence_groups = sensor_merge_valence_groups\n"
   ]
  },
  {
   "cell_type": "code",
   "execution_count": 25,
   "metadata": {},
   "outputs": [
    {
     "name": "stdout",
     "output_type": "stream",
     "text": [
      "(2959, 13)\n",
      "(2959, 13)\n",
      "(2601, 13)\n",
      "(2601, 13)\n"
     ]
    }
   ],
   "source": [
    "# Checking if correct number of samples are there\n",
    "\n",
    "print(hr_unimodal_labels_merge_arousal.shape)\n",
    "print(acc_unimodal_labels_merge_arousal.shape)\n",
    "print(hr_unimodal_labels_merge_valence.shape)\n",
    "print(acc_unimodal_labels_merge_valence.shape)"
   ]
  },
  {
   "cell_type": "markdown",
   "metadata": {},
   "source": [
    "## Late fusion: Arousal -- HR"
   ]
  },
  {
   "cell_type": "code",
   "execution_count": 26,
   "metadata": {},
   "outputs": [
    {
     "name": "stdout",
     "output_type": "stream",
     "text": [
      "(2592, 10)\n",
      "(367, 10)\n",
      "Train test groups:  [ 1  4  5  9 10 11 13 14 15 16 17 19 20 21 22 24 25 26 28 30 31]\n",
      "Validation groups:  [12 18 23]\n"
     ]
    }
   ],
   "source": [
    "hr_arousal_x_all = hr_unimodal_labels_merge_arousal.drop(columns=([\"timestamp\",\"Arousal_binary\",\"pid\"]))\n",
    "hr_arousal_y_all = hr_unimodal_labels_merge_arousal[\"Arousal_binary\"]\n",
    "\n",
    "# Giving the same training and validation groups as in early fusion for arousal audio lexical\n",
    "train_idxs = sensor_merge_arousal.loc[~sensor_merge_arousal['pid'].isin([12, 18, 23])].index.to_list()\n",
    "test_idxs = sensor_merge_arousal.loc[sensor_merge_arousal['pid'].isin([12, 18, 23])].index\n",
    "\n",
    "hr_arousal_x = hr_arousal_x_all.loc[train_idxs]\n",
    "hr_arousal_y = hr_arousal_y_all.loc[train_idxs]\n",
    "hr_arousal_x_val = hr_arousal_x_all.loc[test_idxs]\n",
    "hr_arousal_y_val = hr_arousal_y_all.loc[test_idxs]\n",
    "\n",
    "hr_train_test_groups_arousal = hr_arousal_groups.loc[train_idxs]\n",
    "hr_val_groups_arousal = hr_arousal_groups.loc[test_idxs]\n",
    "\n",
    "hr_train_test_groups_arousal_unique = np.unique(hr_arousal_groups.loc[train_idxs])\n",
    "hr_val_groups_arousal_unique = np.unique(hr_arousal_groups.loc[test_idxs])\n",
    "        \n",
    "print(hr_arousal_x.shape)\n",
    "print(hr_arousal_x_val.shape)\n",
    "print(\"Train test groups: \", hr_train_test_groups_arousal_unique)\n",
    "print(\"Validation groups: \", hr_val_groups_arousal_unique)"
   ]
  },
  {
   "cell_type": "code",
   "execution_count": 75,
   "metadata": {},
   "outputs": [
    {
     "name": "stdout",
     "output_type": "stream",
     "text": [
      "Fitting 10 folds for each of 192 candidates, totalling 1920 fits\n",
      "Best Score: 0.5648332176400434\n",
      "Best Hyperparameters: {'C': 1, 'class_weight': None, 'degree': 2, 'kernel': 'sigmoid'}\n"
     ]
    }
   ],
   "source": [
    "# Hyperparameter tuning\n",
    "\n",
    "# StratifiedKGroupFold\n",
    "sgkf = StratifiedGroupKFold(n_splits=10, random_state=10, shuffle=True)\n",
    "svm = SVC()\n",
    "\n",
    "# Grid search\n",
    "space = dict()\n",
    "space['degree'] = [2,3,4]\n",
    "space['kernel'] = ['linear', 'poly', 'rbf', 'sigmoid']\n",
    "space['C'] = [1e-6, 1e-5, 1e-4, 1e-3, 1e-2, 1e-1, 1, 10]\n",
    "space['class_weight'] = ['balanced',None]\n",
    "search = GridSearchCV(svm, space, scoring='balanced_accuracy', verbose=4, n_jobs=-1, cv=sgkf)\n",
    "result = search.fit(hr_arousal_x, hr_arousal_y, groups=hr_train_test_groups_arousal)\n",
    "\n",
    "# summarize result\n",
    "print('Best Score: %s' % result.best_score_)\n",
    "print('Best Hyperparameters: %s' % result.best_params_)\n"
   ]
  },
  {
   "cell_type": "code",
   "execution_count": null,
   "metadata": {},
   "outputs": [],
   "source": [
    "# Using the hyperparameters on validation set\n",
    "# Change X_train variable names to avoid confusion later\n",
    "\n",
    "X_train = hr_arousal_x\n",
    "y_train = hr_arousal_y\n",
    "X_test = hr_arousal_x_val\n",
    "y_test = hr_arousal_y_val\n",
    "\n",
    "# StandardScaler\n",
    "scaler = StandardScaler()\n",
    "X_train_scaled = scaler.fit_transform(X_train)\n",
    "X_test_scaled = scaler.transform(X_test)\n",
    "\n",
    "# Fitting SVM training\n",
    "svm = SVC(C=1,class_weight=None, degree=2, kernel=\"sigmoid\")\n",
    "svm.fit(X_train_scaled, y_train),\n",
    "y_pred = svm.predict(X_test_scaled)\n",
    "\n",
    "uar = balanced_accuracy_score(y_test,y_pred)\n",
    "\n",
    "# Plotting the confusion matrix\n",
    "cm = confusion_matrix(y_test,y_pred)\n",
    "cm_normalized = confusion_matrix(y_test,y_pred, normalize=\"true\")\n",
    "fig, axs = plt.subplots(1, 2, figsize=(10,5))\n",
    "fig.suptitle('SVC K-EmoCon Heart rate Unimodal - Arousal')\n",
    "sns.heatmap(cm, annot=True, annot_kws={\"size\": 12},cmap=\"Blues\",fmt='g', ax=axs[0]) \n",
    "sns.heatmap(cm_normalized, annot=True, annot_kws={\"size\": 12},cmap=\"Blues\",fmt='g', ax=axs[1]) \n",
    "axs[0].set_title('Arousal classification')\n",
    "axs[1].set_title('Arousal classification normalized')\n",
    "for ax in axs.flat:\n",
    "    ax.set(xlabel='Predicted labels', ylabel='True labels')\n",
    "fig.tight_layout(rect=[0, 0.03, 1, 0.95])\n",
    "plt.show()\n",
    "\n",
    "print(\"SVM validation Arousal score with best hyperparameters - Heart rate Unimodal:\", uar)"
   ]
  },
  {
   "cell_type": "code",
   "execution_count": 133,
   "metadata": {},
   "outputs": [
    {
     "name": "stdout",
     "output_type": "stream",
     "text": [
      "Training groups:  [ 1  5  9 10 12 13 14 15 16 17 18 19 20 21 22 23 24 25 26 28 30]\n",
      "Testing groups:  [ 4 11 31]\n"
     ]
    }
   ],
   "source": [
    "# Creating a train and test set for DNN hyperparameter tuning\n",
    "\n",
    "# Giving the same training and validation groups as in early fusion for arousal audio lexical\n",
    "train_idxs = sensor_merge_arousal.loc[~sensor_merge_arousal['pid'].isin([4, 11, 31])].index.to_list()\n",
    "test_idxs = sensor_merge_arousal.loc[sensor_merge_arousal['pid'].isin([4, 11, 31])].index.to_list()\n",
    "\n",
    "hr_arousal_x_train = hr_arousal_x_all.loc[train_idxs]\n",
    "hr_arousal_y_train = hr_arousal_y_all.loc[train_idxs]\n",
    "hr_arousal_x_test = hr_arousal_x_all.loc[test_idxs]\n",
    "hr_arousal_y_test = hr_arousal_y_all.loc[test_idxs]\n",
    "\n",
    "hr_arousal_x_train_groups = np.unique(hr_arousal_groups.loc[train_idxs])\n",
    "hr_arousal_x_test_groups = np.unique(hr_arousal_groups.loc[test_idxs])\n",
    "        \n",
    "print(\"Training groups: \", hr_arousal_x_train_groups)\n",
    "print(\"Testing groups: \", hr_arousal_x_test_groups) # [ 4 11 31]"
   ]
  },
  {
   "cell_type": "code",
   "execution_count": 155,
   "metadata": {},
   "outputs": [
    {
     "name": "stdout",
     "output_type": "stream",
     "text": [
      "INFO:tensorflow:Reloading Oracle from existing project KEmoCon_HR_Unimodal\\Trial1Arousal\\oracle.json\n",
      "INFO:tensorflow:Reloading Tuner from KEmoCon_HR_Unimodal\\Trial1Arousal\\tuner0.json\n",
      "INFO:tensorflow:Oracle triggered exit\n",
      "\n",
      "The hyperparameter search is complete. \n",
      " First layer: 96 \n",
      " Second layer: 208 \n",
      " Third layer: 336 \n",
      " \n",
      " Dropout 1: 0.5 \n",
      " Dropout 2: 0.0 \n",
      " Dropout 3: 0.4 \n",
      " and the optimal learning rate for the optimizer\n",
      "is 1e-05.\n",
      "\n"
     ]
    }
   ],
   "source": [
    "# Hyperparameter tuning\n",
    "\n",
    "def model_builder(hp):\n",
    "    model = keras.Sequential()\n",
    "    hp_units = hp.Int('units', min_value=16, max_value=512, step=16)\n",
    "    model.add(Dense(hp_units, input_dim=10, activation=\"relu\"))\n",
    "    # Tune the number of units in the first Dense layer\n",
    "    # Choose an optimal value between 32-512\n",
    "    \n",
    "    dp1 = hp.Choice('dp1', values=[0.0, 0.1, 0.2, 0.3, 0.4, 0.5])\n",
    "    model.add(Dropout(dp1))\n",
    "    \n",
    "    hp_units1 = hp.Int('units1', min_value=16, max_value=512, step=16)\n",
    "    model.add(Dense(units=hp_units, activation='relu'))\n",
    "    # Tune the number of units in the first Dense layer\n",
    "    \n",
    "    dp2 = hp.Choice('dp2', values=[0.0, 0.1, 0.2, 0.3, 0.4, 0.5])\n",
    "    model.add(Dropout(dp2))\n",
    "    \n",
    "    hp_units2 = hp.Int('units2', min_value=16, max_value=512, step=16)\n",
    "    model.add(Dense(units=hp_units2, activation='relu'))\n",
    "    \n",
    "    dp3 = hp.Choice('dp3', values=[0.0, 0.1, 0.2, 0.3, 0.4, 0.5])\n",
    "    model.add(Dropout(dp3))\n",
    "    \n",
    "    # Tune the learning rate for the optimizer\n",
    "    hp_learning_rate = hp.Choice('learning_rate', values=[1e-2, 1e-3, 1e-4, 1e-5])\n",
    "    model.add(Dense(1, activation=\"sigmoid\"))\n",
    "    model.compile(optimizer=keras.optimizers.Adam(learning_rate=hp_learning_rate),\n",
    "                loss=\"binary_crossentropy\",\n",
    "                metrics=[UAR_metric])\n",
    "    return model\n",
    "\n",
    "# Initialize the hyperparameter tuner\n",
    "\n",
    "tuner = kt.Hyperband(model_builder,objective=kt.Objective('val_UAR_metric', direction='max'),\n",
    "                     max_epochs=100,\n",
    "                     factor=5,\n",
    "                     directory='KEmoCon_HR_Unimodal',\n",
    "                     project_name='Trial1Arousal')\n",
    "\n",
    "# Stop early if validation doesn't change for 10 epochs\n",
    "stop_early = keras.callbacks.EarlyStopping(monitor='val_UAR_metric', patience=10)\n",
    "tuner.search(hr_arousal_x_train, hr_arousal_y_train, epochs=100, validation_data=(hr_arousal_x_test, hr_arousal_y_test), callbacks=[stop_early])\n",
    "\n",
    "# Get the optimal hyperparameters\n",
    "best_hps=tuner.get_best_hyperparameters(num_trials=1)[0]\n",
    "\n",
    "print(f\"\"\"\n",
    "The hyperparameter search is complete. \\n First layer: {best_hps.get('units')} \\n Second layer: {best_hps.get('units1')} \\n Third layer: {best_hps.get('units2')} \\n \\n Dropout 1: {best_hps.get('dp1')} \\n Dropout 2: {best_hps.get('dp2')} \\n Dropout 3: {best_hps.get('dp3')} \\n and the optimal learning rate for the optimizer\n",
    "is {best_hps.get('learning_rate')}.\n",
    "\"\"\")"
   ]
  },
  {
   "cell_type": "code",
   "execution_count": 74,
   "metadata": {},
   "outputs": [
    {
     "data": {
      "image/png": "[encoded data removed]",
      "text/plain": [
       "<Figure size 720x360 with 4 Axes>"
      ]
     },
     "metadata": {
      "needs_background": "light"
     },
     "output_type": "display_data"
    },
    {
     "name": "stdout",
     "output_type": "stream",
     "text": [
      "DNN validation score arousal with best hyperparameters -- Heart Rate Unimodal 0.5561324451410659\n"
     ]
    }
   ],
   "source": [
    "# Using the hyperparameters on validation set\n",
    "# Change X_train variable names to avoid confusion later\n",
    "\n",
    "X_train = hr_arousal_x\n",
    "y_train = hr_arousal_y\n",
    "X_test = hr_arousal_x_val\n",
    "y_test = hr_arousal_y_val\n",
    "\n",
    "# StandardScaler\n",
    "scaler = StandardScaler()\n",
    "X_train_scaled = scaler.fit_transform(X_train)\n",
    "X_test_scaled = scaler.transform(X_test)\n",
    "\n",
    "# Fitting DNN\n",
    "hr_unimodal_arousal = Sequential()\n",
    "hr_unimodal_arousal.add(Dense(96, input_dim=10, activation=\"relu\"))\n",
    "hr_unimodal_arousal.add(Dropout(0.5))\n",
    "hr_unimodal_arousal.add(Dense(208, activation=\"relu\"))\n",
    "hr_unimodal_arousal.add(Dropout(0.0))\n",
    "hr_unimodal_arousal.add(Dense(336, activation=\"relu\"))\n",
    "hr_unimodal_arousal.add(Dropout(0.4))\n",
    "hr_unimodal_arousal.add(Dense(1, activation=\"sigmoid\"))\n",
    "opt = keras.optimizers.Adam(learning_rate=1e-05)\n",
    "hr_unimodal_arousal.compile(loss='binary_crossentropy', optimizer=opt, metrics=[UAR_metric])\n",
    "hr_unimodal_arousal.fit(X_train_scaled, y_train, epochs = 100, verbose=0)\n",
    "hr_unimodal_arousal.save('KEmoCon_hr_latefusion_arousal.h5')\n",
    "# Prediction\n",
    "y_pred = hr_unimodal_arousal.predict(X_test_scaled, verbose=0)\n",
    "y_pred = np.rint(y_pred)\n",
    "uar = balanced_accuracy_score(y_test, y_pred)\n",
    "\n",
    "# Plotting the confusion matrix\n",
    "cm = confusion_matrix(y_test,y_pred)\n",
    "cm_normalized = confusion_matrix(y_test,y_pred, normalize=\"true\")\n",
    "fig, axs = plt.subplots(1, 2, figsize=(10,5))\n",
    "fig.suptitle('DNN K-EmoCon Heart rate Unimodal - Arousal')\n",
    "sns.heatmap(cm, annot=True, annot_kws={\"size\": 12},cmap=\"Blues\",fmt='g', ax=axs[0]) \n",
    "sns.heatmap(cm_normalized, annot=True, annot_kws={\"size\": 12},cmap=\"Blues\",fmt='g', ax=axs[1]) \n",
    "axs[0].set_title('Arousal classification')\n",
    "axs[1].set_title('Arousal classification normalized')\n",
    "for ax in axs.flat:\n",
    "    ax.set(xlabel='Predicted labels', ylabel='True labels')\n",
    "fig.tight_layout(rect=[0, 0.03, 1, 0.95])\n",
    "plt.show()\n",
    "print(\"DNN validation score arousal with best hyperparameters -- Heart Rate Unimodal\", uar)"
   ]
  },
  {
   "cell_type": "markdown",
   "metadata": {},
   "source": [
    "## Late Fusion: Valence -- HR"
   ]
  },
  {
   "cell_type": "code",
   "execution_count": 29,
   "metadata": {},
   "outputs": [
    {
     "name": "stdout",
     "output_type": "stream",
     "text": [
      "(2214, 10)\n",
      "(387, 10)\n",
      "Train test groups:  [ 4  5  8  9 10 12 13 14 15 18 20 22 26 27 28 30 31 32]\n",
      "Validation groups:  [ 1 17 23]\n"
     ]
    }
   ],
   "source": [
    "hr_valence_x_all = hr_unimodal_labels_merge_valence.drop(columns=([\"timestamp\",\"Valence_binary\",\"pid\"]))\n",
    "hr_valence_y_all = hr_unimodal_labels_merge_valence[\"Valence_binary\"]\n",
    "\n",
    "# Giving the same training and validation groups as in early fusion for valence audio lexical\n",
    "train_idxs = sensor_merge_valence.loc[~sensor_merge_valence['pid'].isin([1, 17, 23])].index.to_list()\n",
    "test_idxs = sensor_merge_valence.loc[sensor_merge_valence['pid'].isin([1, 17, 23])].index.to_list()\n",
    "\n",
    "hr_valence_x = hr_valence_x_all.loc[train_idxs]\n",
    "hr_valence_y = hr_valence_y_all.loc[train_idxs]\n",
    "hr_valence_x_val = hr_valence_x_all.loc[test_idxs]\n",
    "hr_valence_y_val = hr_valence_y_all.loc[test_idxs]\n",
    "\n",
    "hr_train_test_groups_valence = hr_valence_groups.loc[train_idxs]\n",
    "hr_val_groups_valence = hr_valence_groups.loc[test_idxs]\n",
    "\n",
    "hr_train_test_groups_valence_unique = np.unique(hr_valence_groups.loc[train_idxs])\n",
    "hr_val_groups_valence_unique = np.unique(hr_valence_groups.loc[test_idxs])\n",
    "        \n",
    "print(hr_valence_x.shape)\n",
    "print(hr_valence_x_val.shape)\n",
    "print(\"Train test groups: \", hr_train_test_groups_valence_unique)\n",
    "print(\"Validation groups: \", hr_val_groups_valence_unique)"
   ]
  },
  {
   "cell_type": "code",
   "execution_count": 88,
   "metadata": {},
   "outputs": [
    {
     "name": "stdout",
     "output_type": "stream",
     "text": [
      "Fitting 10 folds for each of 192 candidates, totalling 1920 fits\n",
      "Best Score: 0.5601581533520986\n",
      "Best Hyperparameters: {'C': 0.1, 'class_weight': 'balanced', 'degree': 2, 'kernel': 'rbf'}\n"
     ]
    }
   ],
   "source": [
    "# Hyperparameter tuning SVM\n",
    "\n",
    "# StratifiedKGroupFold\n",
    "sgkf = StratifiedGroupKFold(n_splits=10, random_state=10, shuffle=True)\n",
    "svm = SVC()\n",
    "\n",
    "# Grid search\n",
    "space = dict()\n",
    "space['degree'] = [2,3,4]\n",
    "space['kernel'] = ['linear', 'poly', 'rbf', 'sigmoid']\n",
    "space['C'] = [1e-6, 1e-5, 1e-4, 1e-3, 1e-2, 1e-1, 1, 10]\n",
    "space['class_weight'] = ['balanced',None]\n",
    "search = GridSearchCV(svm, space, scoring='balanced_accuracy', verbose=4, n_jobs=-1, cv=sgkf)\n",
    "result = search.fit(hr_valence_x, hr_valence_y, groups=hr_train_test_groups_valence)\n",
    "\n",
    "# summarize result\n",
    "print('Best Score: %s' % result.best_score_)\n",
    "print('Best Hyperparameters: %s' % result.best_params_)\n"
   ]
  },
  {
   "cell_type": "code",
   "execution_count": 37,
   "metadata": {},
   "outputs": [
    {
     "data": {
      "image/png": "[encoded data removed]",
      "text/plain": [
       "<Figure size 720x360 with 4 Axes>"
      ]
     },
     "metadata": {
      "needs_background": "light"
     },
     "output_type": "display_data"
    },
    {
     "name": "stdout",
     "output_type": "stream",
     "text": [
      "SVM validation Valence score with best hyperparameters - Heart rate Unimodal: 0.4499630116718724\n"
     ]
    }
   ],
   "source": [
    "# Using the hyperparameters on validation set\n",
    "# Change X_train variable names to avoid confusion later\n",
    "\n",
    "X_train = hr_valence_x\n",
    "y_train = hr_valence_y\n",
    "X_test = hr_valence_x_val\n",
    "y_test = hr_valence_y_val\n",
    "\n",
    "# StandardScaler\n",
    "scaler = StandardScaler()\n",
    "X_train_scaled = scaler.fit_transform(X_train)\n",
    "X_test_scaled = scaler.transform(X_test)\n",
    "\n",
    "# Fitting SVM training\n",
    "svm = SVC(C=0.1,class_weight=\"balanced\", degree=2, kernel=\"rbf\")\n",
    "svm.fit(X_train_scaled, y_train),\n",
    "y_pred = svm.predict(X_test_scaled)\n",
    "\n",
    "uar = balanced_accuracy_score(y_test,y_pred)\n",
    "\n",
    "# Plotting the confusion matrix\n",
    "cm = confusion_matrix(y_test,y_pred)\n",
    "cm_normalized = confusion_matrix(y_test,y_pred, normalize=\"true\")\n",
    "fig, axs = plt.subplots(1, 2, figsize=(10,5))\n",
    "fig.suptitle('SVC K-EmoCon Heart rate Unimodal - Valence')\n",
    "sns.heatmap(cm, annot=True, annot_kws={\"size\": 12},cmap=\"Blues\",fmt='g', ax=axs[0]) \n",
    "sns.heatmap(cm_normalized, annot=True, annot_kws={\"size\": 12},cmap=\"Blues\",fmt='g', ax=axs[1]) \n",
    "axs[0].set_title('Valence classification')\n",
    "axs[1].set_title('Valence classification normalized')\n",
    "for ax in axs.flat:\n",
    "    ax.set(xlabel='Predicted labels', ylabel='True labels')\n",
    "fig.tight_layout(rect=[0, 0.03, 1, 0.95])\n",
    "plt.show()\n",
    "\n",
    "print(\"SVM validation Valence score with best hyperparameters - Heart rate Unimodal:\", uar)"
   ]
  },
  {
   "cell_type": "code",
   "execution_count": 137,
   "metadata": {},
   "outputs": [
    {
     "name": "stdout",
     "output_type": "stream",
     "text": [
      "Training groups:  [ 4  5  8 12 13 14 15 18 20 22 27 28 30 32]\n",
      "Testing groups:  [ 9 10 26 31]\n"
     ]
    }
   ],
   "source": [
    "# Creating a train and test set for DNN hyperparameter tuning\n",
    "\n",
    "cv = StratifiedGroupKFold(n_splits=5, random_state=12, shuffle=True)\n",
    "for folds, (train_idxs, test_idxs) in enumerate(cv.split(hr_valence_x, hr_valence_y, train_test_groups_valence)):\n",
    "    if folds == 1: \n",
    "        hr_valence_x_train = hr_valence_x_all.iloc[train_idxs]\n",
    "        hr_valence_y_train = hr_valence_y_all.iloc[train_idxs]\n",
    "        hr_valence_x_test = hr_valence_x_all.iloc[test_idxs]\n",
    "        hr_valence_y_test = hr_valence_y_all.iloc[test_idxs]\n",
    "        \n",
    "        hr_valence_x_train_groups = np.unique(train_test_groups_valence.iloc[train_idxs])\n",
    "        hr_valence_x_test_groups = np.unique(train_test_groups_valence.iloc[test_idxs])\n",
    "        \n",
    "print(\"Training groups: \", hr_valence_x_train_groups)\n",
    "print(\"Testing groups: \", hr_valence_x_test_groups)"
   ]
  },
  {
   "cell_type": "code",
   "execution_count": 92,
   "metadata": {},
   "outputs": [
    {
     "name": "stdout",
     "output_type": "stream",
     "text": [
      "Trial 131 Complete [00h 00m 02s]\n",
      "val_UAR_metric: 0.5\n",
      "\n",
      "Best val_UAR_metric So Far: 0.5247182250022888\n",
      "Total elapsed time: 00h 03m 29s\n",
      "INFO:tensorflow:Oracle triggered exit\n",
      "\n",
      "The hyperparameter search is complete. \n",
      " First layer: 128 \n",
      " Second layer: 400 \n",
      " Third layer: 160 \n",
      " \n",
      " Dropout 1: 0.3 \n",
      " Dropout 2: 0.5 \n",
      " Dropout 3: 0.0 \n",
      " and the optimal learning rate for the optimizer\n",
      "is 0.001.\n",
      "\n"
     ]
    }
   ],
   "source": [
    "# Hyperparameter tuning\n",
    "\n",
    "def model_builder(hp):\n",
    "    model = keras.Sequential()\n",
    "    hp_units = hp.Int('units', min_value=16, max_value=512, step=16)\n",
    "    model.add(Dense(hp_units, input_dim=10, activation=\"relu\"))\n",
    "    # Tune the number of units in the first Dense layer\n",
    "    # Choose an optimal value between 32-512\n",
    "    \n",
    "    dp1 = hp.Choice('dp1', values=[0.0, 0.1, 0.2, 0.3, 0.4, 0.5])\n",
    "    model.add(Dropout(dp1))\n",
    "    \n",
    "    hp_units1 = hp.Int('units1', min_value=16, max_value=512, step=16)\n",
    "    model.add(Dense(units=hp_units, activation='relu'))\n",
    "    # Tune the number of units in the first Dense layer    \n",
    "    dp2 = hp.Choice('dp2', values=[0.0, 0.1, 0.2, 0.3, 0.4, 0.5])\n",
    "    model.add(Dropout(dp2))\n",
    "    \n",
    "    hp_units2 = hp.Int('units2', min_value=16, max_value=512, step=16)\n",
    "    model.add(Dense(units=hp_units2, activation='relu'))\n",
    "    \n",
    "    dp3 = hp.Choice('dp3', values=[0.0, 0.1, 0.2, 0.3, 0.4, 0.5])\n",
    "    model.add(Dropout(dp3))\n",
    "    \n",
    "    # Tune the learning rate for the optimizer    \n",
    "    hp_learning_rate = hp.Choice('learning_rate', values=[1e-2, 1e-3, 1e-4, 1e-5])\n",
    "    model.add(Dense(1, activation=\"sigmoid\"))\n",
    "    model.compile(optimizer=keras.optimizers.Adam(learning_rate=hp_learning_rate),\n",
    "                loss=\"binary_crossentropy\",\n",
    "                metrics=[UAR_metric])\n",
    "    return model\n",
    "\n",
    "# Initialize the hyperparameter tuner\n",
    "\n",
    "tuner = kt.Hyperband(model_builder,objective=kt.Objective('val_UAR_metric', direction='max'),\n",
    "                     max_epochs=100,\n",
    "                     factor=10,\n",
    "                     directory='KEmoCon_HR_Unimodal',\n",
    "                     project_name='Trial1Valence')\n",
    "\n",
    "# Stop early if validation doesn't change for 10 epochs\n",
    "stop_early = keras.callbacks.EarlyStopping(monitor='val_UAR_metric', patience=10)\n",
    "tuner.search(hr_valence_x_train, hr_valence_y_train, epochs=100, validation_data=(hr_valence_x_test, hr_valence_y_test), callbacks=[stop_early])\n",
    "\n",
    "# Get the optimal hyperparameters\n",
    "best_hps=tuner.get_best_hyperparameters(num_trials=1)[0]\n",
    "\n",
    "print(f\"\"\"\n",
    "The hyperparameter search is complete. \\n First layer: {best_hps.get('units')} \\n Second layer: {best_hps.get('units1')} \\n Third layer: {best_hps.get('units2')} \\n \\n Dropout 1: {best_hps.get('dp1')} \\n Dropout 2: {best_hps.get('dp2')} \\n Dropout 3: {best_hps.get('dp3')} \\n and the optimal learning rate for the optimizer\n",
    "is {best_hps.get('learning_rate')}.\n",
    "\"\"\")"
   ]
  },
  {
   "cell_type": "code",
   "execution_count": 34,
   "metadata": {},
   "outputs": [
    {
     "data": {
      "image/png": "[encoded data removed]",
      "text/plain": [
       "<Figure size 720x360 with 4 Axes>"
      ]
     },
     "metadata": {
      "needs_background": "light"
     },
     "output_type": "display_data"
    },
    {
     "name": "stdout",
     "output_type": "stream",
     "text": [
      "DNN validation score valence with best hyperparameters -- Heart Rate Unimodal 0.49788344566825576\n"
     ]
    }
   ],
   "source": [
    "# Using the hyperparameters on validation set\n",
    "# Change X_train variable names to avoid confusion later\n",
    "\n",
    "X_train = hr_valence_x\n",
    "y_train = hr_valence_y\n",
    "X_test = hr_valence_x_val\n",
    "y_test = hr_valence_y_val\n",
    "\n",
    "# StandardScaler\n",
    "scaler = StandardScaler()\n",
    "X_train_scaled = scaler.fit_transform(X_train)\n",
    "X_test_scaled = scaler.transform(X_test)\n",
    "\n",
    "# Fitting DNN\n",
    "hr_unimodal_valence = Sequential()\n",
    "hr_unimodal_valence.add(Dense(128, input_dim=10, activation=\"relu\"))\n",
    "hr_unimodal_valence.add(Dropout(0.3))\n",
    "hr_unimodal_valence.add(Dense(400, activation=\"relu\"))\n",
    "hr_unimodal_valence.add(Dropout(0.5))\n",
    "hr_unimodal_valence.add(Dense(160, activation=\"relu\"))\n",
    "hr_unimodal_valence.add(Dropout(0.0))\n",
    "hr_unimodal_valence.add(Dense(1, activation=\"sigmoid\"))\n",
    "opt = keras.optimizers.Adam(learning_rate=0.001)\n",
    "hr_unimodal_valence.compile(loss='binary_crossentropy', optimizer=opt, metrics=[UAR_metric])\n",
    "hr_unimodal_valence.fit(X_train_scaled, y_train, epochs = 100, verbose=0)\n",
    "hr_unimodal_valence.save('KEmoCon_hr_latefusion_valence.h5')\n",
    "\n",
    "# Prediction\n",
    "y_pred = hr_unimodal_valence.predict(X_test_scaled, verbose=0)\n",
    "y_pred = np.rint(y_pred)\n",
    "uar = balanced_accuracy_score(y_test, y_pred)\n",
    "\n",
    "# Plotting the confusion matrix\n",
    "cm = confusion_matrix(y_test,y_pred)\n",
    "cm_normalized = confusion_matrix(y_test,y_pred, normalize=\"true\")\n",
    "fig, axs = plt.subplots(1, 2, figsize=(10,5))\n",
    "fig.suptitle('DNN K-EmoCon Heart rate Unimodal - Valence')\n",
    "sns.heatmap(cm, annot=True, annot_kws={\"size\": 12},cmap=\"Blues\",fmt='g', ax=axs[0]) \n",
    "sns.heatmap(cm_normalized, annot=True, annot_kws={\"size\": 12},cmap=\"Blues\",fmt='g', ax=axs[1]) \n",
    "axs[0].set_title('Valence classification')\n",
    "axs[1].set_title('Valence classification normalized')\n",
    "for ax in axs.flat:\n",
    "    ax.set(xlabel='Predicted labels', ylabel='True labels')\n",
    "fig.tight_layout(rect=[0, 0.03, 1, 0.95])\n",
    "plt.show()\n",
    "print(\"DNN validation score valence with best hyperparameters -- Heart Rate Unimodal\", uar)"
   ]
  },
  {
   "cell_type": "markdown",
   "metadata": {},
   "source": [
    "## Late Fusion: Arousal -- ACC"
   ]
  },
  {
   "cell_type": "code",
   "execution_count": 39,
   "metadata": {},
   "outputs": [
    {
     "name": "stdout",
     "output_type": "stream",
     "text": [
      "(2592, 10)\n",
      "(367, 10)\n",
      "Train test groups:  [ 1  4  5  9 10 11 13 14 15 16 17 19 20 21 22 24 25 26 28 30 31]\n",
      "Validation groups:  [12 18 23]\n"
     ]
    }
   ],
   "source": [
    "acc_arousal_x_all = acc_unimodal_labels_merge_arousal.drop(columns=([\"timestamp\",\"Arousal_binary\",\"pid\"]))\n",
    "acc_arousal_y_all = acc_unimodal_labels_merge_arousal[\"Arousal_binary\"]\n",
    "\n",
    "# Giving the same training and validation groups as in early fusion for arousal audio lexical\n",
    "train_idxs = sensor_merge_arousal.loc[~sensor_merge_arousal['pid'].isin([12, 18, 23])].index.to_list()\n",
    "test_idxs = sensor_merge_arousal.loc[sensor_merge_arousal['pid'].isin([12, 18, 23])].index\n",
    "\n",
    "acc_arousal_x = acc_arousal_x_all.loc[train_idxs]\n",
    "acc_arousal_y = acc_arousal_y_all.loc[train_idxs]\n",
    "acc_arousal_x_val = acc_arousal_x_all.loc[test_idxs]\n",
    "acc_arousal_y_val = acc_arousal_y_all.loc[test_idxs]\n",
    "\n",
    "acc_train_test_groups_arousal = acc_arousal_groups.loc[train_idxs]\n",
    "acc_val_groups_arousal = acc_arousal_groups.loc[test_idxs]\n",
    "\n",
    "acc_train_test_groups_arousal_unique = np.unique(acc_arousal_groups.loc[train_idxs])\n",
    "acc_val_groups_arousal_unique = np.unique(acc_arousal_groups.loc[test_idxs])\n",
    "        \n",
    "print(acc_arousal_x.shape)\n",
    "print(acc_arousal_x_val.shape)\n",
    "print(\"Train test groups: \", acc_train_test_groups_arousal_unique)\n",
    "print(\"Validation groups: \", acc_val_groups_arousal_unique)"
   ]
  },
  {
   "cell_type": "code",
   "execution_count": 98,
   "metadata": {},
   "outputs": [
    {
     "name": "stdout",
     "output_type": "stream",
     "text": [
      "Fitting 10 folds for each of 192 candidates, totalling 1920 fits\n",
      "Best Score: 0.545183069609372\n",
      "Best Hyperparameters: {'C': 0.0001, 'class_weight': 'balanced', 'degree': 2, 'kernel': 'linear'}\n"
     ]
    }
   ],
   "source": [
    "# Hyperparameter tuning\n",
    "\n",
    "# StratifiedKGroupFold\n",
    "sgkf = StratifiedGroupKFold(n_splits=10, random_state=10, shuffle=True)\n",
    "svm = SVC()\n",
    "\n",
    "# Grid search\n",
    "space = dict()\n",
    "space['degree'] = [2,3,4]\n",
    "space['kernel'] = ['linear', 'poly', 'rbf', 'sigmoid']\n",
    "space['C'] = [1e-6, 1e-5, 1e-4, 1e-3, 1e-2, 1e-1, 1, 10]\n",
    "space['class_weight'] = ['balanced',None]\n",
    "search = GridSearchCV(svm, space, scoring='balanced_accuracy', verbose=4, n_jobs=-1, cv=sgkf)\n",
    "result = search.fit(acc_arousal_x, acc_arousal_y, groups=acc_train_test_groups_arousal)\n",
    "\n",
    "# summarize result\n",
    "print('Best Score: %s' % result.best_score_)\n",
    "print('Best Hyperparameters: %s' % result.best_params_)\n"
   ]
  },
  {
   "cell_type": "code",
   "execution_count": 40,
   "metadata": {},
   "outputs": [
    {
     "data": {
      "image/png": "[encoded data removed]",
      "text/plain": [
       "<Figure size 720x360 with 4 Axes>"
      ]
     },
     "metadata": {
      "needs_background": "light"
     },
     "output_type": "display_data"
    },
    {
     "name": "stdout",
     "output_type": "stream",
     "text": [
      "SVM validation Arousal score with best hyperparameters - Accelerometer Unimodal: 0.5\n"
     ]
    }
   ],
   "source": [
    "# Using the hyperparameters on validation set\n",
    "# Change X_train variable names to avoid confusion later\n",
    "\n",
    "X_train = acc_arousal_x\n",
    "y_train = acc_arousal_y\n",
    "X_test = acc_arousal_x_val\n",
    "y_test = acc_arousal_y_val\n",
    "\n",
    "# StandardScaler\n",
    "scaler = StandardScaler()\n",
    "X_train_scaled = scaler.fit_transform(X_train)\n",
    "X_test_scaled = scaler.transform(X_test)\n",
    "\n",
    "# Fitting SVM training\n",
    "svm = SVC(C=0.0001,class_weight=\"balanced\", degree=2, kernel=\"linear\")\n",
    "svm.fit(X_train_scaled, y_train),\n",
    "y_pred = svm.predict(X_test_scaled)\n",
    "\n",
    "uar = balanced_accuracy_score(y_test,y_pred)\n",
    "\n",
    "# Plotting the confusion matrix\n",
    "cm = confusion_matrix(y_test,y_pred)\n",
    "cm_normalized = confusion_matrix(y_test,y_pred, normalize=\"true\")\n",
    "fig, axs = plt.subplots(1, 2, figsize=(10,5))\n",
    "fig.suptitle('SVC K-EmoCon Accelerometer Unimodal - Arousal')\n",
    "sns.heatmap(cm, annot=True, annot_kws={\"size\": 12},cmap=\"Blues\",fmt='g', ax=axs[0]) \n",
    "sns.heatmap(cm_normalized, annot=True, annot_kws={\"size\": 12},cmap=\"Blues\",fmt='g', ax=axs[1]) \n",
    "axs[0].set_title('Arousal classification')\n",
    "axs[1].set_title('Arousal classification normalized')\n",
    "for ax in axs.flat:\n",
    "    ax.set(xlabel='Predicted labels', ylabel='True labels')\n",
    "fig.tight_layout(rect=[0, 0.03, 1, 0.95])\n",
    "plt.show()\n",
    "\n",
    "print(\"SVM validation Arousal score with best hyperparameters - Accelerometer Unimodal:\", uar)"
   ]
  },
  {
   "cell_type": "code",
   "execution_count": 141,
   "metadata": {},
   "outputs": [
    {
     "name": "stdout",
     "output_type": "stream",
     "text": [
      "Training groups:  [ 1  5  9 10 12 13 14 15 16 17 18 19 20 21 22 23 24 25 26 28 30]\n",
      "Testing groups:  [ 4 11 31]\n"
     ]
    }
   ],
   "source": [
    "# Creating a train and test set for DNN hyperparameter tuning\n",
    "\n",
    "# Giving the same training and validation groups as in early fusion for arousal audio lexical\n",
    "train_idxs = sensor_merge_arousal.loc[~sensor_merge_arousal['pid'].isin([4, 11, 31])].index.to_list()\n",
    "test_idxs = sensor_merge_arousal.loc[sensor_merge_arousal['pid'].isin([4, 11, 31])].index.to_list()\n",
    "\n",
    "acc_arousal_x_train = acc_arousal_x_all.loc[train_idxs]\n",
    "acc_arousal_y_train = acc_arousal_y_all.loc[train_idxs]\n",
    "acc_arousal_x_test = acc_arousal_x_all.loc[test_idxs]\n",
    "acc_arousal_y_test = acc_arousal_y_all.loc[test_idxs]\n",
    "\n",
    "acc_arousal_x_train_groups = np.unique(acc_arousal_groups.loc[train_idxs])\n",
    "acc_arousal_x_test_groups = np.unique(acc_arousal_groups.loc[test_idxs])\n",
    "        \n",
    "print(\"Training groups: \", acc_arousal_x_train_groups)\n",
    "print(\"Testing groups: \", acc_arousal_x_test_groups) # [ 4 11 31]"
   ]
  },
  {
   "cell_type": "code",
   "execution_count": 102,
   "metadata": {},
   "outputs": [
    {
     "name": "stdout",
     "output_type": "stream",
     "text": [
      "Trial 131 Complete [00h 00m 04s]\n",
      "val_UAR_metric: 0.3333333432674408\n",
      "\n",
      "Best val_UAR_metric So Far: 0.42297831177711487\n",
      "Total elapsed time: 00h 03m 53s\n",
      "INFO:tensorflow:Oracle triggered exit\n",
      "\n",
      "The hyperparameter search is complete. \n",
      " First layer: 64 \n",
      " Second layer: 80 \n",
      " Third layer: 240 \n",
      " \n",
      " Dropout 1: 0.1 \n",
      " Dropout 2: 0.2 \n",
      " Dropout 3: 0.5 \n",
      " and the optimal learning rate for the optimizer\n",
      "is 1e-05.\n",
      "\n"
     ]
    }
   ],
   "source": [
    "# Hyperparameter tuning\n",
    "\n",
    "def model_builder(hp):\n",
    "    model = keras.Sequential()\n",
    "    hp_units = hp.Int('units', min_value=16, max_value=512, step=16)\n",
    "    model.add(Dense(hp_units, input_dim=10, activation=\"relu\"))\n",
    "    # Tune the number of units in the first Dense layer\n",
    "    # Choose an optimal value between 32-512\n",
    "    \n",
    "    dp1 = hp.Choice('dp1', values=[0.0, 0.1, 0.2, 0.3, 0.4, 0.5])\n",
    "    model.add(Dropout(dp1))\n",
    "    \n",
    "    hp_units1 = hp.Int('units1', min_value=16, max_value=512, step=16)\n",
    "    model.add(Dense(units=hp_units, activation='relu'))\n",
    "    # Tune the number of units in the first Dense layer\n",
    "    \n",
    "    dp2 = hp.Choice('dp2', values=[0.0, 0.1, 0.2, 0.3, 0.4, 0.5])\n",
    "    model.add(Dropout(dp2))\n",
    "    \n",
    "    hp_units2 = hp.Int('units2', min_value=16, max_value=512, step=16)\n",
    "    model.add(Dense(units=hp_units2, activation='relu'))\n",
    "    \n",
    "    dp3 = hp.Choice('dp3', values=[0.0, 0.1, 0.2, 0.3, 0.4, 0.5])\n",
    "    model.add(Dropout(dp3))\n",
    "    \n",
    "    # Tune the learning rate for the optimizer\n",
    "    hp_learning_rate = hp.Choice('learning_rate', values=[1e-2, 1e-3, 1e-4, 1e-5])\n",
    "    model.add(Dense(1, activation=\"sigmoid\"))\n",
    "    model.compile(optimizer=keras.optimizers.Adam(learning_rate=hp_learning_rate),\n",
    "                loss=\"binary_crossentropy\",\n",
    "                metrics=[UAR_metric])\n",
    "    return model\n",
    "\n",
    "# Initialize the hyperparameter tuner\n",
    "\n",
    "tuner = kt.Hyperband(model_builder,objective=kt.Objective('val_UAR_metric', direction='max'),\n",
    "                     max_epochs=100,\n",
    "                     factor=10,\n",
    "                     directory='KEmoCon_ACC_Unimodal',\n",
    "                     project_name='Trial2Arousal')\n",
    "\n",
    "# Stop early if validation doesn't change for 10 epochs\n",
    "stop_early = keras.callbacks.EarlyStopping(monitor='val_UAR_metric', patience=10)\n",
    "tuner.search(acc_arousal_x_train, acc_arousal_y_train, epochs=100, validation_data=(acc_arousal_x_test, acc_arousal_y_test), callbacks=[stop_early])\n",
    "\n",
    "# Get the optimal hyperparameters\n",
    "best_hps=tuner.get_best_hyperparameters(num_trials=1)[0]\n",
    "\n",
    "print(f\"\"\"\n",
    "The hyperparameter search is complete. \\n First layer: {best_hps.get('units')} \\n Second layer: {best_hps.get('units1')} \\n Third layer: {best_hps.get('units2')} \\n \\n Dropout 1: {best_hps.get('dp1')} \\n Dropout 2: {best_hps.get('dp2')} \\n Dropout 3: {best_hps.get('dp3')} \\n and the optimal learning rate for the optimizer\n",
    "is {best_hps.get('learning_rate')}.\n",
    "\"\"\")"
   ]
  },
  {
   "cell_type": "code",
   "execution_count": 41,
   "metadata": {},
   "outputs": [
    {
     "data": {
      "image/png": "[encoded data removed]",
      "text/plain": [
       "<Figure size 720x360 with 4 Axes>"
      ]
     },
     "metadata": {
      "needs_background": "light"
     },
     "output_type": "display_data"
    },
    {
     "name": "stdout",
     "output_type": "stream",
     "text": [
      "DNN validation score arousal with best hyperparameters -- Accelerometer Unimodal 0.5134535005224661\n"
     ]
    }
   ],
   "source": [
    "# Using the hyperparameters on validation set\n",
    "# Change X_train variable names to avoid confusion later\n",
    "\n",
    "X_train = acc_arousal_x\n",
    "y_train = acc_arousal_y\n",
    "X_test = acc_arousal_x_val\n",
    "y_test = acc_arousal_y_val\n",
    "\n",
    "# StandardScaler\n",
    "scaler = StandardScaler()\n",
    "X_train_scaled = scaler.fit_transform(X_train)\n",
    "X_test_scaled = scaler.transform(X_test)\n",
    "\n",
    "# Fitting DNN\n",
    "acc_unimodal_arousal = Sequential()\n",
    "acc_unimodal_arousal.add(Dense(64, input_dim=10, activation=\"relu\"))\n",
    "acc_unimodal_arousal.add(Dropout(0.1))\n",
    "acc_unimodal_arousal.add(Dense(80, activation=\"relu\"))\n",
    "acc_unimodal_arousal.add(Dropout(0.2))\n",
    "acc_unimodal_arousal.add(Dense(240, activation=\"relu\"))\n",
    "acc_unimodal_arousal.add(Dropout(0.5))\n",
    "acc_unimodal_arousal.add(Dense(1, activation=\"sigmoid\"))\n",
    "opt = keras.optimizers.Adam(learning_rate=1e-05)\n",
    "acc_unimodal_arousal.compile(loss='binary_crossentropy', optimizer=opt, metrics=[UAR_metric])\n",
    "acc_unimodal_arousal.fit(X_train_scaled, y_train, epochs = 100, verbose=0)\n",
    "acc_unimodal_arousal.save('KEmoCon_acc_latefusion_arousal.h5')\n",
    "# Prediction\n",
    "y_pred = acc_unimodal_arousal.predict(X_test_scaled, verbose=0)\n",
    "y_pred = np.rint(y_pred)\n",
    "uar = balanced_accuracy_score(y_test, y_pred)\n",
    "\n",
    "# Plotting the confusion matrix\n",
    "cm = confusion_matrix(y_test,y_pred)\n",
    "cm_normalized = confusion_matrix(y_test,y_pred, normalize=\"true\")\n",
    "fig, axs = plt.subplots(1, 2, figsize=(10,5))\n",
    "fig.suptitle('DNN K-EmoCon Accelerometer Unimodal - Arousal')\n",
    "sns.heatmap(cm, annot=True, annot_kws={\"size\": 12},cmap=\"Blues\",fmt='g', ax=axs[0]) \n",
    "sns.heatmap(cm_normalized, annot=True, annot_kws={\"size\": 12},cmap=\"Blues\",fmt='g', ax=axs[1]) \n",
    "axs[0].set_title('Arousal classification')\n",
    "axs[1].set_title('Arousal classification normalized')\n",
    "for ax in axs.flat:\n",
    "    ax.set(xlabel='Predicted labels', ylabel='True labels')\n",
    "fig.tight_layout(rect=[0, 0.03, 1, 0.95])\n",
    "plt.show()\n",
    "print(\"DNN validation score arousal with best hyperparameters -- Accelerometer Unimodal\", uar)"
   ]
  },
  {
   "cell_type": "markdown",
   "metadata": {},
   "source": [
    "## Late Fusion: Valence -- ACC"
   ]
  },
  {
   "cell_type": "code",
   "execution_count": 43,
   "metadata": {},
   "outputs": [
    {
     "name": "stdout",
     "output_type": "stream",
     "text": [
      "(2214, 10)\n",
      "(387, 10)\n",
      "Train test groups:  [ 4  5  8  9 10 12 13 14 15 18 20 22 26 27 28 30 31 32]\n",
      "Validation groups:  [ 1 17 23]\n"
     ]
    }
   ],
   "source": [
    "acc_valence_x_all = acc_unimodal_labels_merge_valence.drop(columns=([\"timestamp\",\"Valence_binary\",\"pid\"]))\n",
    "acc_valence_y_all = acc_unimodal_labels_merge_valence[\"Valence_binary\"]\n",
    "\n",
    "# Giving the same training and validation groups as in early fusion for valence audio lexical\n",
    "train_idxs = sensor_merge_valence.loc[~sensor_merge_valence['pid'].isin([1,17,23])].index.to_list()\n",
    "test_idxs = sensor_merge_valence.loc[sensor_merge_valence['pid'].isin([1,17,23])].index.to_list()\n",
    "\n",
    "acc_valence_x = acc_valence_x_all.loc[train_idxs]\n",
    "acc_valence_y = acc_valence_y_all.loc[train_idxs]\n",
    "acc_valence_x_val = acc_valence_x_all.loc[test_idxs]\n",
    "acc_valence_y_val = acc_valence_y_all.loc[test_idxs]\n",
    "\n",
    "acc_train_test_groups_valence = acc_valence_groups.loc[train_idxs]\n",
    "acc_val_groups_valence = acc_valence_groups.loc[test_idxs]\n",
    "\n",
    "acc_train_test_groups_valence_unique = np.unique(acc_valence_groups.loc[train_idxs])\n",
    "acc_val_groups_valence_unique = np.unique(acc_valence_groups.loc[test_idxs])\n",
    "        \n",
    "print(acc_valence_x.shape)\n",
    "print(acc_valence_x_val.shape)\n",
    "print(\"Train test groups: \", acc_train_test_groups_valence_unique)\n",
    "print(\"Validation groups: \", acc_val_groups_valence_unique)"
   ]
  },
  {
   "cell_type": "code",
   "execution_count": 146,
   "metadata": {},
   "outputs": [
    {
     "name": "stdout",
     "output_type": "stream",
     "text": [
      "Fitting 5 folds for each of 192 candidates, totalling 960 fits\n",
      "Best Score: 0.5187177415799098\n",
      "Best Hyperparameters: {'C': 0.1, 'class_weight': 'balanced', 'degree': 2, 'kernel': 'rbf'}\n"
     ]
    }
   ],
   "source": [
    "# Hyperparameter tuning\n",
    "\n",
    "# StratifiedKGroupFold\n",
    "sgkf = StratifiedGroupKFold(n_splits=5, random_state=10, shuffle=True)\n",
    "svm = SVC()\n",
    "\n",
    "# Grid search\n",
    "space = dict()\n",
    "space['degree'] = [2,3,4]\n",
    "space['kernel'] = ['linear', 'poly', 'rbf', 'sigmoid']\n",
    "space['C'] = [1e-6, 1e-5, 1e-4, 1e-3, 1e-2, 1e-1, 1, 10]\n",
    "space['class_weight'] = ['balanced',None]\n",
    "search = GridSearchCV(svm, space, scoring='balanced_accuracy', verbose=4, n_jobs=-1, cv=sgkf)\n",
    "result = search.fit(acc_valence_x, acc_valence_y, groups=acc_train_test_groups_valence)\n",
    "\n",
    "# summarize result\n",
    "print('Best Score: %s' % result.best_score_)\n",
    "print('Best Hyperparameters: %s' % result.best_params_)\n"
   ]
  },
  {
   "cell_type": "code",
   "execution_count": 44,
   "metadata": {},
   "outputs": [
    {
     "data": {
      "image/png": "[encoded data removed]",
      "text/plain": [
       "<Figure size 720x360 with 4 Axes>"
      ]
     },
     "metadata": {
      "needs_background": "light"
     },
     "output_type": "display_data"
    },
    {
     "name": "stdout",
     "output_type": "stream",
     "text": [
      "SVM validation Valence score with best hyperparameters - Accelerometer Unimodal: 0.47382048331415416\n"
     ]
    }
   ],
   "source": [
    "# Using the hyperparameters on validation set\n",
    "# Change X_train variable names to avoid confusion later\n",
    "\n",
    "X_train = acc_valence_x\n",
    "y_train = acc_valence_y\n",
    "X_test = acc_valence_x_val\n",
    "y_test = acc_valence_y_val\n",
    "\n",
    "# StandardScaler\n",
    "scaler = StandardScaler()\n",
    "X_train_scaled = scaler.fit_transform(X_train)\n",
    "X_test_scaled = scaler.transform(X_test)\n",
    "\n",
    "# Fitting SVM training\n",
    "svm = SVC(C=0.1,class_weight='balanced', degree=2, kernel=\"rbf\")\n",
    "svm.fit(X_train_scaled, y_train),\n",
    "y_pred = svm.predict(X_test_scaled)\n",
    "\n",
    "uar = balanced_accuracy_score(y_test,y_pred)\n",
    "\n",
    "# Plotting the confusion matrix\n",
    "cm = confusion_matrix(y_test,y_pred)\n",
    "cm_normalized = confusion_matrix(y_test,y_pred, normalize=\"true\")\n",
    "fig, axs = plt.subplots(1, 2, figsize=(10,5))\n",
    "fig.suptitle('SVC K-EmoCon Accelerometer Unimodal - Valence')\n",
    "sns.heatmap(cm, annot=True, annot_kws={\"size\": 12},cmap=\"Blues\",fmt='g', ax=axs[0]) \n",
    "sns.heatmap(cm_normalized, annot=True, annot_kws={\"size\": 12},cmap=\"Blues\",fmt='g', ax=axs[1]) \n",
    "axs[0].set_title('Valence classification')\n",
    "axs[1].set_title('Valence classification normalized')\n",
    "for ax in axs.flat:\n",
    "    ax.set(xlabel='Predicted labels', ylabel='True labels')\n",
    "fig.tight_layout(rect=[0, 0.03, 1, 0.95])\n",
    "plt.show()\n",
    "\n",
    "print(\"SVM validation Valence score with best hyperparameters - Accelerometer Unimodal:\", uar)"
   ]
  },
  {
   "cell_type": "code",
   "execution_count": 51,
   "metadata": {},
   "outputs": [
    {
     "name": "stdout",
     "output_type": "stream",
     "text": [
      "Training groups:  [ 5  8  9 10 12 13 14 15 18 20 22 26 27 31 32]\n",
      "Testing groups:  [ 4 28 30]\n"
     ]
    }
   ],
   "source": [
    "# Creating a train and test set for DNN hyperparameter tuning\n",
    "\n",
    "cv = StratifiedGroupKFold(n_splits=5, random_state=12, shuffle=True)\n",
    "for folds, (train_idxs, test_idxs) in enumerate(cv.split(acc_valence_x, acc_valence_y, train_test_groups_valence)):\n",
    "    if folds == 1: \n",
    "        acc_valence_x_train = acc_valence_x_all.iloc[train_idxs]\n",
    "        acc_valence_y_train = acc_valence_y_all.iloc[train_idxs]\n",
    "        acc_valence_x_test = acc_valence_x_all.iloc[test_idxs]\n",
    "        acc_valence_y_test = acc_valence_y_all.iloc[test_idxs]\n",
    "        \n",
    "        acc_valence_x_train_groups = np.unique(train_test_groups_valence.iloc[train_idxs])\n",
    "        acc_valence_x_test_groups = np.unique(train_test_groups_valence.iloc[test_idxs])\n",
    "        \n",
    "print(\"Training groups: \", acc_valence_x_train_groups)\n",
    "print(\"Testing groups: \", acc_valence_x_test_groups) # 4, 28, 30"
   ]
  },
  {
   "cell_type": "code",
   "execution_count": 107,
   "metadata": {},
   "outputs": [
    {
     "name": "stdout",
     "output_type": "stream",
     "text": [
      "Trial 131 Complete [00h 00m 03s]\n",
      "val_UAR_metric: 0.5\n",
      "\n",
      "Best val_UAR_metric So Far: 0.5272177457809448\n",
      "Total elapsed time: 00h 03m 40s\n",
      "INFO:tensorflow:Oracle triggered exit\n",
      "\n",
      "The hyperparameter search is complete. \n",
      " First layer: 448 \n",
      " Second layer: 352 \n",
      " Third layer: 512 \n",
      " \n",
      " Dropout 1: 0.4 \n",
      " Dropout 2: 0.2 \n",
      " Dropout 3: 0.2 \n",
      " and the optimal learning rate for the optimizer\n",
      "is 0.001.\n",
      "\n"
     ]
    }
   ],
   "source": [
    "# Hyperparameter tuning\n",
    "\n",
    "def model_builder(hp):\n",
    "    model = keras.Sequential()\n",
    "    hp_units = hp.Int('units', min_value=16, max_value=512, step=16)\n",
    "    model.add(Dense(hp_units, input_dim=10, activation=\"relu\"))\n",
    "    # Tune the number of units in the first Dense layer\n",
    "    # Choose an optimal value between 32-512\n",
    "    \n",
    "    dp1 = hp.Choice('dp1', values=[0.0, 0.1, 0.2, 0.3, 0.4, 0.5])\n",
    "    model.add(Dropout(dp1))\n",
    "    \n",
    "    hp_units1 = hp.Int('units1', min_value=16, max_value=512, step=16)\n",
    "    model.add(Dense(units=hp_units, activation='relu'))\n",
    "    # Tune the number of units in the first Dense layer\n",
    "    # Choose an optimal value between 32-512\n",
    "    \n",
    "    dp2 = hp.Choice('dp2', values=[0.0, 0.1, 0.2, 0.3, 0.4, 0.5])\n",
    "    model.add(Dropout(dp2))\n",
    "    \n",
    "    hp_units2 = hp.Int('units2', min_value=16, max_value=512, step=16)\n",
    "    model.add(Dense(units=hp_units2, activation='relu'))\n",
    "    \n",
    "    dp3 = hp.Choice('dp3', values=[0.0, 0.1, 0.2, 0.3, 0.4, 0.5])\n",
    "    model.add(Dropout(dp3))\n",
    "    \n",
    "    # Tune the learning rate for the optimizer\n",
    "    # Choose an optimal value from 0.01, 0.001, or 0.0001\n",
    "    hp_learning_rate = hp.Choice('learning_rate', values=[1e-2, 1e-3, 1e-4, 1e-5])\n",
    "    model.add(Dense(1, activation=\"sigmoid\"))\n",
    "    model.compile(optimizer=keras.optimizers.Adam(learning_rate=hp_learning_rate),\n",
    "                loss=\"binary_crossentropy\",\n",
    "                metrics=[UAR_metric])\n",
    "    return model\n",
    "\n",
    "# Initialize the hyperparameter tuner\n",
    "\n",
    "tuner = kt.Hyperband(model_builder,objective=kt.Objective('val_UAR_metric', direction='max'),\n",
    "                     max_epochs=100,\n",
    "                     factor=10,\n",
    "                     directory='KEmoCon_ACC_Unimodal',\n",
    "                     project_name='Trial2Valence')\n",
    "\n",
    "# Stop early if validation doesn't change for 10 epochs\n",
    "stop_early = keras.callbacks.EarlyStopping(monitor='val_UAR_metric', patience=10)\n",
    "tuner.search(acc_valence_x_train, acc_valence_y_train, epochs=100, validation_data=(acc_valence_x_test, acc_valence_y_test), callbacks=[stop_early])\n",
    "\n",
    "# Get the optimal hyperparameters\n",
    "best_hps=tuner.get_best_hyperparameters(num_trials=1)[0]\n",
    "\n",
    "print(f\"\"\"\n",
    "The hyperparameter search is complete. \\n First layer: {best_hps.get('units')} \\n Second layer: {best_hps.get('units1')} \\n Third layer: {best_hps.get('units2')} \\n \\n Dropout 1: {best_hps.get('dp1')} \\n Dropout 2: {best_hps.get('dp2')} \\n Dropout 3: {best_hps.get('dp3')} \\n and the optimal learning rate for the optimizer\n",
    "is {best_hps.get('learning_rate')}.\n",
    "\"\"\")"
   ]
  },
  {
   "cell_type": "code",
   "execution_count": 46,
   "metadata": {},
   "outputs": [
    {
     "data": {
      "image/png": "[encoded data removed]",
      "text/plain": [
       "<Figure size 720x360 with 4 Axes>"
      ]
     },
     "metadata": {
      "needs_background": "light"
     },
     "output_type": "display_data"
    },
    {
     "name": "stdout",
     "output_type": "stream",
     "text": [
      "DNN validation score valence with best hyperparameters -- Accelerometer Unimodal 0.4796975176722012\n"
     ]
    }
   ],
   "source": [
    "# Using the hyperparameters on validation set\n",
    "# Change X_train variable names to avoid confusion later\n",
    "\n",
    "X_train = acc_valence_x\n",
    "y_train = acc_valence_y\n",
    "X_test = acc_valence_x_val\n",
    "y_test = acc_valence_y_val\n",
    "\n",
    "# StandardScaler\n",
    "scaler = StandardScaler()\n",
    "X_train_scaled = scaler.fit_transform(X_train)\n",
    "X_test_scaled = scaler.transform(X_test)\n",
    "\n",
    "# Fitting DNN\n",
    "acc_unimodal_valence = Sequential()\n",
    "acc_unimodal_valence.add(Dense(448, input_dim=10, activation=\"relu\"))\n",
    "acc_unimodal_valence.add(Dropout(0.4))\n",
    "acc_unimodal_valence.add(Dense(352, activation=\"relu\"))\n",
    "acc_unimodal_valence.add(Dropout(0.2))\n",
    "acc_unimodal_valence.add(Dense(512, activation=\"relu\"))\n",
    "acc_unimodal_valence.add(Dropout(0.2))\n",
    "acc_unimodal_valence.add(Dense(1, activation=\"sigmoid\"))\n",
    "opt = keras.optimizers.Adam(learning_rate=0.001)\n",
    "acc_unimodal_valence.compile(loss='binary_crossentropy', optimizer=opt, metrics=[UAR_metric])\n",
    "acc_unimodal_valence.fit(X_train_scaled, y_train, epochs = 100, verbose=0)\n",
    "acc_unimodal_valence.save('KEmoCon_acc_latefusion_valence.h5')\n",
    "# Prediction\n",
    "y_pred = acc_unimodal_valence.predict(X_test_scaled, verbose=0)\n",
    "y_pred = np.rint(y_pred)\n",
    "uar = balanced_accuracy_score(y_test, y_pred)\n",
    "\n",
    "# Plotting the confusion matrix\n",
    "cm = confusion_matrix(y_test,y_pred)\n",
    "cm_normalized = confusion_matrix(y_test,y_pred, normalize=\"true\")\n",
    "fig, axs = plt.subplots(1, 2, figsize=(10,5))\n",
    "fig.suptitle('DNN K-EmoCon Accelerometer Unimodal - Arousal')\n",
    "sns.heatmap(cm, annot=True, annot_kws={\"size\": 12},cmap=\"Blues\",fmt='g', ax=axs[0]) \n",
    "sns.heatmap(cm_normalized, annot=True, annot_kws={\"size\": 12},cmap=\"Blues\",fmt='g', ax=axs[1]) \n",
    "axs[0].set_title('valence classification')\n",
    "axs[1].set_title('valence classification normalized')\n",
    "for ax in axs.flat:\n",
    "    ax.set(xlabel='Predicted labels', ylabel='True labels')\n",
    "fig.tight_layout(rect=[0, 0.03, 1, 0.95])\n",
    "plt.show()\n",
    "print(\"DNN validation score valence with best hyperparameters -- Accelerometer Unimodal\", uar)"
   ]
  },
  {
   "cell_type": "markdown",
   "metadata": {},
   "source": [
    "## Late fusion (HR and ACC) - Arousal"
   ]
  },
  {
   "cell_type": "code",
   "execution_count": 47,
   "metadata": {},
   "outputs": [
    {
     "name": "stdout",
     "output_type": "stream",
     "text": [
      "Late fusion averaging 0.5187108150470219\n",
      "Late fusion averaging prediction after converting predictions to binary 0.5497648902821317\n",
      "Late fusion max of either input 0.519265935214211\n",
      "Late fusion median 0.5187108150470219\n"
     ]
    },
    {
     "data": {
      "image/png": "[encoded data removed]",
      "text/plain": [
       "<Figure size 720x360 with 4 Axes>"
      ]
     },
     "metadata": {
      "needs_background": "light"
     },
     "output_type": "display_data"
    }
   ],
   "source": [
    "# Late fusion using averaging of predictions\n",
    "\n",
    "# Find true values of arousal in validation set [001, 006, 010] that is common for both\n",
    "\n",
    "if (hr_arousal_y_val.equals(acc_arousal_y_val)):\n",
    "    hr_acc_y_val = acc_arousal_y_val # Should be the same as hr\n",
    "else:\n",
    "    raise(\"labels are not same\")\n",
    "    \n",
    "# Get best DNN models and average predictions\n",
    "\n",
    "# StandardScaler hr\n",
    "scaler_hr = StandardScaler()\n",
    "hr_arousal_x_scaled = scaler_hr.fit_transform(hr_arousal_x) # train\n",
    "hr_arousal_x_val_scaled = scaler_hr.transform(hr_arousal_x_val) #test \n",
    "\n",
    "# Best DNN for hr arousal\n",
    "hr_unimodal_arousal = Sequential()\n",
    "hr_unimodal_arousal.add(Dense(96, input_dim=10, activation=\"relu\"))\n",
    "hr_unimodal_arousal.add(Dropout(0.5))\n",
    "hr_unimodal_arousal.add(Dense(208, activation=\"relu\"))\n",
    "hr_unimodal_arousal.add(Dropout(0.0))\n",
    "hr_unimodal_arousal.add(Dense(336, activation=\"relu\"))\n",
    "hr_unimodal_arousal.add(Dropout(0.4))\n",
    "hr_unimodal_arousal.add(Dense(1, activation=\"sigmoid\"))\n",
    "opt = keras.optimizers.Adam(learning_rate=1e-05)\n",
    "hr_unimodal_arousal.compile(loss='binary_crossentropy', optimizer=opt, metrics=[UAR_metric])\n",
    "hr_unimodal_arousal.fit(hr_arousal_x_scaled, hr_arousal_y, epochs = 100, verbose=0)\n",
    "# Prediction\n",
    "hr_unimodal_arousal_y_pred = hr_unimodal_arousal.predict(hr_arousal_x_val_scaled, verbose=0)\n",
    "\n",
    "# Best DNN for acc arousal\n",
    "\n",
    "# StandardScaler acc\n",
    "scaler_acc = StandardScaler()\n",
    "acc_arousal_x_scaled = scaler_acc.fit_transform(acc_arousal_x) # train\n",
    "acc_arousal_x_val_scaled = scaler_acc.transform(acc_arousal_x_val) #test \n",
    "\n",
    "acc_unimodal_arousal = Sequential()\n",
    "acc_unimodal_arousal.add(Dense(64, input_dim=10, activation=\"relu\"))\n",
    "acc_unimodal_arousal.add(Dropout(0.1))\n",
    "acc_unimodal_arousal.add(Dense(80, activation=\"relu\"))\n",
    "acc_unimodal_arousal.add(Dropout(0.2))\n",
    "acc_unimodal_arousal.add(Dense(240, activation=\"relu\"))\n",
    "acc_unimodal_arousal.add(Dropout(0.5))\n",
    "acc_unimodal_arousal.add(Dense(1, activation=\"sigmoid\"))\n",
    "opt = keras.optimizers.Adam(learning_rate=1e-05)\n",
    "acc_unimodal_arousal.compile(loss='binary_crossentropy', optimizer=opt, metrics=[UAR_metric])\n",
    "acc_unimodal_arousal.fit(acc_arousal_x_scaled, acc_arousal_y, epochs = 100, verbose=0)\n",
    "# Prediction\n",
    "acc_unimodal_arousal_y_pred = acc_unimodal_arousal.predict(acc_arousal_x_val_scaled, verbose=0)\n",
    "\n",
    "# Evaluate on \n",
    "hr_acc_pred_merge_arousal = np.array([hr_unimodal_arousal_y_pred,acc_unimodal_arousal_y_pred])\n",
    "\n",
    "# Averaging prediction (baseline)\n",
    "late_fusion_hr_acc_pred_avg = np.rint(hr_acc_pred_merge_arousal.mean(axis=0))\n",
    "uar_late_fusion_hr_acc_pred_avg = balanced_accuracy_score(hr_arousal_y_val, late_fusion_hr_acc_pred_avg)\n",
    "print(\"Late fusion averaging\", uar_late_fusion_hr_acc_pred_avg)\n",
    "\n",
    "# Averaging prediction after converting predictions (baseline)\n",
    "hr_acc_pred_merge_arousal_binary = np.array([np.rint(hr_unimodal_arousal_y_pred),np.rint(acc_unimodal_arousal_y_pred)])\n",
    "late_fusion_hr_acc_pred_avg_binary = np.rint(hr_acc_pred_merge_arousal_binary.mean(axis=0))\n",
    "uar_late_fusion_hr_acc_pred_binary= balanced_accuracy_score(hr_arousal_y_val, late_fusion_hr_acc_pred_avg_binary)\n",
    "print(\"Late fusion averaging prediction after converting predictions to binary\",uar_late_fusion_hr_acc_pred_binary)\n",
    "\n",
    "# Taking max prediction\n",
    "late_fusion_hr_acc_pred_max = np.rint(hr_acc_pred_merge_arousal.max(axis=0))\n",
    "uar_late_fusion_hr_acc_pred_max = balanced_accuracy_score(hr_arousal_y_val, late_fusion_hr_acc_pred_max)\n",
    "print(\"Late fusion max of either input\", uar_late_fusion_hr_acc_pred_max)\n",
    "\n",
    "# Taking median\n",
    "late_fusion_hr_acc_pred_median = np.rint(np.median(hr_acc_pred_merge_arousal, axis=0))\n",
    "uar_late_fusion_hr_acc_pred_median = balanced_accuracy_score(hr_arousal_y_val, late_fusion_hr_acc_pred_median)\n",
    "print(\"Late fusion median\", uar_late_fusion_hr_acc_pred_median)\n",
    "\n",
    "\n",
    "cm = confusion_matrix(hr_arousal_y_val,late_fusion_hr_acc_pred_avg)\n",
    "cm_normalized = confusion_matrix(hr_arousal_y_val,late_fusion_hr_acc_pred_avg, normalize=\"true\")\n",
    "fig, axs = plt.subplots(1, 2, figsize=(10,5))\n",
    "fig.suptitle('Late fusion (K-EmoCon Accelerometer and Heart Rate) - Arousal')\n",
    "sns.heatmap(cm, annot=True, annot_kws={\"size\": 12},cmap=\"Blues\",fmt='g', ax=axs[0]) \n",
    "sns.heatmap(cm_normalized, annot=True, annot_kws={\"size\": 12},cmap=\"Blues\",fmt='g', ax=axs[1]) \n",
    "axs[0].set_title('Arousal classification')\n",
    "axs[1].set_title('Arousal classification normalized')\n",
    "for ax in axs.flat:\n",
    "    ax.set(xlabel='Predicted labels', ylabel='True labels')\n",
    "fig.tight_layout(rect=[0, 0.03, 1, 0.95])\n",
    "plt.show()"
   ]
  },
  {
   "cell_type": "code",
   "execution_count": 48,
   "metadata": {},
   "outputs": [
    {
     "name": "stdout",
     "output_type": "stream",
     "text": [
      "Late fusion averaging 0.4897665625513727\n",
      "Late fusion averaging prediction after converting predictions to binary 0.4712518494164064\n",
      "Late fusion max of either input 0.5030823606772974\n",
      "Late fusion median 0.4897665625513727\n"
     ]
    },
    {
     "data": {
      "image/png": "[encoded data removed]",
      "text/plain": [
       "<Figure size 720x360 with 4 Axes>"
      ]
     },
     "metadata": {
      "needs_background": "light"
     },
     "output_type": "display_data"
    }
   ],
   "source": [
    "# Late fusion using averaging of predictions\n",
    "\n",
    "# Find true values of valence in validation set [001, 006, 010] that is common for both\n",
    "\n",
    "if (hr_valence_y_val.equals(acc_valence_y_val)):\n",
    "    hr_acc_y_val = acc_valence_y_val # Should be the same as hr\n",
    "else:\n",
    "    raise(\"labels are not same\")\n",
    "    \n",
    "# Get best DNN models and average predictions\n",
    "\n",
    "# StandardScaler hr\n",
    "scaler_hr = StandardScaler()\n",
    "hr_valence_x_scaled = scaler_hr.fit_transform(hr_valence_x) # train\n",
    "hr_valence_x_val_scaled = scaler_hr.transform(hr_valence_x_val) #test \n",
    "\n",
    "# Best DNN for hr valence\n",
    "hr_unimodal_valence = Sequential()\n",
    "hr_unimodal_valence.add(Dense(128, input_dim=10, activation=\"relu\"))\n",
    "hr_unimodal_valence.add(Dropout(0.3))\n",
    "hr_unimodal_valence.add(Dense(400, activation=\"relu\"))\n",
    "hr_unimodal_valence.add(Dropout(0.5))\n",
    "hr_unimodal_valence.add(Dense(160, activation=\"relu\"))\n",
    "hr_unimodal_valence.add(Dropout(0.0))\n",
    "hr_unimodal_valence.add(Dense(1, activation=\"sigmoid\"))\n",
    "opt = keras.optimizers.Adam(learning_rate=0.001)\n",
    "hr_unimodal_valence.compile(loss='binary_crossentropy', optimizer=opt, metrics=[UAR_metric])\n",
    "hr_unimodal_valence.fit(hr_valence_x_scaled, hr_valence_y, epochs = 100, verbose=0)\n",
    "# Prediction\n",
    "hr_unimodal_valence_y_pred = hr_unimodal_valence.predict(hr_valence_x_val_scaled, verbose=0)\n",
    "\n",
    "# Best DNN for acc valence\n",
    "\n",
    "# StandardScaler acc\n",
    "scaler_acc = StandardScaler()\n",
    "acc_valence_x_scaled = scaler_acc.fit_transform(acc_valence_x) # train\n",
    "acc_valence_x_val_scaled = scaler_acc.transform(acc_valence_x_val) #test \n",
    "\n",
    "acc_unimodal_valence = Sequential()\n",
    "acc_unimodal_valence.add(Dense(448, input_dim=10, activation=\"relu\"))\n",
    "acc_unimodal_valence.add(Dropout(0.4))\n",
    "acc_unimodal_valence.add(Dense(352, activation=\"relu\"))\n",
    "acc_unimodal_valence.add(Dropout(0.2))\n",
    "acc_unimodal_valence.add(Dense(512, activation=\"relu\"))\n",
    "acc_unimodal_valence.add(Dropout(0.2))\n",
    "acc_unimodal_valence.add(Dense(1, activation=\"sigmoid\"))\n",
    "opt = keras.optimizers.Adam(learning_rate=0.001)\n",
    "acc_unimodal_valence.compile(loss='binary_crossentropy', optimizer=opt, metrics=[UAR_metric])\n",
    "acc_unimodal_valence.fit(acc_valence_x_scaled, acc_valence_y, epochs = 100, verbose=0)\n",
    "# Prediction\n",
    "acc_unimodal_valence_y_pred = acc_unimodal_valence.predict(acc_valence_x_val_scaled, verbose=0)\n",
    "\n",
    "# Evaluate on \n",
    "hr_acc_pred_merge_valence = np.array([hr_unimodal_valence_y_pred,acc_unimodal_valence_y_pred])\n",
    "\n",
    "# Averaging prediction (baseline)\n",
    "late_fusion_hr_acc_pred_avg = np.rint(hr_acc_pred_merge_valence.mean(axis=0))\n",
    "uar_late_fusion_hr_acc_pred_avg = balanced_accuracy_score(hr_valence_y_val, late_fusion_hr_acc_pred_avg)\n",
    "print(\"Late fusion averaging\", uar_late_fusion_hr_acc_pred_avg)\n",
    "\n",
    "# Averaging prediction after converting predictions (baseline)\n",
    "hr_acc_pred_merge_valence_binary = np.array([np.rint(hr_unimodal_valence_y_pred),np.rint(acc_unimodal_valence_y_pred)])\n",
    "late_fusion_hr_acc_pred_avg_binary = np.rint(hr_acc_pred_merge_valence_binary.mean(axis=0))\n",
    "uar_late_fusion_hr_acc_pred_binary= balanced_accuracy_score(hr_valence_y_val, late_fusion_hr_acc_pred_avg_binary)\n",
    "print(\"Late fusion averaging prediction after converting predictions to binary\",uar_late_fusion_hr_acc_pred_binary)\n",
    "\n",
    "# Taking max prediction\n",
    "late_fusion_hr_acc_pred_max = np.rint(hr_acc_pred_merge_valence.max(axis=0))\n",
    "uar_late_fusion_hr_acc_pred_max = balanced_accuracy_score(hr_valence_y_val, late_fusion_hr_acc_pred_max)\n",
    "print(\"Late fusion max of either input\", uar_late_fusion_hr_acc_pred_max)\n",
    "\n",
    "# Taking median\n",
    "late_fusion_hr_acc_pred_median = np.rint(np.median(hr_acc_pred_merge_valence, axis=0))\n",
    "uar_late_fusion_hr_acc_pred_median = balanced_accuracy_score(hr_valence_y_val, late_fusion_hr_acc_pred_median)\n",
    "print(\"Late fusion median\", uar_late_fusion_hr_acc_pred_median)\n",
    "\n",
    "\n",
    "cm = confusion_matrix(hr_valence_y_val,late_fusion_hr_acc_pred_avg)\n",
    "cm_normalized = confusion_matrix(hr_valence_y_val,late_fusion_hr_acc_pred_avg, normalize=\"true\")\n",
    "fig, axs = plt.subplots(1, 2, figsize=(10,5))\n",
    "fig.suptitle('Late fusion (K-EmoCon Accelerometer and Heart Rate) - Valence')\n",
    "sns.heatmap(cm, annot=True, annot_kws={\"size\": 12},cmap=\"Blues\",fmt='g', ax=axs[0]) \n",
    "sns.heatmap(cm_normalized, annot=True, annot_kws={\"size\": 12},cmap=\"Blues\",fmt='g', ax=axs[1]) \n",
    "axs[0].set_title('Valence classification')\n",
    "axs[1].set_title('Valence classification normalized')\n",
    "for ax in axs.flat:\n",
    "    ax.set(xlabel='Predicted labels', ylabel='True labels')\n",
    "fig.tight_layout(rect=[0, 0.03, 1, 0.95])\n",
    "plt.show()"
   ]
  },
  {
   "cell_type": "code",
   "execution_count": null,
   "metadata": {},
   "outputs": [],
   "source": []
  },
  {
   "cell_type": "code",
   "execution_count": 30,
   "metadata": {},
   "outputs": [
    {
     "data": {
      "text/plain": [
       "0.5"
      ]
     },
     "execution_count": 30,
     "metadata": {},
     "output_type": "execute_result"
    }
   ],
   "source": [
    "# Unimodal hr arousal\n",
    "balanced_accuracy_score(hr_arousal_y_val,np.rint(hr_unimodal_arousal_y_pred))"
   ]
  },
  {
   "cell_type": "code",
   "execution_count": null,
   "metadata": {},
   "outputs": [],
   "source": []
  }
 ],
 "metadata": {
  "kernelspec": {
   "display_name": "Python 3",
   "language": "python",
   "name": "python3"
  },
  "language_info": {
   "codemirror_mode": {
    "name": "ipython",
    "version": 3
   },
   "file_extension": ".py",
   "mimetype": "text/x-python",
   "name": "python",
   "nbconvert_exporter": "python",
   "pygments_lexer": "ipython3",
   "version": "3.7.6"
  }
 },
 "nbformat": 4,
 "nbformat_minor": 4
}
