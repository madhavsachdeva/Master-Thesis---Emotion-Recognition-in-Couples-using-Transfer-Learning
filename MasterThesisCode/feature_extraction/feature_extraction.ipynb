{
 "cells": [
  {
   "cell_type": "code",
   "execution_count": 2,
   "metadata": {},
   "outputs": [],
   "source": [
    "'''\n",
    "\n",
    "Author: Madhav Sachdeva\n",
    "Recent changes date: 5 March, 2022\n",
    "Title: Helper functions for extracting features from sensor data\n",
    "\n",
    "'''\n",
    "\n",
    "import numpy as np\n",
    "import pandas as pd\n",
    "import os\n",
    "from scipy import stats"
   ]
  },
  {
   "cell_type": "code",
   "execution_count": 3,
   "metadata": {},
   "outputs": [],
   "source": [
    "#Global variable for path\n",
    "\n",
    "folder_path = \"../data/EmoCon/e4_data\"\n",
    "emotion_data_path = \"../data/EmoCon/emotion_annotations/self_annotations/\""
   ]
  },
  {
   "cell_type": "code",
   "execution_count": 4,
   "metadata": {},
   "outputs": [],
   "source": [
    "# Defining outlier removal methods\n",
    "\n",
    "def remove_outliers_acc(data,column,z):\n",
    "    \n",
    "    '''\n",
    "    Removing outliers 'z' (integer) standard deviation away from mean\n",
    "    \n",
    "    Input: data: Pandas DataFrame\n",
    "    Output: outlier_removed_data: DataFrame with outliers removed\n",
    "\n",
    "    '''\n",
    "    \n",
    "    #print(\"Data shape before\", data[column].shape)\n",
    "    if np.std(data[column]) != 0:\n",
    "        outlier_removed_data = data[(np.abs(stats.zscore(data[column])) < z)] \n",
    "        \n",
    "    #print(\"Data shape after:\",outlier_removed_data[column].shape)\n",
    "\n",
    "    return(outlier_removed_data)\n",
    "\n",
    "\n",
    "def remove_outliers_heart_rate(data,column):\n",
    "    \n",
    "     \n",
    "    '''\n",
    "    Removing outliers with heart rate beats per minute <30 and >300\n",
    "    \n",
    "    Input: data: Pandas DataFrame\n",
    "    Output: outlier_removed_data: DataFrame with outliers removed\n",
    "\n",
    "    '''\n",
    "    \n",
    "    #print(\"Data shape before\", data[column].shape)\n",
    "    if np.std(data[column]) != 0:\n",
    "        outlier_removed_data = data[data[column].iloc[:].between(30,300,inclusive=False)] \n",
    "        \n",
    "    #print(\"Data shape after:\",outlier_removed_data[column].shape)\n",
    "    return(outlier_removed_data)"
   ]
  },
  {
   "cell_type": "code",
   "execution_count": 5,
   "metadata": {},
   "outputs": [],
   "source": [
    "# Reading start and end durations\n",
    "duration = pd.read_csv(\"../data/EmoCon/metadata/subjects.csv\")\n",
    "duration['initTime'] = pd.to_datetime(duration['initTime'],unit='ms')\n",
    "duration['startTime'] = pd.to_datetime(duration['startTime'],unit='ms')\n",
    "duration['endTime'] = pd.to_datetime(duration['endTime'],unit='ms')"
   ]
  },
  {
   "cell_type": "code",
   "execution_count": 80,
   "metadata": {},
   "outputs": [],
   "source": [
    "\n",
    "\n",
    "def heart_rate_features(folder_path, sampling_rate,save_data_individually=False):\n",
    "    \"\"\"Obtain features from heart rate data.\n",
    "    \n",
    "    Args:\n",
    "        folder_path(str): Path to the main folder.\n",
    "        sampling_rate: Rate at which to sample and calculate statistics\n",
    "        save_data_individually: Save each feature matrix per participant\n",
    "        \n",
    "    Returns:\n",
    "        Data frame with features: Count, Mean, Std, Min, Q1, Median, Q3, Max, Skewness, Kurtosis, Range\n",
    "    \"\"\"\n",
    "    features = []\n",
    "    i = 0\n",
    "    for subdir in os.listdir(folder_path):\n",
    "        i+= 1\n",
    "        for files in os.listdir(os.path.join(folder_path,subdir)):\n",
    "            \n",
    "            filepath = os.path.join(folder_path,subdir,files)\n",
    "\n",
    "            #Check if heart_rate file exists, read data and find statistics - create a list with name\n",
    "            if filepath.endswith(\"HR.csv\"):\n",
    "\n",
    "                #Reading emotion labels and creating timestamp based on participant's debate times\n",
    "                emotion_label = pd.read_csv(emotion_data_path+\"P\"+str(subdir)+\".self.csv\",usecols=[0,1,2])\n",
    "                emotion_label['timestamp'] = duration[duration['pid']==int(subdir)].startTime.iloc[0] + pd.to_timedelta(emotion_label['seconds'],'s')\n",
    "                \n",
    "                #Reading heart rate and converting timestamp to readable format\n",
    "                heart_rate_raw = pd.read_csv(filepath, usecols=['timestamp', 'pid','value', 'device_serial'],header=0)\n",
    "                heart_rate_raw['timestamp'] =  pd.to_datetime(heart_rate_raw['timestamp'],unit='ms')\n",
    "                \n",
    "                # Removing incorrect device serial from 29, 30, 31, 32\n",
    "                if (subdir == \"29\" or subdir == \"31\"):\n",
    "                    print(\"Before\", subdir, heart_rate_raw.shape)\n",
    "                    heart_rate_raw = heart_rate_raw.loc[heart_rate_raw.device_serial == \"A013E1\"]\n",
    "                    print(\"After\", subdir,heart_rate_raw.shape)\n",
    "                elif (subdir == \"30\" or subdir == \"32\"): \n",
    "                    heart_rate_raw = heart_rate_raw.loc[heart_rate_raw.device_serial == \"A01A3A\"]\n",
    "                    \n",
    "                #Removing outliers\n",
    "                heart_rate_outliers_removed = remove_outliers_heart_rate(heart_rate_raw,\"value\")\n",
    "                # print(\"Removing outliers shape\", subdir, heart_rate_outliers_removed.shape)\n",
    "                \n",
    "                #Keeping only data that is within the debate start and stop times\n",
    "                start = duration[duration['pid']==int(subdir)].startTime.iloc[0]\n",
    "                end = duration[duration['pid']==int(subdir)].endTime.iloc[0]\n",
    "                start_time = str(start.time())\n",
    "\n",
    "                heart_rate = heart_rate_outliers_removed[(heart_rate_outliers_removed['timestamp'] >= start) & (heart_rate_outliers_removed['timestamp'] <= end)]\n",
    "                # print(\"heart rate shape\", subdir, heart_rate)\n",
    "                \n",
    "                #Grouping samples in 5 second time windows (to match with emotion label annotation frequency) and generating statistics. Timestamp label in grouper is the last timestamp.\n",
    "                rolling_df = heart_rate[['timestamp','value']].groupby(pd.Grouper(key='timestamp',freq='5S', offset=start_time, closed='right',label='right')).describe()\n",
    "                rolling_df = rolling_df.droplevel(level=0,axis=1) # Dropping the extra labels\n",
    "                rolling_df['data_range'] = rolling_df['max'] - rolling_df['min']\n",
    "                rolling_df['skewness'] = heart_rate[['timestamp','value']].groupby(pd.Grouper(key='timestamp',offset=start_time, freq='5S', closed='right',label='right')).skew()\n",
    "                rolling_df['kurtosis'] = heart_rate[['timestamp','value']].groupby(pd.Grouper(key='timestamp',offset=start_time, freq='5S', closed='right',label='right')).apply(pd.DataFrame.kurtosis)\n",
    "                rolling_df['pid'] = heart_rate['pid'].iloc[0]\n",
    "\n",
    "                #Merging emotion label data\n",
    "                hr_emotion_labels = pd.merge(emotion_label[['timestamp','arousal','valence']], rolling_df, on='timestamp')\n",
    "                hr_emotion_labels = hr_emotion_labels[(hr_emotion_labels['timestamp'] >= start) & (hr_emotion_labels['timestamp'] <= end)]\n",
    "\n",
    "                #Binarize emotion label\n",
    "                hr_emotion_labels['arousal_bin'] = hr_emotion_labels['arousal'].apply(lambda x:0 if x < 3 else 1)\n",
    "                hr_emotion_labels['valence_bin'] = hr_emotion_labels['valence'].apply(lambda x:0 if x < 3 else 1)\n",
    "\n",
    "                print(\"Participant:\", subdir)\n",
    "                print(\"Before removing\", hr_emotion_labels.shape[0])\n",
    "                    \n",
    "                #Removing rows which have less than 5 seconds of samples\n",
    "                # hr_emotion_labels = hr_emotion_labels.drop(hr_emotion_labels[hr_emotion_labels['count'] < sampling_rate].index)\n",
    "                \n",
    "                print(\"After removing\", hr_emotion_labels.shape[0])\n",
    "                \n",
    "                #Saving features in list\n",
    "                features.append(hr_emotion_labels)\n",
    "                \n",
    "\n",
    "            if(save_data_individually):\n",
    "                hr_emotion_labels.to_csv('heart_rate_features_'+subdir+'.csv',index=False)\n",
    "                print(\"Saving data for pid\",subdir)\n",
    "                \n",
    "        \n",
    "        #Combine features from all pids\n",
    "        features_final = pd.concat(features)\n",
    "        features_final = features_final.reset_index(drop=True)\n",
    "        \n",
    "    return features_final\n",
    "               "
   ]
  },
  {
   "cell_type": "code",
   "execution_count": 6,
   "metadata": {},
   "outputs": [],
   "source": [
    "import matplotlib.pyplot as plt"
   ]
  },
  {
   "cell_type": "code",
   "execution_count": 17,
   "metadata": {},
   "outputs": [
    {
     "data": {
      "image/png": "[encoded data removed]",
      "text/plain": [
       "<Figure size 576x288 with 1 Axes>"
      ]
     },
     "metadata": {
      "needs_background": "light"
     },
     "output_type": "display_data"
    }
   ],
   "source": [
    "features = []\n",
    "i = 0\n",
    "subdir = \"4\"\n",
    "for files in os.listdir(os.path.join(folder_path,subdir)):\n",
    "\n",
    "    filepath = os.path.join(folder_path,subdir,files)\n",
    "\n",
    "    #Check if acc file, read data and find statistics - create a list with name\n",
    "    if filepath.endswith(\"ACC.csv\"):\n",
    "\n",
    "            #Reading emotion labels and creating timestamp based on participant's debate times\n",
    "            emotion_label = pd.read_csv(emotion_data_path+\"P\"+str(subdir)+\".self.csv\",usecols=[0,1,2])\n",
    "            emotion_label['timestamp'] = duration[duration['pid']==int(subdir)].startTime.iloc[0] + pd.to_timedelta(emotion_label['seconds'],'s')\n",
    "\n",
    "            #Reading data and converting timestamp to readable format\n",
    "            data_raw = pd.read_csv(filepath, usecols=['timestamp', 'pid','x','y','z', 'device_serial'],header=0)\n",
    "            data_raw['timestamp'] =  pd.to_datetime(data_raw['timestamp'],unit='ms')\n",
    "\n",
    "            #Merging accelerometer (x,y,z) positional data to represent in one value\n",
    "            data_raw['m'] = data_raw.apply(lambda row: np.sqrt(row['x']**2 + row['y']**2 + row['z']**2), axis=1)\n",
    "\n",
    "            # Removing incorrect device serial from 29, 30, 31, 32\n",
    "            if (subdir == \"29\" or subdir == \"31\"):\n",
    "                print(\"Before\", subdir, data_raw.shape)\n",
    "                data_raw = data_raw.loc[data_raw.device_serial == \"A013E1\"]\n",
    "                print(\"After\", subdir,data_raw.shape)\n",
    "            elif (subdir == \"30\" or subdir == \"32\"): \n",
    "                data_raw = data_raw.loc[data_raw.device_serial == \"A01A3A\"]\n",
    "\n",
    "            #Removing outliers\n",
    "            data_raw_outliers_removed = remove_outliers_acc(data_raw,\"m\",1)\n",
    "                \n",
    "            # Plotting\n",
    "            plt.figure(figsize=(8,4))\n",
    "            plt.plot(data_raw['timestamp'],data_raw['m'], label=\"Without noise reduction\")\n",
    "            plt.title(\"Accelerometer data for participant ID \"+subdir+\" with and without noise reduction\")\n",
    "            plt.xlabel(\"Time\")\n",
    "            plt.ylabel(\"(m/s)^2\")\n",
    "            \n",
    "            plt.plot(data_raw_outliers_removed['timestamp'],data_raw_outliers_removed['m'], label=\"With noise reduction of 1 std\")\n",
    "            plt.legend()"
   ]
  },
  {
   "cell_type": "code",
   "execution_count": 22,
   "metadata": {},
   "outputs": [
    {
     "name": "stderr",
     "output_type": "stream",
     "text": [
      "C:\\Users\\madha\\anaconda3\\lib\\site-packages\\ipykernel_launcher.py:35: FutureWarning: Boolean inputs to the `inclusive` argument are deprecated infavour of `both` or `neither`.\n"
     ]
    },
    {
     "data": {
      "image/png": "[encoded data removed]",
      "text/plain": [
       "<Figure size 576x288 with 1 Axes>"
      ]
     },
     "metadata": {
      "needs_background": "light"
     },
     "output_type": "display_data"
    }
   ],
   "source": [
    "features = []\n",
    "i = 0\n",
    "subdir = \"4\"\n",
    "for files in os.listdir(os.path.join(folder_path,subdir)):\n",
    "\n",
    "    filepath = os.path.join(folder_path,subdir,files)\n",
    "\n",
    "    #Check if acc file, read data and find statistics - create a list with name\n",
    "    if filepath.endswith(\"HR.csv\"):\n",
    "\n",
    "            #Reading emotion labels and creating timestamp based on participant's debate times\n",
    "            emotion_label = pd.read_csv(emotion_data_path+\"P\"+str(subdir)+\".self.csv\",usecols=[0,1,2])\n",
    "            emotion_label['timestamp'] = duration[duration['pid']==int(subdir)].startTime.iloc[0] + pd.to_timedelta(emotion_label['seconds'],'s')\n",
    "\n",
    "            #Reading heart rate and converting timestamp to readable format\n",
    "            heart_rate_raw = pd.read_csv(filepath, usecols=['timestamp', 'pid','value', 'device_serial'],header=0)\n",
    "            heart_rate_raw['timestamp'] =  pd.to_datetime(heart_rate_raw['timestamp'],unit='ms')\n",
    "\n",
    "            #Removing outliers\n",
    "            heart_rate_outliers_removed = remove_outliers_heart_rate(heart_rate_raw,\"value\")\n",
    "                \n",
    "            # Plotting\n",
    "            plt.figure(figsize=(8,4))\n",
    "            plt.plot(heart_rate_raw['timestamp'],heart_rate_raw['value'], label=\"Without noise reduction\", color=\"red\", alpha=0.7)\n",
    "            plt.title(\"Heart rate data for participant ID \"+subdir)\n",
    "            plt.xlabel(\"Time\")\n",
    "            plt.ylabel(\"value\")\n",
    "#             plt.legend()"
   ]
  },
  {
   "cell_type": "code",
   "execution_count": 98,
   "metadata": {},
   "outputs": [],
   "source": [
    "def accelerometer_features(folder_path,sampling_rate,save_data_individually=False):\n",
    "    \n",
    "    \"\"\"Obtain features from accelerometer data.\n",
    "    \n",
    "    Args:\n",
    "        folder_path(str): Path to the main folder.\n",
    "        sampling_rate: Rate at which to sample and calculate statistics\n",
    "        save_data_individually: Save each feature matrix per participant\n",
    "        \n",
    "    Returns:\n",
    "        Data frame with features: Count, Mean, Std, Min, Q1, Median, Q3, Max, Skewness, Kurtosis, Range\n",
    "    \"\"\"\n",
    "    \n",
    "    features = []\n",
    "    i = 0\n",
    "    for subdir in os.listdir(folder_path):\n",
    "        i+= 1\n",
    "        for files in os.listdir(os.path.join(folder_path,subdir)):\n",
    "            \n",
    "            filepath = os.path.join(folder_path,subdir,files)\n",
    "\n",
    "            #Check if acc file, read data and find statistics - create a list with name\n",
    "            if filepath.endswith(\"ACC.csv\"):\n",
    "                \n",
    "                    #Reading emotion labels and creating timestamp based on participant's debate times\n",
    "                    emotion_label = pd.read_csv(emotion_data_path+\"P\"+str(subdir)+\".self.csv\",usecols=[0,1,2])\n",
    "                    emotion_label['timestamp'] = duration[duration['pid']==int(subdir)].startTime.iloc[0] + pd.to_timedelta(emotion_label['seconds'],'s')\n",
    "                    \n",
    "                    #Reading data and converting timestamp to readable format\n",
    "                    data_raw = pd.read_csv(filepath, usecols=['timestamp', 'pid','x','y','z', 'device_serial'],header=0)\n",
    "                    data_raw['timestamp'] =  pd.to_datetime(data_raw['timestamp'],unit='ms')\n",
    "                    \n",
    "                    #Merging accelerometer (x,y,z) positional data to represent in one value\n",
    "                    data_raw['m'] = data_raw.apply(lambda row: np.sqrt(row['x']**2 + row['y']**2 + row['z']**2), axis=1)\n",
    "                    \n",
    "                    # Removing incorrect device serial from 29, 30, 31, 32\n",
    "                    if (subdir == \"29\" or subdir == \"31\"):\n",
    "                        print(\"Before\", subdir, data_raw.shape)\n",
    "                        data_raw = data_raw.loc[data_raw.device_serial == \"A013E1\"]\n",
    "                        print(\"After\", subdir,data_raw.shape)\n",
    "                    elif (subdir == \"30\" or subdir == \"32\"): \n",
    "                        data_raw = data_raw.loc[data_raw.device_serial == \"A01A3A\"]\n",
    "                    \n",
    "                    #Removing outliers\n",
    "                    data_raw_outliers_removed = remove_outliers_acc(data_raw,\"m\",2)\n",
    "                    \n",
    "                    #Keeping only data that is within the debate start and stop times\n",
    "                    start = duration[duration['pid']==int(subdir)].startTime.iloc[0]\n",
    "                    end = duration[duration['pid']==int(subdir)].endTime.iloc[0]\n",
    "                    start_time = str(start.time())\n",
    "                    \n",
    "                    data = data_raw_outliers_removed[(data_raw_outliers_removed['timestamp'] >= start) & (data_raw_outliers_removed['timestamp'] <= end)]\n",
    "                    \n",
    "                    #Grouping samples in 5 second time windows (to match with emotion label annotation frequency) and generating statistics\n",
    "                    rolling_df = data[['timestamp','m']].groupby(pd.Grouper(key='timestamp',freq='5S', offset=start_time, closed='right',label='right')).describe()\n",
    "                    rolling_df = rolling_df.droplevel(level=0,axis=1) # Dropping the extra labels\n",
    "                    rolling_df['data_range'] = rolling_df['max'] - rolling_df['min']\n",
    "                    rolling_df['skewness'] = data[['timestamp','m']].groupby(pd.Grouper(key='timestamp', offset=start_time, freq='5S', closed='right',label='right')).skew()\n",
    "                    rolling_df['kurtosis'] = data[['timestamp','m']].groupby(pd.Grouper(key='timestamp', offset=start_time, freq='5S', closed='right',label='right')).apply(pd.DataFrame.kurtosis)\n",
    "                    rolling_df['pid'] = data['pid'].iloc[0]\n",
    "                    \n",
    "                    #Keeping only data that is within the debate start and stop times and merging emotion label data\n",
    "                    data_emotion_labels = pd.merge(emotion_label[['timestamp','arousal','valence']], rolling_df, on='timestamp')\n",
    "                    data_emotion_labels = data_emotion_labels[(data_emotion_labels['timestamp'] >= start) & (data_emotion_labels['timestamp'] <= end)]\n",
    "                   \n",
    "                    #Binarize emotion label\n",
    "                    data_emotion_labels['arousal_bin'] = data_emotion_labels['arousal'].apply(lambda x:0 if x < 3 else 1)\n",
    "                    data_emotion_labels['valence_bin'] = data_emotion_labels['valence'].apply(lambda x:0 if x < 3 else 1)\n",
    "                    \n",
    "                    print(subdir)\n",
    "                    print(\"Before removing\", data_emotion_labels.shape[0])\n",
    "                    \n",
    "                    #Removing rows which have less than 5 seconds of samples\n",
    "                    # data_emotion_labels = data_emotion_labels.drop(data_emotion_labels[data_emotion_labels['count'] < sampling_rate].index)\n",
    "                    \n",
    "                    print(\"After removing\", data_emotion_labels.shape[0])\n",
    "                   \n",
    "                    #Saving features in list\n",
    "                    features.append(data_emotion_labels)\n",
    "                    \n",
    "\n",
    "            if(save_data_individually):\n",
    "                data_emotion_labels.to_csv('accelerometer_features_'+subdir+'.csv',index=False)\n",
    "                print(\"Saving data for pid\",subdir)\n",
    "        \n",
    "        #Combine features from all pids\n",
    "        features_final = pd.concat(features)\n",
    "        features_final = features_final.reset_index(drop=True)\n",
    "        \n",
    "    return features_final     \n",
    "    "
   ]
  },
  {
   "cell_type": "code",
   "execution_count": 9,
   "metadata": {},
   "outputs": [],
   "source": [
    "def temperature_features(folder_path,sampling_rate,save_data_individually=False):\n",
    "    \n",
    "    \n",
    "    \"\"\"Obtain features from temperature data.\n",
    "    \n",
    "    Args:\n",
    "        folder_path(str): Path to the main folder.\n",
    "        sampling_rate: Rate at which to sample and calculate statistics\n",
    "        save_data_individually: Save each feature matrix per participant\n",
    "        \n",
    "    Returns:\n",
    "        Data frame with features: Count, Mean, Std, Min, Q1, Median, Q3, Max, Skewness, Kurtosis, Range\n",
    "    \"\"\"\n",
    "    \n",
    "    features = []\n",
    "    i = 0\n",
    "    for subdir in os.listdir(folder_path):\n",
    "        i+= 1\n",
    "        for files in os.listdir(os.path.join(folder_path,subdir)):\n",
    "            \n",
    "            filepath = os.path.join(folder_path,subdir,files)\n",
    "\n",
    "            #Check if temp file, read data and find statistics - create a list with name\n",
    "            if filepath.endswith(\"TEMP.csv\"):\n",
    "                \n",
    "                #Reading emotion labels and creating timestamp based on participant's debate times\n",
    "                emotion_label = pd.read_csv(emotion_data_path+\"P\"+str(subdir)+\".self.csv\",usecols=[0,1,2])\n",
    "                emotion_label['timestamp'] = duration[duration['pid']==int(subdir)].startTime.iloc[0] + pd.to_timedelta(emotion_label['seconds'],'s')\n",
    "                \n",
    "                #Reading data and converting timestamp to readable format\n",
    "                data = pd.read_csv(filepath, usecols=['timestamp', 'pid','value'],header=0)\n",
    "                data['timestamp'] =  pd.to_datetime(data['timestamp'],unit='ms')\n",
    "                \n",
    "                #Grouping samples in 5 second time windows (to match with emotion label annotation frequency) and generating statistics\n",
    "                rolling_df = data[['timestamp','value']].groupby(pd.Grouper(key='timestamp',freq='5S')).describe()\n",
    "                rolling_df = rolling_df.droplevel(level=0,axis=1) # Dropping the extra labels\n",
    "                rolling_df['data_range'] = rolling_df['max'] - rolling_df['min']\n",
    "                rolling_df['skewness'] = data[['timestamp','value']].groupby(pd.Grouper(key='timestamp',freq='5S')).skew()\n",
    "                rolling_df['kurtosis'] = data[['timestamp','value']].groupby(pd.Grouper(key='timestamp',freq='5S')).apply(pd.DataFrame.kurtosis)\n",
    "                rolling_df['pid'] = data['pid'][0]\n",
    "\n",
    "                #Keeping only data that is within the debate start and stop times and merging emotion label data\n",
    "                data_emotion_labels = pd.merge(emotion_label[['timestamp','arousal','valence']], rolling_df, on='timestamp')\n",
    "\n",
    "                #Binarize emotion label\n",
    "                data_emotion_labels['arousal_bin'] = data_emotion_labels['arousal'].apply(lambda x:0 if x < 3 else 1)\n",
    "                data_emotion_labels['valence_bin'] = data_emotion_labels['valence'].apply(lambda x:0 if x < 3 else 1)\n",
    "\n",
    "                #Removing rows which have less than 5 seconds of samples\n",
    "                data_emotion_labels = data_emotion_labels.drop(data_emotion_labels[data_emotion_labels['count'] < sampling_rate].index)\n",
    "\n",
    "                #Saving features in list\n",
    "                features.append(data_emotion_labels)\n",
    "\n",
    "\n",
    "            if(save_data_individually):\n",
    "                data_emotion_labels.to_csv('temperature_features_'+subdir+'.csv',index=False)\n",
    "                print(\"Saving data for pid\",subdir)\n",
    "        \n",
    "        #Combine features from all pids\n",
    "        features_final = pd.concat(features)\n",
    "        features_final = features_final.reset_index(drop=True)\n",
    "        \n",
    "    return features_final"
   ]
  },
  {
   "cell_type": "code",
   "execution_count": null,
   "metadata": {},
   "outputs": [],
   "source": [
    "# sample_rate_acc = 32 #in Hz\n",
    "# window_acc = 5 # Every x seconds the emotions were annotated\n",
    "# sampling_rate_acc = sample_rate_acc*window_acc\n",
    "# ACC_features = accelerometer_features(folder_path,sampling_rate_acc,save_data_individually=False)   "
   ]
  },
  {
   "cell_type": "code",
   "execution_count": 99,
   "metadata": {
    "scrolled": true
   },
   "outputs": [
    {
     "name": "stderr",
     "output_type": "stream",
     "text": [
      "C:\\Users\\madha\\anaconda3\\lib\\site-packages\\ipykernel_launcher.py:35: FutureWarning: Boolean inputs to the `inclusive` argument are deprecated infavour of `both` or `neither`.\n"
     ]
    },
    {
     "name": "stdout",
     "output_type": "stream",
     "text": [
      "Participant: 1\n",
      "Before removing 170\n",
      "After removing 170\n"
     ]
    },
    {
     "name": "stderr",
     "output_type": "stream",
     "text": [
      "C:\\Users\\madha\\anaconda3\\lib\\site-packages\\ipykernel_launcher.py:35: FutureWarning: Boolean inputs to the `inclusive` argument are deprecated infavour of `both` or `neither`.\n"
     ]
    },
    {
     "name": "stdout",
     "output_type": "stream",
     "text": [
      "Participant: 10\n",
      "Before removing 120\n",
      "After removing 120\n"
     ]
    },
    {
     "name": "stderr",
     "output_type": "stream",
     "text": [
      "C:\\Users\\madha\\anaconda3\\lib\\site-packages\\ipykernel_launcher.py:35: FutureWarning: Boolean inputs to the `inclusive` argument are deprecated infavour of `both` or `neither`.\n"
     ]
    },
    {
     "name": "stdout",
     "output_type": "stream",
     "text": [
      "Participant: 11\n",
      "Before removing 120\n",
      "After removing 120\n"
     ]
    },
    {
     "name": "stderr",
     "output_type": "stream",
     "text": [
      "C:\\Users\\madha\\anaconda3\\lib\\site-packages\\ipykernel_launcher.py:35: FutureWarning: Boolean inputs to the `inclusive` argument are deprecated infavour of `both` or `neither`.\n"
     ]
    },
    {
     "name": "stdout",
     "output_type": "stream",
     "text": [
      "Participant: 12\n",
      "Before removing 120\n",
      "After removing 120\n"
     ]
    },
    {
     "name": "stderr",
     "output_type": "stream",
     "text": [
      "C:\\Users\\madha\\anaconda3\\lib\\site-packages\\ipykernel_launcher.py:35: FutureWarning: Boolean inputs to the `inclusive` argument are deprecated infavour of `both` or `neither`.\n"
     ]
    },
    {
     "name": "stdout",
     "output_type": "stream",
     "text": [
      "Participant: 13\n",
      "Before removing 121\n",
      "After removing 121\n"
     ]
    },
    {
     "name": "stderr",
     "output_type": "stream",
     "text": [
      "C:\\Users\\madha\\anaconda3\\lib\\site-packages\\ipykernel_launcher.py:35: FutureWarning: Boolean inputs to the `inclusive` argument are deprecated infavour of `both` or `neither`.\n"
     ]
    },
    {
     "name": "stdout",
     "output_type": "stream",
     "text": [
      "Participant: 14\n",
      "Before removing 117\n",
      "After removing 117\n"
     ]
    },
    {
     "name": "stderr",
     "output_type": "stream",
     "text": [
      "C:\\Users\\madha\\anaconda3\\lib\\site-packages\\ipykernel_launcher.py:35: FutureWarning: Boolean inputs to the `inclusive` argument are deprecated infavour of `both` or `neither`.\n"
     ]
    },
    {
     "name": "stdout",
     "output_type": "stream",
     "text": [
      "Participant: 15\n",
      "Before removing 121\n",
      "After removing 121\n"
     ]
    },
    {
     "name": "stderr",
     "output_type": "stream",
     "text": [
      "C:\\Users\\madha\\anaconda3\\lib\\site-packages\\ipykernel_launcher.py:35: FutureWarning: Boolean inputs to the `inclusive` argument are deprecated infavour of `both` or `neither`.\n"
     ]
    },
    {
     "name": "stdout",
     "output_type": "stream",
     "text": [
      "Participant: 16\n",
      "Before removing 121\n",
      "After removing 121\n"
     ]
    },
    {
     "name": "stderr",
     "output_type": "stream",
     "text": [
      "C:\\Users\\madha\\anaconda3\\lib\\site-packages\\ipykernel_launcher.py:35: FutureWarning: Boolean inputs to the `inclusive` argument are deprecated infavour of `both` or `neither`.\n"
     ]
    },
    {
     "name": "stdout",
     "output_type": "stream",
     "text": [
      "Participant: 17\n",
      "Before removing 96\n",
      "After removing 96\n"
     ]
    },
    {
     "name": "stderr",
     "output_type": "stream",
     "text": [
      "C:\\Users\\madha\\anaconda3\\lib\\site-packages\\ipykernel_launcher.py:35: FutureWarning: Boolean inputs to the `inclusive` argument are deprecated infavour of `both` or `neither`.\n"
     ]
    },
    {
     "name": "stdout",
     "output_type": "stream",
     "text": [
      "Participant: 18\n",
      "Before removing 126\n",
      "After removing 126\n"
     ]
    },
    {
     "name": "stderr",
     "output_type": "stream",
     "text": [
      "C:\\Users\\madha\\anaconda3\\lib\\site-packages\\ipykernel_launcher.py:35: FutureWarning: Boolean inputs to the `inclusive` argument are deprecated infavour of `both` or `neither`.\n"
     ]
    },
    {
     "name": "stdout",
     "output_type": "stream",
     "text": [
      "Participant: 19\n",
      "Before removing 123\n",
      "After removing 123\n"
     ]
    },
    {
     "name": "stderr",
     "output_type": "stream",
     "text": [
      "C:\\Users\\madha\\anaconda3\\lib\\site-packages\\ipykernel_launcher.py:35: FutureWarning: Boolean inputs to the `inclusive` argument are deprecated infavour of `both` or `neither`.\n"
     ]
    },
    {
     "name": "stdout",
     "output_type": "stream",
     "text": [
      "Participant: 20\n",
      "Before removing 123\n",
      "After removing 123\n"
     ]
    },
    {
     "name": "stderr",
     "output_type": "stream",
     "text": [
      "C:\\Users\\madha\\anaconda3\\lib\\site-packages\\ipykernel_launcher.py:35: FutureWarning: Boolean inputs to the `inclusive` argument are deprecated infavour of `both` or `neither`.\n"
     ]
    },
    {
     "name": "stdout",
     "output_type": "stream",
     "text": [
      "Participant: 21\n",
      "Before removing 119\n",
      "After removing 119\n"
     ]
    },
    {
     "name": "stderr",
     "output_type": "stream",
     "text": [
      "C:\\Users\\madha\\anaconda3\\lib\\site-packages\\ipykernel_launcher.py:35: FutureWarning: Boolean inputs to the `inclusive` argument are deprecated infavour of `both` or `neither`.\n"
     ]
    },
    {
     "name": "stdout",
     "output_type": "stream",
     "text": [
      "Participant: 22\n",
      "Before removing 120\n",
      "After removing 120\n"
     ]
    },
    {
     "name": "stderr",
     "output_type": "stream",
     "text": [
      "C:\\Users\\madha\\anaconda3\\lib\\site-packages\\ipykernel_launcher.py:35: FutureWarning: Boolean inputs to the `inclusive` argument are deprecated infavour of `both` or `neither`.\n"
     ]
    },
    {
     "name": "stdout",
     "output_type": "stream",
     "text": [
      "Participant: 23\n",
      "Before removing 121\n",
      "After removing 121\n"
     ]
    },
    {
     "name": "stderr",
     "output_type": "stream",
     "text": [
      "C:\\Users\\madha\\anaconda3\\lib\\site-packages\\ipykernel_launcher.py:35: FutureWarning: Boolean inputs to the `inclusive` argument are deprecated infavour of `both` or `neither`.\n"
     ]
    },
    {
     "name": "stdout",
     "output_type": "stream",
     "text": [
      "Participant: 24\n",
      "Before removing 121\n",
      "After removing 121\n"
     ]
    },
    {
     "name": "stderr",
     "output_type": "stream",
     "text": [
      "C:\\Users\\madha\\anaconda3\\lib\\site-packages\\ipykernel_launcher.py:35: FutureWarning: Boolean inputs to the `inclusive` argument are deprecated infavour of `both` or `neither`.\n"
     ]
    },
    {
     "name": "stdout",
     "output_type": "stream",
     "text": [
      "Participant: 25\n",
      "Before removing 124\n",
      "After removing 124\n"
     ]
    },
    {
     "name": "stderr",
     "output_type": "stream",
     "text": [
      "C:\\Users\\madha\\anaconda3\\lib\\site-packages\\ipykernel_launcher.py:35: FutureWarning: Boolean inputs to the `inclusive` argument are deprecated infavour of `both` or `neither`.\n"
     ]
    },
    {
     "name": "stdout",
     "output_type": "stream",
     "text": [
      "Participant: 26\n",
      "Before removing 124\n",
      "After removing 124\n"
     ]
    },
    {
     "name": "stderr",
     "output_type": "stream",
     "text": [
      "C:\\Users\\madha\\anaconda3\\lib\\site-packages\\ipykernel_launcher.py:35: FutureWarning: Boolean inputs to the `inclusive` argument are deprecated infavour of `both` or `neither`.\n"
     ]
    },
    {
     "name": "stdout",
     "output_type": "stream",
     "text": [
      "Participant: 27\n",
      "Before removing 121\n",
      "After removing 121\n"
     ]
    },
    {
     "name": "stderr",
     "output_type": "stream",
     "text": [
      "C:\\Users\\madha\\anaconda3\\lib\\site-packages\\ipykernel_launcher.py:35: FutureWarning: Boolean inputs to the `inclusive` argument are deprecated infavour of `both` or `neither`.\n"
     ]
    },
    {
     "name": "stdout",
     "output_type": "stream",
     "text": [
      "Participant: 28\n",
      "Before removing 121\n",
      "After removing 121\n",
      "Before 29 (2162, 4)\n",
      "After 29 (1085, 4)\n"
     ]
    },
    {
     "name": "stderr",
     "output_type": "stream",
     "text": [
      "C:\\Users\\madha\\anaconda3\\lib\\site-packages\\ipykernel_launcher.py:35: FutureWarning: Boolean inputs to the `inclusive` argument are deprecated infavour of `both` or `neither`.\n"
     ]
    },
    {
     "name": "stdout",
     "output_type": "stream",
     "text": [
      "Participant: 29\n",
      "Before removing 121\n",
      "After removing 121\n"
     ]
    },
    {
     "name": "stderr",
     "output_type": "stream",
     "text": [
      "C:\\Users\\madha\\anaconda3\\lib\\site-packages\\ipykernel_launcher.py:35: FutureWarning: Boolean inputs to the `inclusive` argument are deprecated infavour of `both` or `neither`.\n"
     ]
    },
    {
     "name": "stdout",
     "output_type": "stream",
     "text": [
      "Participant: 30\n",
      "Before removing 121\n",
      "After removing 121\n",
      "Before 31 (2113, 4)\n",
      "After 31 (1071, 4)\n"
     ]
    },
    {
     "name": "stderr",
     "output_type": "stream",
     "text": [
      "C:\\Users\\madha\\anaconda3\\lib\\site-packages\\ipykernel_launcher.py:35: FutureWarning: Boolean inputs to the `inclusive` argument are deprecated infavour of `both` or `neither`.\n"
     ]
    },
    {
     "name": "stdout",
     "output_type": "stream",
     "text": [
      "Participant: 31\n",
      "Before removing 128\n",
      "After removing 128\n"
     ]
    },
    {
     "name": "stderr",
     "output_type": "stream",
     "text": [
      "C:\\Users\\madha\\anaconda3\\lib\\site-packages\\ipykernel_launcher.py:35: FutureWarning: Boolean inputs to the `inclusive` argument are deprecated infavour of `both` or `neither`.\n"
     ]
    },
    {
     "name": "stdout",
     "output_type": "stream",
     "text": [
      "Participant: 32\n",
      "Before removing 129\n",
      "After removing 129\n"
     ]
    },
    {
     "name": "stderr",
     "output_type": "stream",
     "text": [
      "C:\\Users\\madha\\anaconda3\\lib\\site-packages\\ipykernel_launcher.py:35: FutureWarning: Boolean inputs to the `inclusive` argument are deprecated infavour of `both` or `neither`.\n"
     ]
    },
    {
     "name": "stdout",
     "output_type": "stream",
     "text": [
      "Participant: 4\n",
      "Before removing 136\n",
      "After removing 136\n"
     ]
    },
    {
     "name": "stderr",
     "output_type": "stream",
     "text": [
      "C:\\Users\\madha\\anaconda3\\lib\\site-packages\\ipykernel_launcher.py:35: FutureWarning: Boolean inputs to the `inclusive` argument are deprecated infavour of `both` or `neither`.\n"
     ]
    },
    {
     "name": "stdout",
     "output_type": "stream",
     "text": [
      "Participant: 5\n",
      "Before removing 124\n",
      "After removing 124\n"
     ]
    },
    {
     "name": "stderr",
     "output_type": "stream",
     "text": [
      "C:\\Users\\madha\\anaconda3\\lib\\site-packages\\ipykernel_launcher.py:35: FutureWarning: Boolean inputs to the `inclusive` argument are deprecated infavour of `both` or `neither`.\n"
     ]
    },
    {
     "name": "stdout",
     "output_type": "stream",
     "text": [
      "Participant: 8\n",
      "Before removing 120\n",
      "After removing 120\n"
     ]
    },
    {
     "name": "stderr",
     "output_type": "stream",
     "text": [
      "C:\\Users\\madha\\anaconda3\\lib\\site-packages\\ipykernel_launcher.py:35: FutureWarning: Boolean inputs to the `inclusive` argument are deprecated infavour of `both` or `neither`.\n"
     ]
    },
    {
     "name": "stdout",
     "output_type": "stream",
     "text": [
      "Participant: 9\n",
      "Before removing 122\n",
      "After removing 122\n",
      "1\n",
      "Before removing 170\n",
      "After removing 170\n",
      "10\n",
      "Before removing 120\n",
      "After removing 120\n",
      "11\n",
      "Before removing 120\n",
      "After removing 120\n",
      "12\n",
      "Before removing 120\n",
      "After removing 120\n",
      "13\n",
      "Before removing 121\n",
      "After removing 121\n",
      "14\n",
      "Before removing 117\n",
      "After removing 117\n",
      "15\n",
      "Before removing 121\n",
      "After removing 121\n",
      "16\n",
      "Before removing 121\n",
      "After removing 121\n",
      "17\n",
      "Before removing 97\n",
      "After removing 97\n",
      "18\n",
      "Before removing 126\n",
      "After removing 126\n",
      "19\n",
      "Before removing 123\n",
      "After removing 123\n",
      "20\n",
      "Before removing 123\n",
      "After removing 123\n",
      "21\n",
      "Before removing 119\n",
      "After removing 119\n",
      "22\n",
      "Before removing 120\n",
      "After removing 120\n",
      "23\n",
      "Before removing 121\n",
      "After removing 121\n",
      "24\n",
      "Before removing 121\n",
      "After removing 121\n",
      "25\n",
      "Before removing 124\n",
      "After removing 124\n",
      "26\n",
      "Before removing 124\n",
      "After removing 124\n",
      "27\n",
      "Before removing 121\n",
      "After removing 121\n",
      "28\n",
      "Before removing 121\n",
      "After removing 121\n",
      "Before 29 (69762, 7)\n",
      "After 29 (35009, 7)\n",
      "29\n",
      "Before removing 121\n",
      "After removing 121\n",
      "30\n",
      "Before removing 121\n",
      "After removing 121\n",
      "Before 31 (68194, 7)\n",
      "After 31 (34561, 7)\n",
      "31\n",
      "Before removing 128\n",
      "After removing 128\n",
      "32\n",
      "Before removing 129\n",
      "After removing 129\n",
      "4\n",
      "Before removing 136\n",
      "After removing 136\n",
      "5\n",
      "Before removing 124\n",
      "After removing 124\n",
      "8\n",
      "Before removing 120\n",
      "After removing 120\n",
      "9\n",
      "Before removing 122\n",
      "After removing 122\n"
     ]
    }
   ],
   "source": [
    "# Generate features\n",
    "\n",
    "# Heart rate\n",
    "sample_rate_hr = 1 #in Hz\n",
    "window_hr = 5 # Every x seconds the emotions were annotated\n",
    "sampling_rate_hr = sample_rate_hr*window_hr\n",
    "HR_features = heart_rate_features(folder_path,sampling_rate_hr,save_data_individually=False)\n",
    "\n",
    "#Accelerometer\n",
    "sample_rate_acc = 32 #in Hz\n",
    "window_acc = 5 # Every x seconds the emotions were annotated\n",
    "sampling_rate_acc = sample_rate_acc*window_acc\n",
    "ACC_features = accelerometer_features(folder_path,sampling_rate_acc,save_data_individually=False)    \n",
    "\n",
    "#Temperature\n",
    "# sample_rate_temp = 4 #in Hz\n",
    "# window_temp = 5 # Every x seconds the emotions were annotated\n",
    "# sampling_rate_temp = sample_rate_temp*window_temp              \n",
    "# TEMP_features = temperature_features(folder_path,sampling_rate_temp,save_data_individually=False)      \n"
   ]
  },
  {
   "cell_type": "code",
   "execution_count": 100,
   "metadata": {},
   "outputs": [
    {
     "name": "stdout",
     "output_type": "stream",
     "text": [
      "(3450, 17)\n",
      "(3450, 17)\n"
     ]
    }
   ],
   "source": [
    "print(HR_features.shape)\n",
    "print(HR_features.dropna().shape)"
   ]
  },
  {
   "cell_type": "code",
   "execution_count": 101,
   "metadata": {},
   "outputs": [
    {
     "name": "stdout",
     "output_type": "stream",
     "text": [
      "(3451, 17)\n",
      "(3451, 17)\n"
     ]
    }
   ],
   "source": [
    "print(ACC_features.shape)\n",
    "print(ACC_features.dropna().shape)"
   ]
  },
  {
   "cell_type": "code",
   "execution_count": 102,
   "metadata": {},
   "outputs": [],
   "source": [
    "# Drop rows with NA due to rolling window not finding 5 seconds of consecutive samples\n",
    "\n",
    "HR_features = HR_features.dropna()\n",
    "ACC_features = ACC_features.dropna()"
   ]
  },
  {
   "cell_type": "code",
   "execution_count": 103,
   "metadata": {},
   "outputs": [],
   "source": [
    "# Save data\n",
    "\n",
    "HR_features.to_csv('heart_rate_features_all_pid.csv',index=False)\n",
    "ACC_features.to_csv('accelerometer_features_all_pid.csv',index=False)\n",
    "#TEMP_features.to_csv('temperature_features_all_pid.csv',index=False)"
   ]
  }
 ],
 "metadata": {
  "kernelspec": {
   "display_name": "Python 3",
   "language": "python",
   "name": "python3"
  },
  "language_info": {
   "codemirror_mode": {
    "name": "ipython",
    "version": 3
   },
   "file_extension": ".py",
   "mimetype": "text/x-python",
   "name": "python",
   "nbconvert_exporter": "python",
   "pygments_lexer": "ipython3",
   "version": "3.7.6"
  }
 },
 "nbformat": 4,
 "nbformat_minor": 4
}
