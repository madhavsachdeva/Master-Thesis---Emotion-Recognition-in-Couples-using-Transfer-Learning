{
 "cells": [
  {
   "cell_type": "code",
   "execution_count": 1,
   "metadata": {},
   "outputs": [
    {
     "data": {
      "text/plain": [
       "'\\n\\nAuthor: Madhav Sachdeva\\nDate: 24 March, 2022\\nTitle: Helper functions for extracting features from lexical data\\n\\n'"
      ]
     },
     "execution_count": 1,
     "metadata": {},
     "output_type": "execute_result"
    }
   ],
   "source": [
    "'''\n",
    "\n",
    "Author: Madhav Sachdeva\n",
    "Date: 24 March, 2022\n",
    "Title: Helper functions for extracting features from lexical data\n",
    "\n",
    "'''"
   ]
  },
  {
   "cell_type": "code",
   "execution_count": 1,
   "metadata": {},
   "outputs": [],
   "source": [
    "from sentence_transformers import SentenceTransformer, models\n",
    "import numpy as np\n",
    "import pandas as pd\n",
    "from os.path import abspath\n",
    "import os\n"
   ]
  },
  {
   "cell_type": "code",
   "execution_count": 2,
   "metadata": {},
   "outputs": [],
   "source": [
    "def extract_lexical_features_bert(data):\n",
    "    # Reference: \n",
    "    # https://pypi.org/project/sentence-transformers/\n",
    "    # https://www.sbert.net/\n",
    "    \n",
    "    print ('Extracting linguistic features')\n",
    "    print ('Data shape' + str(data.shape))\n",
    "\n",
    "\n",
    "    sentences = data\n",
    "\n",
    "    # Get German BERT model\n",
    "    model = SentenceTransformer('bert-base-german-cased')\n",
    "    model.max_seq_length = 512\n",
    "\n",
    "    #print(\"Max Sequence Length: \", model.max_seq_length)\n",
    "\n",
    "    # Get sentence embeddings\n",
    "    sentence_embeddings = model.encode(sentences)\n",
    "\n",
    "    features = np.array(sentence_embeddings)\n",
    "    return features"
   ]
  },
  {
   "cell_type": "code",
   "execution_count": 3,
   "metadata": {},
   "outputs": [],
   "source": [
    "filepath = \"../data/VAM_Audio/docu/transcription.xls\"\n",
    "output_file = \"bertembeddings.csv\""
   ]
  },
  {
   "cell_type": "code",
   "execution_count": 4,
   "metadata": {},
   "outputs": [
    {
     "name": "stdout",
     "output_type": "stream",
     "text": [
      "Extracting linguistic features\n",
      "Data shape(947,)\n"
     ]
    },
    {
     "name": "stderr",
     "output_type": "stream",
     "text": [
      "WARNING:root:No sentence-transformers model found with name C:\\Users\\madha/.cache\\torch\\sentence_transformers\\bert-base-german-cased. Creating a new one with MEAN pooling.\n",
      "Some weights of the model checkpoint at C:\\Users\\madha/.cache\\torch\\sentence_transformers\\bert-base-german-cased were not used when initializing BertModel: ['cls.seq_relationship.weight', 'cls.predictions.transform.LayerNorm.bias', 'cls.predictions.transform.dense.weight', 'cls.predictions.bias', 'cls.predictions.decoder.weight', 'cls.seq_relationship.bias', 'cls.predictions.transform.dense.bias', 'cls.predictions.transform.LayerNorm.weight']\n",
      "- This IS expected if you are initializing BertModel from the checkpoint of a model trained on another task or with another architecture (e.g. initializing a BertForSequenceClassification model from a BertForPreTraining model).\n",
      "- This IS NOT expected if you are initializing BertModel from the checkpoint of a model that you expect to be exactly identical (initializing a BertForSequenceClassification model from a BertForSequenceClassification model).\n"
     ]
    }
   ],
   "source": [
    "data = pd.read_excel(filepath,usecols=\"A,C:F\",skiprows=1,dtype={'File name': 'string', 'Transcription': 'string'})\n",
    "text = data['Transcription']\n",
    "# print(text.to_numpy())\n",
    "text = text.replace(np.nan,\"[]\")\n",
    "sentence_embeddings = extract_lexical_features_bert(text)\n",
    "\n",
    "# Assign column names to the length of the vector\n",
    "columns = ['Col ' + str(i) for i in range(len(sentence_embeddings[0]))]\n",
    "text_embeddings = pd.DataFrame(sentence_embeddings, columns = columns)"
   ]
  },
  {
   "cell_type": "code",
   "execution_count": 8,
   "metadata": {},
   "outputs": [],
   "source": [
    "final_text_embeddings = text_embeddings.set_index(data['File name'])\n",
    "final_text_embeddings.to_csv(output_file,index=True)"
   ]
  }
 ],
 "metadata": {
  "kernelspec": {
   "display_name": "Python 3",
   "language": "python",
   "name": "python3"
  },
  "language_info": {
   "codemirror_mode": {
    "name": "ipython",
    "version": 3
   },
   "file_extension": ".py",
   "mimetype": "text/x-python",
   "name": "python",
   "nbconvert_exporter": "python",
   "pygments_lexer": "ipython3",
   "version": "3.7.6"
  }
 },
 "nbformat": 4,
 "nbformat_minor": 4
}
